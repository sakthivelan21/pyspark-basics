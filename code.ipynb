{
 "cells": [
  {
   "cell_type": "markdown",
   "metadata": {},
   "source": [
    "# PySpark basics in python\n",
    "  PySpark is an interface for Apache Spark in Python. It not only allows you to write Spark applications using Python APIs, but also provides the PySpark shell for interactively analyzing your data in a distributed environment. PySpark supports most of Spark’s features such as Spark SQL, DataFrame, Streaming, MLlib (Machine Learning) and Spark Core.\n"
   ]
  },
  {
   "cell_type": "markdown",
   "metadata": {},
   "source": [
    "### Initializing SparkSession\n",
    "PySpark applications start with initializing SparkSession which is the entry point of PySpark"
   ]
  },
  {
   "cell_type": "code",
   "execution_count": 1,
   "metadata": {},
   "outputs": [],
   "source": [
    "# importing the SparkSession from pyspark\n",
    "from pyspark.sql import SparkSession"
   ]
  },
  {
   "cell_type": "code",
   "execution_count": 2,
   "metadata": {},
   "outputs": [],
   "source": [
    "# getting the instance of SparkSession of App Name First_App\n",
    "spark = SparkSession.builder.appName('First_App').getOrCreate()"
   ]
  },
  {
   "cell_type": "code",
   "execution_count": 6,
   "metadata": {},
   "outputs": [
    {
     "data": {
      "text/html": [
       "\n",
       "            <div>\n",
       "                <p><b>SparkSession - in-memory</b></p>\n",
       "                \n",
       "        <div>\n",
       "            <p><b>SparkContext</b></p>\n",
       "\n",
       "            <p><a href=\"http://SAKTHI-LAPTOP-E7450:4040\">Spark UI</a></p>\n",
       "\n",
       "            <dl>\n",
       "              <dt>Version</dt>\n",
       "                <dd><code>v3.3.0</code></dd>\n",
       "              <dt>Master</dt>\n",
       "                <dd><code>local[*]</code></dd>\n",
       "              <dt>AppName</dt>\n",
       "                <dd><code>First_App</code></dd>\n",
       "            </dl>\n",
       "        </div>\n",
       "        \n",
       "            </div>\n",
       "        "
      ],
      "text/plain": [
       "<pyspark.sql.session.SparkSession at 0x1e618f7b6a0>"
      ]
     },
     "execution_count": 6,
     "metadata": {},
     "output_type": "execute_result"
    }
   ],
   "source": [
    "spark"
   ]
  },
  {
   "cell_type": "markdown",
   "metadata": {},
   "source": [
    "### Reading Pokemon Data Set from CSV file "
   ]
  },
  {
   "cell_type": "code",
   "execution_count": 3,
   "metadata": {},
   "outputs": [],
   "source": [
    "# reading the csv file of pokemon data set into spark\n",
    "# without header it will not be able to header data as column names. it will take like c0,c1 etc\n",
    "# inferSchema is required to take the data type correctly else everything will be in string data type by default\n",
    "df_spark = spark.read.csv('pokemon_data.csv',header=True,inferSchema=True)\n"
   ]
  },
  {
   "cell_type": "markdown",
   "metadata": {},
   "source": [
    "### To Display the read CSV "
   ]
  },
  {
   "cell_type": "code",
   "execution_count": 4,
   "metadata": {},
   "outputs": [
    {
     "name": "stdout",
     "output_type": "stream",
     "text": [
      "+---+--------------------+------+------+---+------+-------+-------+-------+-----+----------+---------+\n",
      "|  #|                Name|Type 1|Type 2| HP|Attack|Defense|Sp. Atk|Sp. Def|Speed|Generation|Legendary|\n",
      "+---+--------------------+------+------+---+------+-------+-------+-------+-----+----------+---------+\n",
      "|  1|           Bulbasaur| Grass|Poison| 45|    49|     49|     65|     65|   45|         1|    FALSE|\n",
      "|  2|             Ivysaur| Grass|Poison| 60|    62|     63|     80|     80|   60|         1|    FALSE|\n",
      "|  3|            Venusaur| Grass|Poison| 80|    82|     83|    100|    100|   80|         1|    FALSE|\n",
      "|  3|VenusaurMega Venu...| Grass|Poison| 80|   100|    123|    122|    120|   80|         1|    FALSE|\n",
      "|  4|          Charmander|  Fire|  null| 39|    52|     43|     60|     50|   65|         1|    FALSE|\n",
      "|  5|          Charmeleon|  Fire|  null| 58|    64|     58|     80|     65|   80|         1|    FALSE|\n",
      "|  6|           Charizard|  Fire|Flying| 78|    84|     78|    109|     85|  100|         1|    FALSE|\n",
      "|  6|CharizardMega Cha...|  Fire|Dragon| 78|   130|    111|    130|     85|  100|         1|    FALSE|\n",
      "|  6|CharizardMega Cha...|  Fire|Flying| 78|   104|     78|    159|    115|  100|         1|    FALSE|\n",
      "|  7|            Squirtle| Water|  null| 44|    48|     65|     50|     64|   43|         1|    FALSE|\n",
      "|  8|           Wartortle| Water|  null| 59|    63|     80|     65|     80|   58|         1|    FALSE|\n",
      "|  9|           Blastoise| Water|  null| 79|    83|    100|     85|    105|   78|         1|    FALSE|\n",
      "|  9|BlastoiseMega Bla...| Water|  null| 79|   103|    120|    135|    115|   78|         1|    FALSE|\n",
      "| 10|            Caterpie|   Bug|  null| 45|    30|     35|     20|     20|   45|         1|    FALSE|\n",
      "| 11|             Metapod|   Bug|  null| 50|    20|     55|     25|     25|   30|         1|    FALSE|\n",
      "| 12|          Butterfree|   Bug|Flying| 60|    45|     50|     90|     80|   70|         1|    FALSE|\n",
      "| 13|              Weedle|   Bug|Poison| 40|    35|     30|     20|     20|   50|         1|    FALSE|\n",
      "| 14|              Kakuna|   Bug|Poison| 45|    25|     50|     25|     25|   35|         1|    FALSE|\n",
      "| 15|            Beedrill|   Bug|Poison| 65|    90|     40|     45|     80|   75|         1|    FALSE|\n",
      "| 15|BeedrillMega Beed...|   Bug|Poison| 65|   150|     40|     15|     80|  145|         1|    FALSE|\n",
      "+---+--------------------+------+------+---+------+-------+-------+-------+-----+----------+---------+\n",
      "only showing top 20 rows\n",
      "\n"
     ]
    }
   ],
   "source": [
    "# displaying the data read from the csv\n",
    "df_spark.show()"
   ]
  },
  {
   "cell_type": "code",
   "execution_count": 7,
   "metadata": {},
   "outputs": [
    {
     "name": "stdout",
     "output_type": "stream",
     "text": [
      "+---+---------+------+------+---+------+-------+-------+-------+-----+----------+---------+\n",
      "|  #|     Name|Type 1|Type 2| HP|Attack|Defense|Sp. Atk|Sp. Def|Speed|Generation|Legendary|\n",
      "+---+---------+------+------+---+------+-------+-------+-------+-----+----------+---------+\n",
      "|  1|Bulbasaur| Grass|Poison| 45|    49|     49|     65|     65|   45|         1|    FALSE|\n",
      "+---+---------+------+------+---+------+-------+-------+-------+-----+----------+---------+\n",
      "only showing top 1 row\n",
      "\n"
     ]
    }
   ],
   "source": [
    "# to display the first row\n",
    "df_spark.show(1)"
   ]
  },
  {
   "cell_type": "markdown",
   "metadata": {},
   "source": [
    "### Configuration for eager evaluation of pyspark Dataframe\n",
    "Alternatively, you can enable `spark.sql.repl.eagerEval.enabled` configuration for the eager evaluation of PySpark DataFrame in notebooks such as Jupyter. The number of rows to show can be controlled via `spark.sql.repl.eagerEval.maxNumRows` configuration."
   ]
  },
  {
   "cell_type": "code",
   "execution_count": 5,
   "metadata": {},
   "outputs": [],
   "source": [
    "spark.conf.set('spark.sql.repl.eagerEval.enabled', True)"
   ]
  },
  {
   "cell_type": "code",
   "execution_count": 10,
   "metadata": {},
   "outputs": [
    {
     "data": {
      "text/html": [
       "<table border='1'>\n",
       "<tr><th>#</th><th>Name</th><th>Type 1</th><th>Type 2</th><th>HP</th><th>Attack</th><th>Defense</th><th>Sp. Atk</th><th>Sp. Def</th><th>Speed</th><th>Generation</th><th>Legendary</th></tr>\n",
       "<tr><td>1</td><td>Bulbasaur</td><td>Grass</td><td>Poison</td><td>45</td><td>49</td><td>49</td><td>65</td><td>65</td><td>45</td><td>1</td><td>FALSE</td></tr>\n",
       "<tr><td>2</td><td>Ivysaur</td><td>Grass</td><td>Poison</td><td>60</td><td>62</td><td>63</td><td>80</td><td>80</td><td>60</td><td>1</td><td>FALSE</td></tr>\n",
       "<tr><td>3</td><td>Venusaur</td><td>Grass</td><td>Poison</td><td>80</td><td>82</td><td>83</td><td>100</td><td>100</td><td>80</td><td>1</td><td>FALSE</td></tr>\n",
       "<tr><td>3</td><td>VenusaurMega Venu...</td><td>Grass</td><td>Poison</td><td>80</td><td>100</td><td>123</td><td>122</td><td>120</td><td>80</td><td>1</td><td>FALSE</td></tr>\n",
       "<tr><td>4</td><td>Charmander</td><td>Fire</td><td>null</td><td>39</td><td>52</td><td>43</td><td>60</td><td>50</td><td>65</td><td>1</td><td>FALSE</td></tr>\n",
       "<tr><td>5</td><td>Charmeleon</td><td>Fire</td><td>null</td><td>58</td><td>64</td><td>58</td><td>80</td><td>65</td><td>80</td><td>1</td><td>FALSE</td></tr>\n",
       "<tr><td>6</td><td>Charizard</td><td>Fire</td><td>Flying</td><td>78</td><td>84</td><td>78</td><td>109</td><td>85</td><td>100</td><td>1</td><td>FALSE</td></tr>\n",
       "<tr><td>6</td><td>CharizardMega Cha...</td><td>Fire</td><td>Dragon</td><td>78</td><td>130</td><td>111</td><td>130</td><td>85</td><td>100</td><td>1</td><td>FALSE</td></tr>\n",
       "<tr><td>6</td><td>CharizardMega Cha...</td><td>Fire</td><td>Flying</td><td>78</td><td>104</td><td>78</td><td>159</td><td>115</td><td>100</td><td>1</td><td>FALSE</td></tr>\n",
       "<tr><td>7</td><td>Squirtle</td><td>Water</td><td>null</td><td>44</td><td>48</td><td>65</td><td>50</td><td>64</td><td>43</td><td>1</td><td>FALSE</td></tr>\n",
       "<tr><td>8</td><td>Wartortle</td><td>Water</td><td>null</td><td>59</td><td>63</td><td>80</td><td>65</td><td>80</td><td>58</td><td>1</td><td>FALSE</td></tr>\n",
       "<tr><td>9</td><td>Blastoise</td><td>Water</td><td>null</td><td>79</td><td>83</td><td>100</td><td>85</td><td>105</td><td>78</td><td>1</td><td>FALSE</td></tr>\n",
       "<tr><td>9</td><td>BlastoiseMega Bla...</td><td>Water</td><td>null</td><td>79</td><td>103</td><td>120</td><td>135</td><td>115</td><td>78</td><td>1</td><td>FALSE</td></tr>\n",
       "<tr><td>10</td><td>Caterpie</td><td>Bug</td><td>null</td><td>45</td><td>30</td><td>35</td><td>20</td><td>20</td><td>45</td><td>1</td><td>FALSE</td></tr>\n",
       "<tr><td>11</td><td>Metapod</td><td>Bug</td><td>null</td><td>50</td><td>20</td><td>55</td><td>25</td><td>25</td><td>30</td><td>1</td><td>FALSE</td></tr>\n",
       "<tr><td>12</td><td>Butterfree</td><td>Bug</td><td>Flying</td><td>60</td><td>45</td><td>50</td><td>90</td><td>80</td><td>70</td><td>1</td><td>FALSE</td></tr>\n",
       "<tr><td>13</td><td>Weedle</td><td>Bug</td><td>Poison</td><td>40</td><td>35</td><td>30</td><td>20</td><td>20</td><td>50</td><td>1</td><td>FALSE</td></tr>\n",
       "<tr><td>14</td><td>Kakuna</td><td>Bug</td><td>Poison</td><td>45</td><td>25</td><td>50</td><td>25</td><td>25</td><td>35</td><td>1</td><td>FALSE</td></tr>\n",
       "<tr><td>15</td><td>Beedrill</td><td>Bug</td><td>Poison</td><td>65</td><td>90</td><td>40</td><td>45</td><td>80</td><td>75</td><td>1</td><td>FALSE</td></tr>\n",
       "<tr><td>15</td><td>BeedrillMega Beed...</td><td>Bug</td><td>Poison</td><td>65</td><td>150</td><td>40</td><td>15</td><td>80</td><td>145</td><td>1</td><td>FALSE</td></tr>\n",
       "</table>\n",
       "only showing top 20 rows\n"
      ],
      "text/plain": [
       "+---+--------------------+------+------+---+------+-------+-------+-------+-----+----------+---------+\n",
       "|  #|                Name|Type 1|Type 2| HP|Attack|Defense|Sp. Atk|Sp. Def|Speed|Generation|Legendary|\n",
       "+---+--------------------+------+------+---+------+-------+-------+-------+-----+----------+---------+\n",
       "|  1|           Bulbasaur| Grass|Poison| 45|    49|     49|     65|     65|   45|         1|    FALSE|\n",
       "|  2|             Ivysaur| Grass|Poison| 60|    62|     63|     80|     80|   60|         1|    FALSE|\n",
       "|  3|            Venusaur| Grass|Poison| 80|    82|     83|    100|    100|   80|         1|    FALSE|\n",
       "|  3|VenusaurMega Venu...| Grass|Poison| 80|   100|    123|    122|    120|   80|         1|    FALSE|\n",
       "|  4|          Charmander|  Fire|  null| 39|    52|     43|     60|     50|   65|         1|    FALSE|\n",
       "|  5|          Charmeleon|  Fire|  null| 58|    64|     58|     80|     65|   80|         1|    FALSE|\n",
       "|  6|           Charizard|  Fire|Flying| 78|    84|     78|    109|     85|  100|         1|    FALSE|\n",
       "|  6|CharizardMega Cha...|  Fire|Dragon| 78|   130|    111|    130|     85|  100|         1|    FALSE|\n",
       "|  6|CharizardMega Cha...|  Fire|Flying| 78|   104|     78|    159|    115|  100|         1|    FALSE|\n",
       "|  7|            Squirtle| Water|  null| 44|    48|     65|     50|     64|   43|         1|    FALSE|\n",
       "|  8|           Wartortle| Water|  null| 59|    63|     80|     65|     80|   58|         1|    FALSE|\n",
       "|  9|           Blastoise| Water|  null| 79|    83|    100|     85|    105|   78|         1|    FALSE|\n",
       "|  9|BlastoiseMega Bla...| Water|  null| 79|   103|    120|    135|    115|   78|         1|    FALSE|\n",
       "| 10|            Caterpie|   Bug|  null| 45|    30|     35|     20|     20|   45|         1|    FALSE|\n",
       "| 11|             Metapod|   Bug|  null| 50|    20|     55|     25|     25|   30|         1|    FALSE|\n",
       "| 12|          Butterfree|   Bug|Flying| 60|    45|     50|     90|     80|   70|         1|    FALSE|\n",
       "| 13|              Weedle|   Bug|Poison| 40|    35|     30|     20|     20|   50|         1|    FALSE|\n",
       "| 14|              Kakuna|   Bug|Poison| 45|    25|     50|     25|     25|   35|         1|    FALSE|\n",
       "| 15|            Beedrill|   Bug|Poison| 65|    90|     40|     45|     80|   75|         1|    FALSE|\n",
       "| 15|BeedrillMega Beed...|   Bug|Poison| 65|   150|     40|     15|     80|  145|         1|    FALSE|\n",
       "+---+--------------------+------+------+---+------+-------+-------+-------+-----+----------+---------+\n",
       "only showing top 20 rows"
      ]
     },
     "execution_count": 10,
     "metadata": {},
     "output_type": "execute_result"
    }
   ],
   "source": [
    "df_spark"
   ]
  },
  {
   "cell_type": "code",
   "execution_count": 12,
   "metadata": {},
   "outputs": [
    {
     "name": "stdout",
     "output_type": "stream",
     "text": [
      "-RECORD 0---------------\n",
      " #          | 1         \n",
      " Name       | Bulbasaur \n",
      " Type 1     | Grass     \n",
      " Type 2     | Poison    \n",
      " HP         | 45        \n",
      " Attack     | 49        \n",
      " Defense    | 49        \n",
      " Sp. Atk    | 65        \n",
      " Sp. Def    | 65        \n",
      " Speed      | 45        \n",
      " Generation | 1         \n",
      " Legendary  | FALSE     \n",
      "only showing top 1 row\n",
      "\n"
     ]
    }
   ],
   "source": [
    "# to display the details of the row vertically\n",
    "df_spark.show(1, vertical=True)"
   ]
  },
  {
   "cell_type": "code",
   "execution_count": 19,
   "metadata": {},
   "outputs": [
    {
     "data": {
      "text/plain": [
       "[Row(#='1', Name='Bulbasaur', Type 1='Grass', Type 2='Poison', HP='45', Attack='49', Defense='49', Sp. Atk='65', Sp. Def='65', Speed='45', Generation='1', Legendary='FALSE'),\n",
       " Row(#='2', Name='Ivysaur', Type 1='Grass', Type 2='Poison', HP='60', Attack='62', Defense='63', Sp. Atk='80', Sp. Def='80', Speed='60', Generation='1', Legendary='FALSE'),\n",
       " Row(#='3', Name='Venusaur', Type 1='Grass', Type 2='Poison', HP='80', Attack='82', Defense='83', Sp. Atk='100', Sp. Def='100', Speed='80', Generation='1', Legendary='FALSE'),\n",
       " Row(#='3', Name='VenusaurMega Venusaur', Type 1='Grass', Type 2='Poison', HP='80', Attack='100', Defense='123', Sp. Atk='122', Sp. Def='120', Speed='80', Generation='1', Legendary='FALSE'),\n",
       " Row(#='4', Name='Charmander', Type 1='Fire', Type 2=None, HP='39', Attack='52', Defense='43', Sp. Atk='60', Sp. Def='50', Speed='65', Generation='1', Legendary='FALSE')]"
      ]
     },
     "execution_count": 19,
     "metadata": {},
     "output_type": "execute_result"
    }
   ],
   "source": [
    "# to read the head 5 rows\n",
    "df_spark.head(5)"
   ]
  },
  {
   "cell_type": "code",
   "execution_count": 20,
   "metadata": {},
   "outputs": [
    {
     "data": {
      "text/plain": [
       "[Row(#='719', Name='Diancie', Type 1='Rock', Type 2='Fairy', HP='50', Attack='100', Defense='150', Sp. Atk='100', Sp. Def='150', Speed='50', Generation='6', Legendary='TRUE'),\n",
       " Row(#='719', Name='DiancieMega Diancie', Type 1='Rock', Type 2='Fairy', HP='50', Attack='160', Defense='110', Sp. Atk='160', Sp. Def='110', Speed='110', Generation='6', Legendary='TRUE'),\n",
       " Row(#='720', Name='HoopaHoopa Confined', Type 1='Psychic', Type 2='Ghost', HP='80', Attack='110', Defense='60', Sp. Atk='150', Sp. Def='130', Speed='70', Generation='6', Legendary='TRUE'),\n",
       " Row(#='720', Name='HoopaHoopa Unbound', Type 1='Psychic', Type 2='Dark', HP='80', Attack='160', Defense='60', Sp. Atk='170', Sp. Def='130', Speed='80', Generation='6', Legendary='TRUE'),\n",
       " Row(#='721', Name='Volcanion', Type 1='Fire', Type 2='Water', HP='80', Attack='110', Defense='120', Sp. Atk='130', Sp. Def='90', Speed='70', Generation='6', Legendary='TRUE')]"
      ]
     },
     "execution_count": 20,
     "metadata": {},
     "output_type": "execute_result"
    }
   ],
   "source": [
    "# to get the last 5 rows of the data frame \n",
    "df_spark.tail(5)"
   ]
  },
  {
   "cell_type": "code",
   "execution_count": 21,
   "metadata": {},
   "outputs": [
    {
     "data": {
      "text/plain": [
       "800"
      ]
     },
     "execution_count": 21,
     "metadata": {},
     "output_type": "execute_result"
    }
   ],
   "source": [
    "# to return the number of rows in data frame\n",
    "df_spark.count()"
   ]
  },
  {
   "cell_type": "code",
   "execution_count": 11,
   "metadata": {},
   "outputs": [
    {
     "data": {
      "text/plain": [
       "pyspark.sql.dataframe.DataFrame"
      ]
     },
     "execution_count": 11,
     "metadata": {},
     "output_type": "execute_result"
    }
   ],
   "source": [
    "# to see the type \n",
    "type(df_spark)"
   ]
  },
  {
   "cell_type": "code",
   "execution_count": 12,
   "metadata": {},
   "outputs": [
    {
     "data": {
      "text/plain": [
       "[('#', 'int'),\n",
       " ('Name', 'string'),\n",
       " ('Type 1', 'string'),\n",
       " ('Type 2', 'string'),\n",
       " ('HP', 'int'),\n",
       " ('Attack', 'int'),\n",
       " ('Defense', 'int'),\n",
       " ('Sp. Atk', 'int'),\n",
       " ('Sp. Def', 'int'),\n",
       " ('Speed', 'int'),\n",
       " ('Generation', 'int'),\n",
       " ('Legendary', 'boolean')]"
      ]
     },
     "execution_count": 12,
     "metadata": {},
     "output_type": "execute_result"
    }
   ],
   "source": [
    "# to get the data types of each column\n",
    "df_spark.dtypes"
   ]
  },
  {
   "cell_type": "markdown",
   "metadata": {},
   "source": [
    "### To get the Schema of the data frame"
   ]
  },
  {
   "cell_type": "code",
   "execution_count": 5,
   "metadata": {},
   "outputs": [
    {
     "name": "stdout",
     "output_type": "stream",
     "text": [
      "root\n",
      " |-- #: string (nullable = true)\n",
      " |-- Name: string (nullable = true)\n",
      " |-- Type 1: string (nullable = true)\n",
      " |-- Type 2: string (nullable = true)\n",
      " |-- HP: string (nullable = true)\n",
      " |-- Attack: string (nullable = true)\n",
      " |-- Defense: string (nullable = true)\n",
      " |-- Sp. Atk: string (nullable = true)\n",
      " |-- Sp. Def: string (nullable = true)\n",
      " |-- Speed: string (nullable = true)\n",
      " |-- Generation: string (nullable = true)\n",
      " |-- Legendary: string (nullable = true)\n",
      "\n"
     ]
    }
   ],
   "source": [
    "df_spark.printSchema()"
   ]
  },
  {
   "cell_type": "markdown",
   "metadata": {},
   "source": [
    "### Conversion of pyspark Data Frame into pandas Data Frame"
   ]
  },
  {
   "cell_type": "code",
   "execution_count": 6,
   "metadata": {},
   "outputs": [],
   "source": [
    "import pandas"
   ]
  },
  {
   "cell_type": "code",
   "execution_count": 7,
   "metadata": {},
   "outputs": [
    {
     "data": {
      "text/html": [
       "<div>\n",
       "<style scoped>\n",
       "    .dataframe tbody tr th:only-of-type {\n",
       "        vertical-align: middle;\n",
       "    }\n",
       "\n",
       "    .dataframe tbody tr th {\n",
       "        vertical-align: top;\n",
       "    }\n",
       "\n",
       "    .dataframe thead th {\n",
       "        text-align: right;\n",
       "    }\n",
       "</style>\n",
       "<table border=\"1\" class=\"dataframe\">\n",
       "  <thead>\n",
       "    <tr style=\"text-align: right;\">\n",
       "      <th></th>\n",
       "      <th>#</th>\n",
       "      <th>Name</th>\n",
       "      <th>Type 1</th>\n",
       "      <th>Type 2</th>\n",
       "      <th>HP</th>\n",
       "      <th>Attack</th>\n",
       "      <th>Defense</th>\n",
       "      <th>Sp. Atk</th>\n",
       "      <th>Sp. Def</th>\n",
       "      <th>Speed</th>\n",
       "      <th>Generation</th>\n",
       "      <th>Legendary</th>\n",
       "    </tr>\n",
       "  </thead>\n",
       "  <tbody>\n",
       "    <tr>\n",
       "      <th>0</th>\n",
       "      <td>1</td>\n",
       "      <td>Bulbasaur</td>\n",
       "      <td>Grass</td>\n",
       "      <td>Poison</td>\n",
       "      <td>45</td>\n",
       "      <td>49</td>\n",
       "      <td>49</td>\n",
       "      <td>65</td>\n",
       "      <td>65</td>\n",
       "      <td>45</td>\n",
       "      <td>1</td>\n",
       "      <td>FALSE</td>\n",
       "    </tr>\n",
       "    <tr>\n",
       "      <th>1</th>\n",
       "      <td>2</td>\n",
       "      <td>Ivysaur</td>\n",
       "      <td>Grass</td>\n",
       "      <td>Poison</td>\n",
       "      <td>60</td>\n",
       "      <td>62</td>\n",
       "      <td>63</td>\n",
       "      <td>80</td>\n",
       "      <td>80</td>\n",
       "      <td>60</td>\n",
       "      <td>1</td>\n",
       "      <td>FALSE</td>\n",
       "    </tr>\n",
       "    <tr>\n",
       "      <th>2</th>\n",
       "      <td>3</td>\n",
       "      <td>Venusaur</td>\n",
       "      <td>Grass</td>\n",
       "      <td>Poison</td>\n",
       "      <td>80</td>\n",
       "      <td>82</td>\n",
       "      <td>83</td>\n",
       "      <td>100</td>\n",
       "      <td>100</td>\n",
       "      <td>80</td>\n",
       "      <td>1</td>\n",
       "      <td>FALSE</td>\n",
       "    </tr>\n",
       "    <tr>\n",
       "      <th>3</th>\n",
       "      <td>3</td>\n",
       "      <td>VenusaurMega Venusaur</td>\n",
       "      <td>Grass</td>\n",
       "      <td>Poison</td>\n",
       "      <td>80</td>\n",
       "      <td>100</td>\n",
       "      <td>123</td>\n",
       "      <td>122</td>\n",
       "      <td>120</td>\n",
       "      <td>80</td>\n",
       "      <td>1</td>\n",
       "      <td>FALSE</td>\n",
       "    </tr>\n",
       "    <tr>\n",
       "      <th>4</th>\n",
       "      <td>4</td>\n",
       "      <td>Charmander</td>\n",
       "      <td>Fire</td>\n",
       "      <td>None</td>\n",
       "      <td>39</td>\n",
       "      <td>52</td>\n",
       "      <td>43</td>\n",
       "      <td>60</td>\n",
       "      <td>50</td>\n",
       "      <td>65</td>\n",
       "      <td>1</td>\n",
       "      <td>FALSE</td>\n",
       "    </tr>\n",
       "    <tr>\n",
       "      <th>...</th>\n",
       "      <td>...</td>\n",
       "      <td>...</td>\n",
       "      <td>...</td>\n",
       "      <td>...</td>\n",
       "      <td>...</td>\n",
       "      <td>...</td>\n",
       "      <td>...</td>\n",
       "      <td>...</td>\n",
       "      <td>...</td>\n",
       "      <td>...</td>\n",
       "      <td>...</td>\n",
       "      <td>...</td>\n",
       "    </tr>\n",
       "    <tr>\n",
       "      <th>795</th>\n",
       "      <td>719</td>\n",
       "      <td>Diancie</td>\n",
       "      <td>Rock</td>\n",
       "      <td>Fairy</td>\n",
       "      <td>50</td>\n",
       "      <td>100</td>\n",
       "      <td>150</td>\n",
       "      <td>100</td>\n",
       "      <td>150</td>\n",
       "      <td>50</td>\n",
       "      <td>6</td>\n",
       "      <td>TRUE</td>\n",
       "    </tr>\n",
       "    <tr>\n",
       "      <th>796</th>\n",
       "      <td>719</td>\n",
       "      <td>DiancieMega Diancie</td>\n",
       "      <td>Rock</td>\n",
       "      <td>Fairy</td>\n",
       "      <td>50</td>\n",
       "      <td>160</td>\n",
       "      <td>110</td>\n",
       "      <td>160</td>\n",
       "      <td>110</td>\n",
       "      <td>110</td>\n",
       "      <td>6</td>\n",
       "      <td>TRUE</td>\n",
       "    </tr>\n",
       "    <tr>\n",
       "      <th>797</th>\n",
       "      <td>720</td>\n",
       "      <td>HoopaHoopa Confined</td>\n",
       "      <td>Psychic</td>\n",
       "      <td>Ghost</td>\n",
       "      <td>80</td>\n",
       "      <td>110</td>\n",
       "      <td>60</td>\n",
       "      <td>150</td>\n",
       "      <td>130</td>\n",
       "      <td>70</td>\n",
       "      <td>6</td>\n",
       "      <td>TRUE</td>\n",
       "    </tr>\n",
       "    <tr>\n",
       "      <th>798</th>\n",
       "      <td>720</td>\n",
       "      <td>HoopaHoopa Unbound</td>\n",
       "      <td>Psychic</td>\n",
       "      <td>Dark</td>\n",
       "      <td>80</td>\n",
       "      <td>160</td>\n",
       "      <td>60</td>\n",
       "      <td>170</td>\n",
       "      <td>130</td>\n",
       "      <td>80</td>\n",
       "      <td>6</td>\n",
       "      <td>TRUE</td>\n",
       "    </tr>\n",
       "    <tr>\n",
       "      <th>799</th>\n",
       "      <td>721</td>\n",
       "      <td>Volcanion</td>\n",
       "      <td>Fire</td>\n",
       "      <td>Water</td>\n",
       "      <td>80</td>\n",
       "      <td>110</td>\n",
       "      <td>120</td>\n",
       "      <td>130</td>\n",
       "      <td>90</td>\n",
       "      <td>70</td>\n",
       "      <td>6</td>\n",
       "      <td>TRUE</td>\n",
       "    </tr>\n",
       "  </tbody>\n",
       "</table>\n",
       "<p>800 rows × 12 columns</p>\n",
       "</div>"
      ],
      "text/plain": [
       "       #                   Name   Type 1  Type 2  HP Attack Defense Sp. Atk  \\\n",
       "0      1              Bulbasaur    Grass  Poison  45     49      49      65   \n",
       "1      2                Ivysaur    Grass  Poison  60     62      63      80   \n",
       "2      3               Venusaur    Grass  Poison  80     82      83     100   \n",
       "3      3  VenusaurMega Venusaur    Grass  Poison  80    100     123     122   \n",
       "4      4             Charmander     Fire    None  39     52      43      60   \n",
       "..   ...                    ...      ...     ...  ..    ...     ...     ...   \n",
       "795  719                Diancie     Rock   Fairy  50    100     150     100   \n",
       "796  719    DiancieMega Diancie     Rock   Fairy  50    160     110     160   \n",
       "797  720    HoopaHoopa Confined  Psychic   Ghost  80    110      60     150   \n",
       "798  720     HoopaHoopa Unbound  Psychic    Dark  80    160      60     170   \n",
       "799  721              Volcanion     Fire   Water  80    110     120     130   \n",
       "\n",
       "    Sp. Def Speed Generation Legendary  \n",
       "0        65    45          1     FALSE  \n",
       "1        80    60          1     FALSE  \n",
       "2       100    80          1     FALSE  \n",
       "3       120    80          1     FALSE  \n",
       "4        50    65          1     FALSE  \n",
       "..      ...   ...        ...       ...  \n",
       "795     150    50          6      TRUE  \n",
       "796     110   110          6      TRUE  \n",
       "797     130    70          6      TRUE  \n",
       "798     130    80          6      TRUE  \n",
       "799      90    70          6      TRUE  \n",
       "\n",
       "[800 rows x 12 columns]"
      ]
     },
     "execution_count": 7,
     "metadata": {},
     "output_type": "execute_result"
    }
   ],
   "source": [
    "df_spark.toPandas()"
   ]
  },
  {
   "cell_type": "markdown",
   "metadata": {},
   "source": [
    "### Selecting and Accessing the data in the pyspark"
   ]
  },
  {
   "cell_type": "code",
   "execution_count": 10,
   "metadata": {},
   "outputs": [
    {
     "data": {
      "text/plain": [
       "['#',\n",
       " 'Name',\n",
       " 'Type 1',\n",
       " 'Type 2',\n",
       " 'HP',\n",
       " 'Attack',\n",
       " 'Defense',\n",
       " 'Sp. Atk',\n",
       " 'Sp. Def',\n",
       " 'Speed',\n",
       " 'Generation',\n",
       " 'Legendary']"
      ]
     },
     "execution_count": 10,
     "metadata": {},
     "output_type": "execute_result"
    }
   ],
   "source": [
    "# to get all Column Details\n",
    "df_spark.columns"
   ]
  },
  {
   "cell_type": "code",
   "execution_count": 11,
   "metadata": {},
   "outputs": [
    {
     "data": {
      "text/plain": [
       "Column<'Name'>"
      ]
     },
     "execution_count": 11,
     "metadata": {},
     "output_type": "execute_result"
    }
   ],
   "source": [
    "df_spark.Name"
   ]
  },
  {
   "cell_type": "code",
   "execution_count": 13,
   "metadata": {},
   "outputs": [
    {
     "name": "stdout",
     "output_type": "stream",
     "text": [
      "+--------------------+\n",
      "|                Name|\n",
      "+--------------------+\n",
      "|           Bulbasaur|\n",
      "|             Ivysaur|\n",
      "|            Venusaur|\n",
      "|VenusaurMega Venu...|\n",
      "|          Charmander|\n",
      "|          Charmeleon|\n",
      "|           Charizard|\n",
      "|CharizardMega Cha...|\n",
      "|CharizardMega Cha...|\n",
      "|            Squirtle|\n",
      "+--------------------+\n",
      "only showing top 10 rows\n",
      "\n"
     ]
    }
   ],
   "source": [
    "#Selecting the column and displaying them from data frame \n",
    "df_spark.select(df_spark.Name).show(10)\n",
    "# we can access the same with alternative ways\n",
    "# df_spark.select(df_spark[\"Name\"]).show(10)\n",
    "# df_spark.select(\"Name\").show(10)\n"
   ]
  },
  {
   "cell_type": "code",
   "execution_count": 14,
   "metadata": {},
   "outputs": [
    {
     "name": "stdout",
     "output_type": "stream",
     "text": [
      "+---+--------------------+------+------+---+------+-------+-------+-------+-----+----------+---------+--------------------+\n",
      "|  #|                Name|Type 1|Type 2| HP|Attack|Defense|Sp. Atk|Sp. Def|Speed|Generation|Legendary|      Name UpperCase|\n",
      "+---+--------------------+------+------+---+------+-------+-------+-------+-----+----------+---------+--------------------+\n",
      "|  1|           Bulbasaur| Grass|Poison| 45|    49|     49|     65|     65|   45|         1|    false|           BULBASAUR|\n",
      "|  2|             Ivysaur| Grass|Poison| 60|    62|     63|     80|     80|   60|         1|    false|             IVYSAUR|\n",
      "|  3|            Venusaur| Grass|Poison| 80|    82|     83|    100|    100|   80|         1|    false|            VENUSAUR|\n",
      "|  3|VenusaurMega Venu...| Grass|Poison| 80|   100|    123|    122|    120|   80|         1|    false|VENUSAURMEGA VENU...|\n",
      "|  4|          Charmander|  Fire|  null| 39|    52|     43|     60|     50|   65|         1|    false|          CHARMANDER|\n",
      "|  5|          Charmeleon|  Fire|  null| 58|    64|     58|     80|     65|   80|         1|    false|          CHARMELEON|\n",
      "|  6|           Charizard|  Fire|Flying| 78|    84|     78|    109|     85|  100|         1|    false|           CHARIZARD|\n",
      "|  6|CharizardMega Cha...|  Fire|Dragon| 78|   130|    111|    130|     85|  100|         1|    false|CHARIZARDMEGA CHA...|\n",
      "|  6|CharizardMega Cha...|  Fire|Flying| 78|   104|     78|    159|    115|  100|         1|    false|CHARIZARDMEGA CHA...|\n",
      "|  7|            Squirtle| Water|  null| 44|    48|     65|     50|     64|   43|         1|    false|            SQUIRTLE|\n",
      "|  8|           Wartortle| Water|  null| 59|    63|     80|     65|     80|   58|         1|    false|           WARTORTLE|\n",
      "|  9|           Blastoise| Water|  null| 79|    83|    100|     85|    105|   78|         1|    false|           BLASTOISE|\n",
      "|  9|BlastoiseMega Bla...| Water|  null| 79|   103|    120|    135|    115|   78|         1|    false|BLASTOISEMEGA BLA...|\n",
      "| 10|            Caterpie|   Bug|  null| 45|    30|     35|     20|     20|   45|         1|    false|            CATERPIE|\n",
      "| 11|             Metapod|   Bug|  null| 50|    20|     55|     25|     25|   30|         1|    false|             METAPOD|\n",
      "| 12|          Butterfree|   Bug|Flying| 60|    45|     50|     90|     80|   70|         1|    false|          BUTTERFREE|\n",
      "| 13|              Weedle|   Bug|Poison| 40|    35|     30|     20|     20|   50|         1|    false|              WEEDLE|\n",
      "| 14|              Kakuna|   Bug|Poison| 45|    25|     50|     25|     25|   35|         1|    false|              KAKUNA|\n",
      "| 15|            Beedrill|   Bug|Poison| 65|    90|     40|     45|     80|   75|         1|    false|            BEEDRILL|\n",
      "| 15|BeedrillMega Beed...|   Bug|Poison| 65|   150|     40|     15|     80|  145|         1|    false|BEEDRILLMEGA BEED...|\n",
      "+---+--------------------+------+------+---+------+-------+-------+-------+-----+----------+---------+--------------------+\n",
      "only showing top 20 rows\n",
      "\n"
     ]
    }
   ],
   "source": [
    "# to convert the data into uppercase\n",
    "from pyspark.sql.functions import upper\n",
    "# to add new column into the data frame\n",
    "df_spark.withColumn('Name UpperCase',upper(df_spark.Name)).show()"
   ]
  },
  {
   "cell_type": "code",
   "execution_count": 15,
   "metadata": {},
   "outputs": [
    {
     "data": {
      "text/plain": [
       "[Row(#=1, Name='Bulbasaur', Type 1='Grass', Type 2='Poison', HP=45, Attack=49, Defense=49, Sp. Atk=65, Sp. Def=65, Speed=45, Generation=1, Legendary=False),\n",
       " Row(#=2, Name='Ivysaur', Type 1='Grass', Type 2='Poison', HP=60, Attack=62, Defense=63, Sp. Atk=80, Sp. Def=80, Speed=60, Generation=1, Legendary=False),\n",
       " Row(#=3, Name='Venusaur', Type 1='Grass', Type 2='Poison', HP=80, Attack=82, Defense=83, Sp. Atk=100, Sp. Def=100, Speed=80, Generation=1, Legendary=False),\n",
       " Row(#=3, Name='VenusaurMega Venusaur', Type 1='Grass', Type 2='Poison', HP=80, Attack=100, Defense=123, Sp. Atk=122, Sp. Def=120, Speed=80, Generation=1, Legendary=False),\n",
       " Row(#=4, Name='Charmander', Type 1='Fire', Type 2=None, HP=39, Attack=52, Defense=43, Sp. Atk=60, Sp. Def=50, Speed=65, Generation=1, Legendary=False),\n",
       " Row(#=5, Name='Charmeleon', Type 1='Fire', Type 2=None, HP=58, Attack=64, Defense=58, Sp. Atk=80, Sp. Def=65, Speed=80, Generation=1, Legendary=False),\n",
       " Row(#=6, Name='Charizard', Type 1='Fire', Type 2='Flying', HP=78, Attack=84, Defense=78, Sp. Atk=109, Sp. Def=85, Speed=100, Generation=1, Legendary=False),\n",
       " Row(#=6, Name='CharizardMega Charizard X', Type 1='Fire', Type 2='Dragon', HP=78, Attack=130, Defense=111, Sp. Atk=130, Sp. Def=85, Speed=100, Generation=1, Legendary=False),\n",
       " Row(#=6, Name='CharizardMega Charizard Y', Type 1='Fire', Type 2='Flying', HP=78, Attack=104, Defense=78, Sp. Atk=159, Sp. Def=115, Speed=100, Generation=1, Legendary=False),\n",
       " Row(#=7, Name='Squirtle', Type 1='Water', Type 2=None, HP=44, Attack=48, Defense=65, Sp. Atk=50, Sp. Def=64, Speed=43, Generation=1, Legendary=False),\n",
       " Row(#=8, Name='Wartortle', Type 1='Water', Type 2=None, HP=59, Attack=63, Defense=80, Sp. Atk=65, Sp. Def=80, Speed=58, Generation=1, Legendary=False),\n",
       " Row(#=9, Name='Blastoise', Type 1='Water', Type 2=None, HP=79, Attack=83, Defense=100, Sp. Atk=85, Sp. Def=105, Speed=78, Generation=1, Legendary=False),\n",
       " Row(#=9, Name='BlastoiseMega Blastoise', Type 1='Water', Type 2=None, HP=79, Attack=103, Defense=120, Sp. Atk=135, Sp. Def=115, Speed=78, Generation=1, Legendary=False),\n",
       " Row(#=10, Name='Caterpie', Type 1='Bug', Type 2=None, HP=45, Attack=30, Defense=35, Sp. Atk=20, Sp. Def=20, Speed=45, Generation=1, Legendary=False),\n",
       " Row(#=11, Name='Metapod', Type 1='Bug', Type 2=None, HP=50, Attack=20, Defense=55, Sp. Atk=25, Sp. Def=25, Speed=30, Generation=1, Legendary=False),\n",
       " Row(#=12, Name='Butterfree', Type 1='Bug', Type 2='Flying', HP=60, Attack=45, Defense=50, Sp. Atk=90, Sp. Def=80, Speed=70, Generation=1, Legendary=False),\n",
       " Row(#=13, Name='Weedle', Type 1='Bug', Type 2='Poison', HP=40, Attack=35, Defense=30, Sp. Atk=20, Sp. Def=20, Speed=50, Generation=1, Legendary=False),\n",
       " Row(#=14, Name='Kakuna', Type 1='Bug', Type 2='Poison', HP=45, Attack=25, Defense=50, Sp. Atk=25, Sp. Def=25, Speed=35, Generation=1, Legendary=False),\n",
       " Row(#=15, Name='Beedrill', Type 1='Bug', Type 2='Poison', HP=65, Attack=90, Defense=40, Sp. Atk=45, Sp. Def=80, Speed=75, Generation=1, Legendary=False),\n",
       " Row(#=15, Name='BeedrillMega Beedrill', Type 1='Bug', Type 2='Poison', HP=65, Attack=150, Defense=40, Sp. Atk=15, Sp. Def=80, Speed=145, Generation=1, Legendary=False),\n",
       " Row(#=16, Name='Pidgey', Type 1='Normal', Type 2='Flying', HP=40, Attack=45, Defense=40, Sp. Atk=35, Sp. Def=35, Speed=56, Generation=1, Legendary=False),\n",
       " Row(#=17, Name='Pidgeotto', Type 1='Normal', Type 2='Flying', HP=63, Attack=60, Defense=55, Sp. Atk=50, Sp. Def=50, Speed=71, Generation=1, Legendary=False),\n",
       " Row(#=18, Name='Pidgeot', Type 1='Normal', Type 2='Flying', HP=83, Attack=80, Defense=75, Sp. Atk=70, Sp. Def=70, Speed=101, Generation=1, Legendary=False),\n",
       " Row(#=18, Name='PidgeotMega Pidgeot', Type 1='Normal', Type 2='Flying', HP=83, Attack=80, Defense=80, Sp. Atk=135, Sp. Def=80, Speed=121, Generation=1, Legendary=False),\n",
       " Row(#=19, Name='Rattata', Type 1='Normal', Type 2=None, HP=30, Attack=56, Defense=35, Sp. Atk=25, Sp. Def=35, Speed=72, Generation=1, Legendary=False),\n",
       " Row(#=20, Name='Raticate', Type 1='Normal', Type 2=None, HP=55, Attack=81, Defense=60, Sp. Atk=50, Sp. Def=70, Speed=97, Generation=1, Legendary=False),\n",
       " Row(#=21, Name='Spearow', Type 1='Normal', Type 2='Flying', HP=40, Attack=60, Defense=30, Sp. Atk=31, Sp. Def=31, Speed=70, Generation=1, Legendary=False),\n",
       " Row(#=22, Name='Fearow', Type 1='Normal', Type 2='Flying', HP=65, Attack=90, Defense=65, Sp. Atk=61, Sp. Def=61, Speed=100, Generation=1, Legendary=False),\n",
       " Row(#=23, Name='Ekans', Type 1='Poison', Type 2=None, HP=35, Attack=60, Defense=44, Sp. Atk=40, Sp. Def=54, Speed=55, Generation=1, Legendary=False),\n",
       " Row(#=24, Name='Arbok', Type 1='Poison', Type 2=None, HP=60, Attack=85, Defense=69, Sp. Atk=65, Sp. Def=79, Speed=80, Generation=1, Legendary=False),\n",
       " Row(#=25, Name='Pikachu', Type 1='Electric', Type 2=None, HP=35, Attack=55, Defense=40, Sp. Atk=50, Sp. Def=50, Speed=90, Generation=1, Legendary=False),\n",
       " Row(#=26, Name='Raichu', Type 1='Electric', Type 2=None, HP=60, Attack=90, Defense=55, Sp. Atk=90, Sp. Def=80, Speed=110, Generation=1, Legendary=False),\n",
       " Row(#=27, Name='Sandshrew', Type 1='Ground', Type 2=None, HP=50, Attack=75, Defense=85, Sp. Atk=20, Sp. Def=30, Speed=40, Generation=1, Legendary=False),\n",
       " Row(#=28, Name='Sandslash', Type 1='Ground', Type 2=None, HP=75, Attack=100, Defense=110, Sp. Atk=45, Sp. Def=55, Speed=65, Generation=1, Legendary=False),\n",
       " Row(#=29, Name='Nidoran (Female)', Type 1='Poison', Type 2=None, HP=55, Attack=47, Defense=52, Sp. Atk=40, Sp. Def=40, Speed=41, Generation=1, Legendary=False),\n",
       " Row(#=30, Name='Nidorina', Type 1='Poison', Type 2=None, HP=70, Attack=62, Defense=67, Sp. Atk=55, Sp. Def=55, Speed=56, Generation=1, Legendary=False),\n",
       " Row(#=31, Name='Nidoqueen', Type 1='Poison', Type 2='Ground', HP=90, Attack=92, Defense=87, Sp. Atk=75, Sp. Def=85, Speed=76, Generation=1, Legendary=False),\n",
       " Row(#=32, Name='Nidoran (Male)', Type 1='Poison', Type 2=None, HP=46, Attack=57, Defense=40, Sp. Atk=40, Sp. Def=40, Speed=50, Generation=1, Legendary=False),\n",
       " Row(#=33, Name='Nidorino', Type 1='Poison', Type 2=None, HP=61, Attack=72, Defense=57, Sp. Atk=55, Sp. Def=55, Speed=65, Generation=1, Legendary=False),\n",
       " Row(#=34, Name='Nidoking', Type 1='Poison', Type 2='Ground', HP=81, Attack=102, Defense=77, Sp. Atk=85, Sp. Def=75, Speed=85, Generation=1, Legendary=False),\n",
       " Row(#=35, Name='Clefairy', Type 1='Fairy', Type 2=None, HP=70, Attack=45, Defense=48, Sp. Atk=60, Sp. Def=65, Speed=35, Generation=1, Legendary=False),\n",
       " Row(#=36, Name='Clefable', Type 1='Fairy', Type 2=None, HP=95, Attack=70, Defense=73, Sp. Atk=95, Sp. Def=90, Speed=60, Generation=1, Legendary=False),\n",
       " Row(#=37, Name='Vulpix', Type 1='Fire', Type 2=None, HP=38, Attack=41, Defense=40, Sp. Atk=50, Sp. Def=65, Speed=65, Generation=1, Legendary=False),\n",
       " Row(#=38, Name='Ninetales', Type 1='Fire', Type 2=None, HP=73, Attack=76, Defense=75, Sp. Atk=81, Sp. Def=100, Speed=100, Generation=1, Legendary=False),\n",
       " Row(#=39, Name='Jigglypuff', Type 1='Normal', Type 2='Fairy', HP=115, Attack=45, Defense=20, Sp. Atk=45, Sp. Def=25, Speed=20, Generation=1, Legendary=False),\n",
       " Row(#=40, Name='Wigglytuff', Type 1='Normal', Type 2='Fairy', HP=140, Attack=70, Defense=45, Sp. Atk=85, Sp. Def=50, Speed=45, Generation=1, Legendary=False),\n",
       " Row(#=41, Name='Zubat', Type 1='Poison', Type 2='Flying', HP=40, Attack=45, Defense=35, Sp. Atk=30, Sp. Def=40, Speed=55, Generation=1, Legendary=False),\n",
       " Row(#=42, Name='Golbat', Type 1='Poison', Type 2='Flying', HP=75, Attack=80, Defense=70, Sp. Atk=65, Sp. Def=75, Speed=90, Generation=1, Legendary=False),\n",
       " Row(#=43, Name='Oddish', Type 1='Grass', Type 2='Poison', HP=45, Attack=50, Defense=55, Sp. Atk=75, Sp. Def=65, Speed=30, Generation=1, Legendary=False),\n",
       " Row(#=44, Name='Gloom', Type 1='Grass', Type 2='Poison', HP=60, Attack=65, Defense=70, Sp. Atk=85, Sp. Def=75, Speed=40, Generation=1, Legendary=False),\n",
       " Row(#=45, Name='Vileplume', Type 1='Grass', Type 2='Poison', HP=75, Attack=80, Defense=85, Sp. Atk=110, Sp. Def=90, Speed=50, Generation=1, Legendary=False),\n",
       " Row(#=46, Name='Paras', Type 1='Bug', Type 2='Grass', HP=35, Attack=70, Defense=55, Sp. Atk=45, Sp. Def=55, Speed=25, Generation=1, Legendary=False),\n",
       " Row(#=47, Name='Parasect', Type 1='Bug', Type 2='Grass', HP=60, Attack=95, Defense=80, Sp. Atk=60, Sp. Def=80, Speed=30, Generation=1, Legendary=False),\n",
       " Row(#=48, Name='Venonat', Type 1='Bug', Type 2='Poison', HP=60, Attack=55, Defense=50, Sp. Atk=40, Sp. Def=55, Speed=45, Generation=1, Legendary=False),\n",
       " Row(#=49, Name='Venomoth', Type 1='Bug', Type 2='Poison', HP=70, Attack=65, Defense=60, Sp. Atk=90, Sp. Def=75, Speed=90, Generation=1, Legendary=False),\n",
       " Row(#=50, Name='Diglett', Type 1='Ground', Type 2=None, HP=10, Attack=55, Defense=25, Sp. Atk=35, Sp. Def=45, Speed=95, Generation=1, Legendary=False),\n",
       " Row(#=51, Name='Dugtrio', Type 1='Ground', Type 2=None, HP=35, Attack=80, Defense=50, Sp. Atk=50, Sp. Def=70, Speed=120, Generation=1, Legendary=False),\n",
       " Row(#=52, Name='Meowth', Type 1='Normal', Type 2=None, HP=40, Attack=45, Defense=35, Sp. Atk=40, Sp. Def=40, Speed=90, Generation=1, Legendary=False),\n",
       " Row(#=53, Name='Persian', Type 1='Normal', Type 2=None, HP=65, Attack=70, Defense=60, Sp. Atk=65, Sp. Def=65, Speed=115, Generation=1, Legendary=False),\n",
       " Row(#=54, Name='Psyduck', Type 1='Water', Type 2=None, HP=50, Attack=52, Defense=48, Sp. Atk=65, Sp. Def=50, Speed=55, Generation=1, Legendary=False),\n",
       " Row(#=55, Name='Golduck', Type 1='Water', Type 2=None, HP=80, Attack=82, Defense=78, Sp. Atk=95, Sp. Def=80, Speed=85, Generation=1, Legendary=False),\n",
       " Row(#=56, Name='Mankey', Type 1='Fighting', Type 2=None, HP=40, Attack=80, Defense=35, Sp. Atk=35, Sp. Def=45, Speed=70, Generation=1, Legendary=False),\n",
       " Row(#=57, Name='Primeape', Type 1='Fighting', Type 2=None, HP=65, Attack=105, Defense=60, Sp. Atk=60, Sp. Def=70, Speed=95, Generation=1, Legendary=False),\n",
       " Row(#=58, Name='Growlithe', Type 1='Fire', Type 2=None, HP=55, Attack=70, Defense=45, Sp. Atk=70, Sp. Def=50, Speed=60, Generation=1, Legendary=False),\n",
       " Row(#=59, Name='Arcanine', Type 1='Fire', Type 2=None, HP=90, Attack=110, Defense=80, Sp. Atk=100, Sp. Def=80, Speed=95, Generation=1, Legendary=False),\n",
       " Row(#=60, Name='Poliwag', Type 1='Water', Type 2=None, HP=40, Attack=50, Defense=40, Sp. Atk=40, Sp. Def=40, Speed=90, Generation=1, Legendary=False),\n",
       " Row(#=61, Name='Poliwhirl', Type 1='Water', Type 2=None, HP=65, Attack=65, Defense=65, Sp. Atk=50, Sp. Def=50, Speed=90, Generation=1, Legendary=False),\n",
       " Row(#=62, Name='Poliwrath', Type 1='Water', Type 2='Fighting', HP=90, Attack=95, Defense=95, Sp. Atk=70, Sp. Def=90, Speed=70, Generation=1, Legendary=False),\n",
       " Row(#=63, Name='Abra', Type 1='Psychic', Type 2=None, HP=25, Attack=20, Defense=15, Sp. Atk=105, Sp. Def=55, Speed=90, Generation=1, Legendary=False),\n",
       " Row(#=64, Name='Kadabra', Type 1='Psychic', Type 2=None, HP=40, Attack=35, Defense=30, Sp. Atk=120, Sp. Def=70, Speed=105, Generation=1, Legendary=False),\n",
       " Row(#=65, Name='Alakazam', Type 1='Psychic', Type 2=None, HP=55, Attack=50, Defense=45, Sp. Atk=135, Sp. Def=95, Speed=120, Generation=1, Legendary=False),\n",
       " Row(#=65, Name='AlakazamMega Alakazam', Type 1='Psychic', Type 2=None, HP=55, Attack=50, Defense=65, Sp. Atk=175, Sp. Def=95, Speed=150, Generation=1, Legendary=False),\n",
       " Row(#=66, Name='Machop', Type 1='Fighting', Type 2=None, HP=70, Attack=80, Defense=50, Sp. Atk=35, Sp. Def=35, Speed=35, Generation=1, Legendary=False),\n",
       " Row(#=67, Name='Machoke', Type 1='Fighting', Type 2=None, HP=80, Attack=100, Defense=70, Sp. Atk=50, Sp. Def=60, Speed=45, Generation=1, Legendary=False),\n",
       " Row(#=68, Name='Machamp', Type 1='Fighting', Type 2=None, HP=90, Attack=130, Defense=80, Sp. Atk=65, Sp. Def=85, Speed=55, Generation=1, Legendary=False),\n",
       " Row(#=69, Name='Bellsprout', Type 1='Grass', Type 2='Poison', HP=50, Attack=75, Defense=35, Sp. Atk=70, Sp. Def=30, Speed=40, Generation=1, Legendary=False),\n",
       " Row(#=70, Name='Weepinbell', Type 1='Grass', Type 2='Poison', HP=65, Attack=90, Defense=50, Sp. Atk=85, Sp. Def=45, Speed=55, Generation=1, Legendary=False),\n",
       " Row(#=71, Name='Victreebel', Type 1='Grass', Type 2='Poison', HP=80, Attack=105, Defense=65, Sp. Atk=100, Sp. Def=70, Speed=70, Generation=1, Legendary=False),\n",
       " Row(#=72, Name='Tentacool', Type 1='Water', Type 2='Poison', HP=40, Attack=40, Defense=35, Sp. Atk=50, Sp. Def=100, Speed=70, Generation=1, Legendary=False),\n",
       " Row(#=73, Name='Tentacruel', Type 1='Water', Type 2='Poison', HP=80, Attack=70, Defense=65, Sp. Atk=80, Sp. Def=120, Speed=100, Generation=1, Legendary=False),\n",
       " Row(#=74, Name='Geodude', Type 1='Rock', Type 2='Ground', HP=40, Attack=80, Defense=100, Sp. Atk=30, Sp. Def=30, Speed=20, Generation=1, Legendary=False),\n",
       " Row(#=75, Name='Graveler', Type 1='Rock', Type 2='Ground', HP=55, Attack=95, Defense=115, Sp. Atk=45, Sp. Def=45, Speed=35, Generation=1, Legendary=False),\n",
       " Row(#=76, Name='Golem', Type 1='Rock', Type 2='Ground', HP=80, Attack=120, Defense=130, Sp. Atk=55, Sp. Def=65, Speed=45, Generation=1, Legendary=False),\n",
       " Row(#=77, Name='Ponyta', Type 1='Fire', Type 2=None, HP=50, Attack=85, Defense=55, Sp. Atk=65, Sp. Def=65, Speed=90, Generation=1, Legendary=False),\n",
       " Row(#=78, Name='Rapidash', Type 1='Fire', Type 2=None, HP=65, Attack=100, Defense=70, Sp. Atk=80, Sp. Def=80, Speed=105, Generation=1, Legendary=False),\n",
       " Row(#=79, Name='Slowpoke', Type 1='Water', Type 2='Psychic', HP=90, Attack=65, Defense=65, Sp. Atk=40, Sp. Def=40, Speed=15, Generation=1, Legendary=False),\n",
       " Row(#=80, Name='Slowbro', Type 1='Water', Type 2='Psychic', HP=95, Attack=75, Defense=110, Sp. Atk=100, Sp. Def=80, Speed=30, Generation=1, Legendary=False),\n",
       " Row(#=80, Name='SlowbroMega Slowbro', Type 1='Water', Type 2='Psychic', HP=95, Attack=75, Defense=180, Sp. Atk=130, Sp. Def=80, Speed=30, Generation=1, Legendary=False),\n",
       " Row(#=81, Name='Magnemite', Type 1='Electric', Type 2='Steel', HP=25, Attack=35, Defense=70, Sp. Atk=95, Sp. Def=55, Speed=45, Generation=1, Legendary=False),\n",
       " Row(#=82, Name='Magneton', Type 1='Electric', Type 2='Steel', HP=50, Attack=60, Defense=95, Sp. Atk=120, Sp. Def=70, Speed=70, Generation=1, Legendary=False),\n",
       " Row(#=83, Name=\"Farfetch'd\", Type 1='Normal', Type 2='Flying', HP=52, Attack=65, Defense=55, Sp. Atk=58, Sp. Def=62, Speed=60, Generation=1, Legendary=False),\n",
       " Row(#=84, Name='Doduo', Type 1='Normal', Type 2='Flying', HP=35, Attack=85, Defense=45, Sp. Atk=35, Sp. Def=35, Speed=75, Generation=1, Legendary=False),\n",
       " Row(#=85, Name='Dodrio', Type 1='Normal', Type 2='Flying', HP=60, Attack=110, Defense=70, Sp. Atk=60, Sp. Def=60, Speed=100, Generation=1, Legendary=False),\n",
       " Row(#=86, Name='Seel', Type 1='Water', Type 2=None, HP=65, Attack=45, Defense=55, Sp. Atk=45, Sp. Def=70, Speed=45, Generation=1, Legendary=False),\n",
       " Row(#=87, Name='Dewgong', Type 1='Water', Type 2='Ice', HP=90, Attack=70, Defense=80, Sp. Atk=70, Sp. Def=95, Speed=70, Generation=1, Legendary=False),\n",
       " Row(#=88, Name='Grimer', Type 1='Poison', Type 2=None, HP=80, Attack=80, Defense=50, Sp. Atk=40, Sp. Def=50, Speed=25, Generation=1, Legendary=False),\n",
       " Row(#=89, Name='Muk', Type 1='Poison', Type 2=None, HP=105, Attack=105, Defense=75, Sp. Atk=65, Sp. Def=100, Speed=50, Generation=1, Legendary=False),\n",
       " Row(#=90, Name='Shellder', Type 1='Water', Type 2=None, HP=30, Attack=65, Defense=100, Sp. Atk=45, Sp. Def=25, Speed=40, Generation=1, Legendary=False),\n",
       " Row(#=91, Name='Cloyster', Type 1='Water', Type 2='Ice', HP=50, Attack=95, Defense=180, Sp. Atk=85, Sp. Def=45, Speed=70, Generation=1, Legendary=False),\n",
       " Row(#=92, Name='Gastly', Type 1='Ghost', Type 2='Poison', HP=30, Attack=35, Defense=30, Sp. Atk=100, Sp. Def=35, Speed=80, Generation=1, Legendary=False),\n",
       " Row(#=93, Name='Haunter', Type 1='Ghost', Type 2='Poison', HP=45, Attack=50, Defense=45, Sp. Atk=115, Sp. Def=55, Speed=95, Generation=1, Legendary=False),\n",
       " Row(#=94, Name='Gengar', Type 1='Ghost', Type 2='Poison', HP=60, Attack=65, Defense=60, Sp. Atk=130, Sp. Def=75, Speed=110, Generation=1, Legendary=False),\n",
       " Row(#=94, Name='GengarMega Gengar', Type 1='Ghost', Type 2='Poison', HP=60, Attack=65, Defense=80, Sp. Atk=170, Sp. Def=95, Speed=130, Generation=1, Legendary=False),\n",
       " Row(#=95, Name='Onix', Type 1='Rock', Type 2='Ground', HP=35, Attack=45, Defense=160, Sp. Atk=30, Sp. Def=45, Speed=70, Generation=1, Legendary=False),\n",
       " Row(#=96, Name='Drowzee', Type 1='Psychic', Type 2=None, HP=60, Attack=48, Defense=45, Sp. Atk=43, Sp. Def=90, Speed=42, Generation=1, Legendary=False),\n",
       " Row(#=97, Name='Hypno', Type 1='Psychic', Type 2=None, HP=85, Attack=73, Defense=70, Sp. Atk=73, Sp. Def=115, Speed=67, Generation=1, Legendary=False),\n",
       " Row(#=98, Name='Krabby', Type 1='Water', Type 2=None, HP=30, Attack=105, Defense=90, Sp. Atk=25, Sp. Def=25, Speed=50, Generation=1, Legendary=False),\n",
       " Row(#=99, Name='Kingler', Type 1='Water', Type 2=None, HP=55, Attack=130, Defense=115, Sp. Atk=50, Sp. Def=50, Speed=75, Generation=1, Legendary=False),\n",
       " Row(#=100, Name='Voltorb', Type 1='Electric', Type 2=None, HP=40, Attack=30, Defense=50, Sp. Atk=55, Sp. Def=55, Speed=100, Generation=1, Legendary=False),\n",
       " Row(#=101, Name='Electrode', Type 1='Electric', Type 2=None, HP=60, Attack=50, Defense=70, Sp. Atk=80, Sp. Def=80, Speed=140, Generation=1, Legendary=False),\n",
       " Row(#=102, Name='Exeggcute', Type 1='Grass', Type 2='Psychic', HP=60, Attack=40, Defense=80, Sp. Atk=60, Sp. Def=45, Speed=40, Generation=1, Legendary=False),\n",
       " Row(#=103, Name='Exeggutor', Type 1='Grass', Type 2='Psychic', HP=95, Attack=95, Defense=85, Sp. Atk=125, Sp. Def=65, Speed=55, Generation=1, Legendary=False),\n",
       " Row(#=104, Name='Cubone', Type 1='Ground', Type 2=None, HP=50, Attack=50, Defense=95, Sp. Atk=40, Sp. Def=50, Speed=35, Generation=1, Legendary=False),\n",
       " Row(#=105, Name='Marowak', Type 1='Ground', Type 2=None, HP=60, Attack=80, Defense=110, Sp. Atk=50, Sp. Def=80, Speed=45, Generation=1, Legendary=False),\n",
       " Row(#=106, Name='Hitmonlee', Type 1='Fighting', Type 2=None, HP=50, Attack=120, Defense=53, Sp. Atk=35, Sp. Def=110, Speed=87, Generation=1, Legendary=False),\n",
       " Row(#=107, Name='Hitmonchan', Type 1='Fighting', Type 2=None, HP=50, Attack=105, Defense=79, Sp. Atk=35, Sp. Def=110, Speed=76, Generation=1, Legendary=False),\n",
       " Row(#=108, Name='Lickitung', Type 1='Normal', Type 2=None, HP=90, Attack=55, Defense=75, Sp. Atk=60, Sp. Def=75, Speed=30, Generation=1, Legendary=False),\n",
       " Row(#=109, Name='Koffing', Type 1='Poison', Type 2=None, HP=40, Attack=65, Defense=95, Sp. Atk=60, Sp. Def=45, Speed=35, Generation=1, Legendary=False),\n",
       " Row(#=110, Name='Weezing', Type 1='Poison', Type 2=None, HP=65, Attack=90, Defense=120, Sp. Atk=85, Sp. Def=70, Speed=60, Generation=1, Legendary=False),\n",
       " Row(#=111, Name='Rhyhorn', Type 1='Ground', Type 2='Rock', HP=80, Attack=85, Defense=95, Sp. Atk=30, Sp. Def=30, Speed=25, Generation=1, Legendary=False),\n",
       " Row(#=112, Name='Rhydon', Type 1='Ground', Type 2='Rock', HP=105, Attack=130, Defense=120, Sp. Atk=45, Sp. Def=45, Speed=40, Generation=1, Legendary=False),\n",
       " Row(#=113, Name='Chansey', Type 1='Normal', Type 2=None, HP=250, Attack=5, Defense=5, Sp. Atk=35, Sp. Def=105, Speed=50, Generation=1, Legendary=False),\n",
       " Row(#=114, Name='Tangela', Type 1='Grass', Type 2=None, HP=65, Attack=55, Defense=115, Sp. Atk=100, Sp. Def=40, Speed=60, Generation=1, Legendary=False),\n",
       " Row(#=115, Name='Kangaskhan', Type 1='Normal', Type 2=None, HP=105, Attack=95, Defense=80, Sp. Atk=40, Sp. Def=80, Speed=90, Generation=1, Legendary=False),\n",
       " Row(#=115, Name='KangaskhanMega Kangaskhan', Type 1='Normal', Type 2=None, HP=105, Attack=125, Defense=100, Sp. Atk=60, Sp. Def=100, Speed=100, Generation=1, Legendary=False),\n",
       " Row(#=116, Name='Horsea', Type 1='Water', Type 2=None, HP=30, Attack=40, Defense=70, Sp. Atk=70, Sp. Def=25, Speed=60, Generation=1, Legendary=False),\n",
       " Row(#=117, Name='Seadra', Type 1='Water', Type 2=None, HP=55, Attack=65, Defense=95, Sp. Atk=95, Sp. Def=45, Speed=85, Generation=1, Legendary=False),\n",
       " Row(#=118, Name='Goldeen', Type 1='Water', Type 2=None, HP=45, Attack=67, Defense=60, Sp. Atk=35, Sp. Def=50, Speed=63, Generation=1, Legendary=False),\n",
       " Row(#=119, Name='Seaking', Type 1='Water', Type 2=None, HP=80, Attack=92, Defense=65, Sp. Atk=65, Sp. Def=80, Speed=68, Generation=1, Legendary=False),\n",
       " Row(#=120, Name='Staryu', Type 1='Water', Type 2=None, HP=30, Attack=45, Defense=55, Sp. Atk=70, Sp. Def=55, Speed=85, Generation=1, Legendary=False),\n",
       " Row(#=121, Name='Starmie', Type 1='Water', Type 2='Psychic', HP=60, Attack=75, Defense=85, Sp. Atk=100, Sp. Def=85, Speed=115, Generation=1, Legendary=False),\n",
       " Row(#=122, Name='Mr. Mime', Type 1='Psychic', Type 2='Fairy', HP=40, Attack=45, Defense=65, Sp. Atk=100, Sp. Def=120, Speed=90, Generation=1, Legendary=False),\n",
       " Row(#=123, Name='Scyther', Type 1='Bug', Type 2='Flying', HP=70, Attack=110, Defense=80, Sp. Atk=55, Sp. Def=80, Speed=105, Generation=1, Legendary=False),\n",
       " Row(#=124, Name='Jynx', Type 1='Ice', Type 2='Psychic', HP=65, Attack=50, Defense=35, Sp. Atk=115, Sp. Def=95, Speed=95, Generation=1, Legendary=False),\n",
       " Row(#=125, Name='Electabuzz', Type 1='Electric', Type 2=None, HP=65, Attack=83, Defense=57, Sp. Atk=95, Sp. Def=85, Speed=105, Generation=1, Legendary=False),\n",
       " Row(#=126, Name='Magmar', Type 1='Fire', Type 2=None, HP=65, Attack=95, Defense=57, Sp. Atk=100, Sp. Def=85, Speed=93, Generation=1, Legendary=False),\n",
       " Row(#=127, Name='Pinsir', Type 1='Bug', Type 2=None, HP=65, Attack=125, Defense=100, Sp. Atk=55, Sp. Def=70, Speed=85, Generation=1, Legendary=False),\n",
       " Row(#=127, Name='PinsirMega Pinsir', Type 1='Bug', Type 2='Flying', HP=65, Attack=155, Defense=120, Sp. Atk=65, Sp. Def=90, Speed=105, Generation=1, Legendary=False),\n",
       " Row(#=128, Name='Tauros', Type 1='Normal', Type 2=None, HP=75, Attack=100, Defense=95, Sp. Atk=40, Sp. Def=70, Speed=110, Generation=1, Legendary=False),\n",
       " Row(#=129, Name='Magikarp', Type 1='Water', Type 2=None, HP=20, Attack=10, Defense=55, Sp. Atk=15, Sp. Def=20, Speed=80, Generation=1, Legendary=False),\n",
       " Row(#=130, Name='Gyarados', Type 1='Water', Type 2='Flying', HP=95, Attack=125, Defense=79, Sp. Atk=60, Sp. Def=100, Speed=81, Generation=1, Legendary=False),\n",
       " Row(#=130, Name='GyaradosMega Gyarados', Type 1='Water', Type 2='Dark', HP=95, Attack=155, Defense=109, Sp. Atk=70, Sp. Def=130, Speed=81, Generation=1, Legendary=False),\n",
       " Row(#=131, Name='Lapras', Type 1='Water', Type 2='Ice', HP=130, Attack=85, Defense=80, Sp. Atk=85, Sp. Def=95, Speed=60, Generation=1, Legendary=False),\n",
       " Row(#=132, Name='Ditto', Type 1='Normal', Type 2=None, HP=48, Attack=48, Defense=48, Sp. Atk=48, Sp. Def=48, Speed=48, Generation=1, Legendary=False),\n",
       " Row(#=133, Name='Eevee', Type 1='Normal', Type 2=None, HP=55, Attack=55, Defense=50, Sp. Atk=45, Sp. Def=65, Speed=55, Generation=1, Legendary=False),\n",
       " Row(#=134, Name='Vaporeon', Type 1='Water', Type 2=None, HP=130, Attack=65, Defense=60, Sp. Atk=110, Sp. Def=95, Speed=65, Generation=1, Legendary=False),\n",
       " Row(#=135, Name='Jolteon', Type 1='Electric', Type 2=None, HP=65, Attack=65, Defense=60, Sp. Atk=110, Sp. Def=95, Speed=130, Generation=1, Legendary=False),\n",
       " Row(#=136, Name='Flareon', Type 1='Fire', Type 2=None, HP=65, Attack=130, Defense=60, Sp. Atk=95, Sp. Def=110, Speed=65, Generation=1, Legendary=False),\n",
       " Row(#=137, Name='Porygon', Type 1='Normal', Type 2=None, HP=65, Attack=60, Defense=70, Sp. Atk=85, Sp. Def=75, Speed=40, Generation=1, Legendary=False),\n",
       " Row(#=138, Name='Omanyte', Type 1='Rock', Type 2='Water', HP=35, Attack=40, Defense=100, Sp. Atk=90, Sp. Def=55, Speed=35, Generation=1, Legendary=False),\n",
       " Row(#=139, Name='Omastar', Type 1='Rock', Type 2='Water', HP=70, Attack=60, Defense=125, Sp. Atk=115, Sp. Def=70, Speed=55, Generation=1, Legendary=False),\n",
       " Row(#=140, Name='Kabuto', Type 1='Rock', Type 2='Water', HP=30, Attack=80, Defense=90, Sp. Atk=55, Sp. Def=45, Speed=55, Generation=1, Legendary=False),\n",
       " Row(#=141, Name='Kabutops', Type 1='Rock', Type 2='Water', HP=60, Attack=115, Defense=105, Sp. Atk=65, Sp. Def=70, Speed=80, Generation=1, Legendary=False),\n",
       " Row(#=142, Name='Aerodactyl', Type 1='Rock', Type 2='Flying', HP=80, Attack=105, Defense=65, Sp. Atk=60, Sp. Def=75, Speed=130, Generation=1, Legendary=False),\n",
       " Row(#=142, Name='AerodactylMega Aerodactyl', Type 1='Rock', Type 2='Flying', HP=80, Attack=135, Defense=85, Sp. Atk=70, Sp. Def=95, Speed=150, Generation=1, Legendary=False),\n",
       " Row(#=143, Name='Snorlax', Type 1='Normal', Type 2=None, HP=160, Attack=110, Defense=65, Sp. Atk=65, Sp. Def=110, Speed=30, Generation=1, Legendary=False),\n",
       " Row(#=144, Name='Articuno', Type 1='Ice', Type 2='Flying', HP=90, Attack=85, Defense=100, Sp. Atk=95, Sp. Def=125, Speed=85, Generation=1, Legendary=True),\n",
       " Row(#=145, Name='Zapdos', Type 1='Electric', Type 2='Flying', HP=90, Attack=90, Defense=85, Sp. Atk=125, Sp. Def=90, Speed=100, Generation=1, Legendary=True),\n",
       " Row(#=146, Name='Moltres', Type 1='Fire', Type 2='Flying', HP=90, Attack=100, Defense=90, Sp. Atk=125, Sp. Def=85, Speed=90, Generation=1, Legendary=True),\n",
       " Row(#=147, Name='Dratini', Type 1='Dragon', Type 2=None, HP=41, Attack=64, Defense=45, Sp. Atk=50, Sp. Def=50, Speed=50, Generation=1, Legendary=False),\n",
       " Row(#=148, Name='Dragonair', Type 1='Dragon', Type 2=None, HP=61, Attack=84, Defense=65, Sp. Atk=70, Sp. Def=70, Speed=70, Generation=1, Legendary=False),\n",
       " Row(#=149, Name='Dragonite', Type 1='Dragon', Type 2='Flying', HP=91, Attack=134, Defense=95, Sp. Atk=100, Sp. Def=100, Speed=80, Generation=1, Legendary=False),\n",
       " Row(#=150, Name='Mewtwo', Type 1='Psychic', Type 2=None, HP=106, Attack=110, Defense=90, Sp. Atk=154, Sp. Def=90, Speed=130, Generation=1, Legendary=True),\n",
       " Row(#=150, Name='MewtwoMega Mewtwo X', Type 1='Psychic', Type 2='Fighting', HP=106, Attack=190, Defense=100, Sp. Atk=154, Sp. Def=100, Speed=130, Generation=1, Legendary=True),\n",
       " Row(#=150, Name='MewtwoMega Mewtwo Y', Type 1='Psychic', Type 2=None, HP=106, Attack=150, Defense=70, Sp. Atk=194, Sp. Def=120, Speed=140, Generation=1, Legendary=True),\n",
       " Row(#=151, Name='Mew', Type 1='Psychic', Type 2=None, HP=100, Attack=100, Defense=100, Sp. Atk=100, Sp. Def=100, Speed=100, Generation=1, Legendary=False),\n",
       " Row(#=152, Name='Chikorita', Type 1='Grass', Type 2=None, HP=45, Attack=49, Defense=65, Sp. Atk=49, Sp. Def=65, Speed=45, Generation=2, Legendary=False),\n",
       " Row(#=153, Name='Bayleef', Type 1='Grass', Type 2=None, HP=60, Attack=62, Defense=80, Sp. Atk=63, Sp. Def=80, Speed=60, Generation=2, Legendary=False),\n",
       " Row(#=154, Name='Meganium', Type 1='Grass', Type 2=None, HP=80, Attack=82, Defense=100, Sp. Atk=83, Sp. Def=100, Speed=80, Generation=2, Legendary=False),\n",
       " Row(#=155, Name='Cyndaquil', Type 1='Fire', Type 2=None, HP=39, Attack=52, Defense=43, Sp. Atk=60, Sp. Def=50, Speed=65, Generation=2, Legendary=False),\n",
       " Row(#=156, Name='Quilava', Type 1='Fire', Type 2=None, HP=58, Attack=64, Defense=58, Sp. Atk=80, Sp. Def=65, Speed=80, Generation=2, Legendary=False),\n",
       " Row(#=157, Name='Typhlosion', Type 1='Fire', Type 2=None, HP=78, Attack=84, Defense=78, Sp. Atk=109, Sp. Def=85, Speed=100, Generation=2, Legendary=False),\n",
       " Row(#=158, Name='Totodile', Type 1='Water', Type 2=None, HP=50, Attack=65, Defense=64, Sp. Atk=44, Sp. Def=48, Speed=43, Generation=2, Legendary=False),\n",
       " Row(#=159, Name='Croconaw', Type 1='Water', Type 2=None, HP=65, Attack=80, Defense=80, Sp. Atk=59, Sp. Def=63, Speed=58, Generation=2, Legendary=False),\n",
       " Row(#=160, Name='Feraligatr', Type 1='Water', Type 2=None, HP=85, Attack=105, Defense=100, Sp. Atk=79, Sp. Def=83, Speed=78, Generation=2, Legendary=False),\n",
       " Row(#=161, Name='Sentret', Type 1='Normal', Type 2=None, HP=35, Attack=46, Defense=34, Sp. Atk=35, Sp. Def=45, Speed=20, Generation=2, Legendary=False),\n",
       " Row(#=162, Name='Furret', Type 1='Normal', Type 2=None, HP=85, Attack=76, Defense=64, Sp. Atk=45, Sp. Def=55, Speed=90, Generation=2, Legendary=False),\n",
       " Row(#=163, Name='Hoothoot', Type 1='Normal', Type 2='Flying', HP=60, Attack=30, Defense=30, Sp. Atk=36, Sp. Def=56, Speed=50, Generation=2, Legendary=False),\n",
       " Row(#=164, Name='Noctowl', Type 1='Normal', Type 2='Flying', HP=100, Attack=50, Defense=50, Sp. Atk=76, Sp. Def=96, Speed=70, Generation=2, Legendary=False),\n",
       " Row(#=165, Name='Ledyba', Type 1='Bug', Type 2='Flying', HP=40, Attack=20, Defense=30, Sp. Atk=40, Sp. Def=80, Speed=55, Generation=2, Legendary=False),\n",
       " Row(#=166, Name='Ledian', Type 1='Bug', Type 2='Flying', HP=55, Attack=35, Defense=50, Sp. Atk=55, Sp. Def=110, Speed=85, Generation=2, Legendary=False),\n",
       " Row(#=167, Name='Spinarak', Type 1='Bug', Type 2='Poison', HP=40, Attack=60, Defense=40, Sp. Atk=40, Sp. Def=40, Speed=30, Generation=2, Legendary=False),\n",
       " Row(#=168, Name='Ariados', Type 1='Bug', Type 2='Poison', HP=70, Attack=90, Defense=70, Sp. Atk=60, Sp. Def=60, Speed=40, Generation=2, Legendary=False),\n",
       " Row(#=169, Name='Crobat', Type 1='Poison', Type 2='Flying', HP=85, Attack=90, Defense=80, Sp. Atk=70, Sp. Def=80, Speed=130, Generation=2, Legendary=False),\n",
       " Row(#=170, Name='Chinchou', Type 1='Water', Type 2='Electric', HP=75, Attack=38, Defense=38, Sp. Atk=56, Sp. Def=56, Speed=67, Generation=2, Legendary=False),\n",
       " Row(#=171, Name='Lanturn', Type 1='Water', Type 2='Electric', HP=125, Attack=58, Defense=58, Sp. Atk=76, Sp. Def=76, Speed=67, Generation=2, Legendary=False),\n",
       " Row(#=172, Name='Pichu', Type 1='Electric', Type 2=None, HP=20, Attack=40, Defense=15, Sp. Atk=35, Sp. Def=35, Speed=60, Generation=2, Legendary=False),\n",
       " Row(#=173, Name='Cleffa', Type 1='Fairy', Type 2=None, HP=50, Attack=25, Defense=28, Sp. Atk=45, Sp. Def=55, Speed=15, Generation=2, Legendary=False),\n",
       " Row(#=174, Name='Igglybuff', Type 1='Normal', Type 2='Fairy', HP=90, Attack=30, Defense=15, Sp. Atk=40, Sp. Def=20, Speed=15, Generation=2, Legendary=False),\n",
       " Row(#=175, Name='Togepi', Type 1='Fairy', Type 2=None, HP=35, Attack=20, Defense=65, Sp. Atk=40, Sp. Def=65, Speed=20, Generation=2, Legendary=False),\n",
       " Row(#=176, Name='Togetic', Type 1='Fairy', Type 2='Flying', HP=55, Attack=40, Defense=85, Sp. Atk=80, Sp. Def=105, Speed=40, Generation=2, Legendary=False),\n",
       " Row(#=177, Name='Natu', Type 1='Psychic', Type 2='Flying', HP=40, Attack=50, Defense=45, Sp. Atk=70, Sp. Def=45, Speed=70, Generation=2, Legendary=False),\n",
       " Row(#=178, Name='Xatu', Type 1='Psychic', Type 2='Flying', HP=65, Attack=75, Defense=70, Sp. Atk=95, Sp. Def=70, Speed=95, Generation=2, Legendary=False),\n",
       " Row(#=179, Name='Mareep', Type 1='Electric', Type 2=None, HP=55, Attack=40, Defense=40, Sp. Atk=65, Sp. Def=45, Speed=35, Generation=2, Legendary=False),\n",
       " Row(#=180, Name='Flaaffy', Type 1='Electric', Type 2=None, HP=70, Attack=55, Defense=55, Sp. Atk=80, Sp. Def=60, Speed=45, Generation=2, Legendary=False),\n",
       " Row(#=181, Name='Ampharos', Type 1='Electric', Type 2=None, HP=90, Attack=75, Defense=85, Sp. Atk=115, Sp. Def=90, Speed=55, Generation=2, Legendary=False),\n",
       " Row(#=181, Name='AmpharosMega Ampharos', Type 1='Electric', Type 2='Dragon', HP=90, Attack=95, Defense=105, Sp. Atk=165, Sp. Def=110, Speed=45, Generation=2, Legendary=False),\n",
       " Row(#=182, Name='Bellossom', Type 1='Grass', Type 2=None, HP=75, Attack=80, Defense=95, Sp. Atk=90, Sp. Def=100, Speed=50, Generation=2, Legendary=False),\n",
       " Row(#=183, Name='Marill', Type 1='Water', Type 2='Fairy', HP=70, Attack=20, Defense=50, Sp. Atk=20, Sp. Def=50, Speed=40, Generation=2, Legendary=False),\n",
       " Row(#=184, Name='Azumarill', Type 1='Water', Type 2='Fairy', HP=100, Attack=50, Defense=80, Sp. Atk=60, Sp. Def=80, Speed=50, Generation=2, Legendary=False),\n",
       " Row(#=185, Name='Sudowoodo', Type 1='Rock', Type 2=None, HP=70, Attack=100, Defense=115, Sp. Atk=30, Sp. Def=65, Speed=30, Generation=2, Legendary=False),\n",
       " Row(#=186, Name='Politoed', Type 1='Water', Type 2=None, HP=90, Attack=75, Defense=75, Sp. Atk=90, Sp. Def=100, Speed=70, Generation=2, Legendary=False),\n",
       " Row(#=187, Name='Hoppip', Type 1='Grass', Type 2='Flying', HP=35, Attack=35, Defense=40, Sp. Atk=35, Sp. Def=55, Speed=50, Generation=2, Legendary=False),\n",
       " Row(#=188, Name='Skiploom', Type 1='Grass', Type 2='Flying', HP=55, Attack=45, Defense=50, Sp. Atk=45, Sp. Def=65, Speed=80, Generation=2, Legendary=False),\n",
       " Row(#=189, Name='Jumpluff', Type 1='Grass', Type 2='Flying', HP=75, Attack=55, Defense=70, Sp. Atk=55, Sp. Def=95, Speed=110, Generation=2, Legendary=False),\n",
       " Row(#=190, Name='Aipom', Type 1='Normal', Type 2=None, HP=55, Attack=70, Defense=55, Sp. Atk=40, Sp. Def=55, Speed=85, Generation=2, Legendary=False),\n",
       " Row(#=191, Name='Sunkern', Type 1='Grass', Type 2=None, HP=30, Attack=30, Defense=30, Sp. Atk=30, Sp. Def=30, Speed=30, Generation=2, Legendary=False),\n",
       " Row(#=192, Name='Sunflora', Type 1='Grass', Type 2=None, HP=75, Attack=75, Defense=55, Sp. Atk=105, Sp. Def=85, Speed=30, Generation=2, Legendary=False),\n",
       " Row(#=193, Name='Yanma', Type 1='Bug', Type 2='Flying', HP=65, Attack=65, Defense=45, Sp. Atk=75, Sp. Def=45, Speed=95, Generation=2, Legendary=False),\n",
       " Row(#=194, Name='Wooper', Type 1='Water', Type 2='Ground', HP=55, Attack=45, Defense=45, Sp. Atk=25, Sp. Def=25, Speed=15, Generation=2, Legendary=False),\n",
       " Row(#=195, Name='Quagsire', Type 1='Water', Type 2='Ground', HP=95, Attack=85, Defense=85, Sp. Atk=65, Sp. Def=65, Speed=35, Generation=2, Legendary=False),\n",
       " Row(#=196, Name='Espeon', Type 1='Psychic', Type 2=None, HP=65, Attack=65, Defense=60, Sp. Atk=130, Sp. Def=95, Speed=110, Generation=2, Legendary=False),\n",
       " Row(#=197, Name='Umbreon', Type 1='Dark', Type 2=None, HP=95, Attack=65, Defense=110, Sp. Atk=60, Sp. Def=130, Speed=65, Generation=2, Legendary=False),\n",
       " Row(#=198, Name='Murkrow', Type 1='Dark', Type 2='Flying', HP=60, Attack=85, Defense=42, Sp. Atk=85, Sp. Def=42, Speed=91, Generation=2, Legendary=False),\n",
       " Row(#=199, Name='Slowking', Type 1='Water', Type 2='Psychic', HP=95, Attack=75, Defense=80, Sp. Atk=100, Sp. Def=110, Speed=30, Generation=2, Legendary=False),\n",
       " Row(#=200, Name='Misdreavus', Type 1='Ghost', Type 2=None, HP=60, Attack=60, Defense=60, Sp. Atk=85, Sp. Def=85, Speed=85, Generation=2, Legendary=False),\n",
       " Row(#=201, Name='Unown', Type 1='Psychic', Type 2=None, HP=48, Attack=72, Defense=48, Sp. Atk=72, Sp. Def=48, Speed=48, Generation=2, Legendary=False),\n",
       " Row(#=202, Name='Wobbuffet', Type 1='Psychic', Type 2=None, HP=190, Attack=33, Defense=58, Sp. Atk=33, Sp. Def=58, Speed=33, Generation=2, Legendary=False),\n",
       " Row(#=203, Name='Girafarig', Type 1='Normal', Type 2='Psychic', HP=70, Attack=80, Defense=65, Sp. Atk=90, Sp. Def=65, Speed=85, Generation=2, Legendary=False),\n",
       " Row(#=204, Name='Pineco', Type 1='Bug', Type 2=None, HP=50, Attack=65, Defense=90, Sp. Atk=35, Sp. Def=35, Speed=15, Generation=2, Legendary=False),\n",
       " Row(#=205, Name='Forretress', Type 1='Bug', Type 2='Steel', HP=75, Attack=90, Defense=140, Sp. Atk=60, Sp. Def=60, Speed=40, Generation=2, Legendary=False),\n",
       " Row(#=206, Name='Dunsparce', Type 1='Normal', Type 2=None, HP=100, Attack=70, Defense=70, Sp. Atk=65, Sp. Def=65, Speed=45, Generation=2, Legendary=False),\n",
       " Row(#=207, Name='Gligar', Type 1='Ground', Type 2='Flying', HP=65, Attack=75, Defense=105, Sp. Atk=35, Sp. Def=65, Speed=85, Generation=2, Legendary=False),\n",
       " Row(#=208, Name='Steelix', Type 1='Steel', Type 2='Ground', HP=75, Attack=85, Defense=200, Sp. Atk=55, Sp. Def=65, Speed=30, Generation=2, Legendary=False),\n",
       " Row(#=208, Name='SteelixMega Steelix', Type 1='Steel', Type 2='Ground', HP=75, Attack=125, Defense=230, Sp. Atk=55, Sp. Def=95, Speed=30, Generation=2, Legendary=False),\n",
       " Row(#=209, Name='Snubbull', Type 1='Fairy', Type 2=None, HP=60, Attack=80, Defense=50, Sp. Atk=40, Sp. Def=40, Speed=30, Generation=2, Legendary=False),\n",
       " Row(#=210, Name='Granbull', Type 1='Fairy', Type 2=None, HP=90, Attack=120, Defense=75, Sp. Atk=60, Sp. Def=60, Speed=45, Generation=2, Legendary=False),\n",
       " Row(#=211, Name='Qwilfish', Type 1='Water', Type 2='Poison', HP=65, Attack=95, Defense=75, Sp. Atk=55, Sp. Def=55, Speed=85, Generation=2, Legendary=False),\n",
       " Row(#=212, Name='Scizor', Type 1='Bug', Type 2='Steel', HP=70, Attack=130, Defense=100, Sp. Atk=55, Sp. Def=80, Speed=65, Generation=2, Legendary=False),\n",
       " Row(#=212, Name='ScizorMega Scizor', Type 1='Bug', Type 2='Steel', HP=70, Attack=150, Defense=140, Sp. Atk=65, Sp. Def=100, Speed=75, Generation=2, Legendary=False),\n",
       " Row(#=213, Name='Shuckle', Type 1='Bug', Type 2='Rock', HP=20, Attack=10, Defense=230, Sp. Atk=10, Sp. Def=230, Speed=5, Generation=2, Legendary=False),\n",
       " Row(#=214, Name='Heracross', Type 1='Bug', Type 2='Fighting', HP=80, Attack=125, Defense=75, Sp. Atk=40, Sp. Def=95, Speed=85, Generation=2, Legendary=False),\n",
       " Row(#=214, Name='HeracrossMega Heracross', Type 1='Bug', Type 2='Fighting', HP=80, Attack=185, Defense=115, Sp. Atk=40, Sp. Def=105, Speed=75, Generation=2, Legendary=False),\n",
       " Row(#=215, Name='Sneasel', Type 1='Dark', Type 2='Ice', HP=55, Attack=95, Defense=55, Sp. Atk=35, Sp. Def=75, Speed=115, Generation=2, Legendary=False),\n",
       " Row(#=216, Name='Teddiursa', Type 1='Normal', Type 2=None, HP=60, Attack=80, Defense=50, Sp. Atk=50, Sp. Def=50, Speed=40, Generation=2, Legendary=False),\n",
       " Row(#=217, Name='Ursaring', Type 1='Normal', Type 2=None, HP=90, Attack=130, Defense=75, Sp. Atk=75, Sp. Def=75, Speed=55, Generation=2, Legendary=False),\n",
       " Row(#=218, Name='Slugma', Type 1='Fire', Type 2=None, HP=40, Attack=40, Defense=40, Sp. Atk=70, Sp. Def=40, Speed=20, Generation=2, Legendary=False),\n",
       " Row(#=219, Name='Magcargo', Type 1='Fire', Type 2='Rock', HP=50, Attack=50, Defense=120, Sp. Atk=80, Sp. Def=80, Speed=30, Generation=2, Legendary=False),\n",
       " Row(#=220, Name='Swinub', Type 1='Ice', Type 2='Ground', HP=50, Attack=50, Defense=40, Sp. Atk=30, Sp. Def=30, Speed=50, Generation=2, Legendary=False),\n",
       " Row(#=221, Name='Piloswine', Type 1='Ice', Type 2='Ground', HP=100, Attack=100, Defense=80, Sp. Atk=60, Sp. Def=60, Speed=50, Generation=2, Legendary=False),\n",
       " Row(#=222, Name='Corsola', Type 1='Water', Type 2='Rock', HP=55, Attack=55, Defense=85, Sp. Atk=65, Sp. Def=85, Speed=35, Generation=2, Legendary=False),\n",
       " Row(#=223, Name='Remoraid', Type 1='Water', Type 2=None, HP=35, Attack=65, Defense=35, Sp. Atk=65, Sp. Def=35, Speed=65, Generation=2, Legendary=False),\n",
       " Row(#=224, Name='Octillery', Type 1='Water', Type 2=None, HP=75, Attack=105, Defense=75, Sp. Atk=105, Sp. Def=75, Speed=45, Generation=2, Legendary=False),\n",
       " Row(#=225, Name='Delibird', Type 1='Ice', Type 2='Flying', HP=45, Attack=55, Defense=45, Sp. Atk=65, Sp. Def=45, Speed=75, Generation=2, Legendary=False),\n",
       " Row(#=226, Name='Mantine', Type 1='Water', Type 2='Flying', HP=65, Attack=40, Defense=70, Sp. Atk=80, Sp. Def=140, Speed=70, Generation=2, Legendary=False),\n",
       " Row(#=227, Name='Skarmory', Type 1='Steel', Type 2='Flying', HP=65, Attack=80, Defense=140, Sp. Atk=40, Sp. Def=70, Speed=70, Generation=2, Legendary=False),\n",
       " Row(#=228, Name='Houndour', Type 1='Dark', Type 2='Fire', HP=45, Attack=60, Defense=30, Sp. Atk=80, Sp. Def=50, Speed=65, Generation=2, Legendary=False),\n",
       " Row(#=229, Name='Houndoom', Type 1='Dark', Type 2='Fire', HP=75, Attack=90, Defense=50, Sp. Atk=110, Sp. Def=80, Speed=95, Generation=2, Legendary=False),\n",
       " Row(#=229, Name='HoundoomMega Houndoom', Type 1='Dark', Type 2='Fire', HP=75, Attack=90, Defense=90, Sp. Atk=140, Sp. Def=90, Speed=115, Generation=2, Legendary=False),\n",
       " Row(#=230, Name='Kingdra', Type 1='Water', Type 2='Dragon', HP=75, Attack=95, Defense=95, Sp. Atk=95, Sp. Def=95, Speed=85, Generation=2, Legendary=False),\n",
       " Row(#=231, Name='Phanpy', Type 1='Ground', Type 2=None, HP=90, Attack=60, Defense=60, Sp. Atk=40, Sp. Def=40, Speed=40, Generation=2, Legendary=False),\n",
       " Row(#=232, Name='Donphan', Type 1='Ground', Type 2=None, HP=90, Attack=120, Defense=120, Sp. Atk=60, Sp. Def=60, Speed=50, Generation=2, Legendary=False),\n",
       " Row(#=233, Name='Porygon2', Type 1='Normal', Type 2=None, HP=85, Attack=80, Defense=90, Sp. Atk=105, Sp. Def=95, Speed=60, Generation=2, Legendary=False),\n",
       " Row(#=234, Name='Stantler', Type 1='Normal', Type 2=None, HP=73, Attack=95, Defense=62, Sp. Atk=85, Sp. Def=65, Speed=85, Generation=2, Legendary=False),\n",
       " Row(#=235, Name='Smeargle', Type 1='Normal', Type 2=None, HP=55, Attack=20, Defense=35, Sp. Atk=20, Sp. Def=45, Speed=75, Generation=2, Legendary=False),\n",
       " Row(#=236, Name='Tyrogue', Type 1='Fighting', Type 2=None, HP=35, Attack=35, Defense=35, Sp. Atk=35, Sp. Def=35, Speed=35, Generation=2, Legendary=False),\n",
       " Row(#=237, Name='Hitmontop', Type 1='Fighting', Type 2=None, HP=50, Attack=95, Defense=95, Sp. Atk=35, Sp. Def=110, Speed=70, Generation=2, Legendary=False),\n",
       " Row(#=238, Name='Smoochum', Type 1='Ice', Type 2='Psychic', HP=45, Attack=30, Defense=15, Sp. Atk=85, Sp. Def=65, Speed=65, Generation=2, Legendary=False),\n",
       " Row(#=239, Name='Elekid', Type 1='Electric', Type 2=None, HP=45, Attack=63, Defense=37, Sp. Atk=65, Sp. Def=55, Speed=95, Generation=2, Legendary=False),\n",
       " Row(#=240, Name='Magby', Type 1='Fire', Type 2=None, HP=45, Attack=75, Defense=37, Sp. Atk=70, Sp. Def=55, Speed=83, Generation=2, Legendary=False),\n",
       " Row(#=241, Name='Miltank', Type 1='Normal', Type 2=None, HP=95, Attack=80, Defense=105, Sp. Atk=40, Sp. Def=70, Speed=100, Generation=2, Legendary=False),\n",
       " Row(#=242, Name='Blissey', Type 1='Normal', Type 2=None, HP=255, Attack=10, Defense=10, Sp. Atk=75, Sp. Def=135, Speed=55, Generation=2, Legendary=False),\n",
       " Row(#=243, Name='Raikou', Type 1='Electric', Type 2=None, HP=90, Attack=85, Defense=75, Sp. Atk=115, Sp. Def=100, Speed=115, Generation=2, Legendary=True),\n",
       " Row(#=244, Name='Entei', Type 1='Fire', Type 2=None, HP=115, Attack=115, Defense=85, Sp. Atk=90, Sp. Def=75, Speed=100, Generation=2, Legendary=True),\n",
       " Row(#=245, Name='Suicune', Type 1='Water', Type 2=None, HP=100, Attack=75, Defense=115, Sp. Atk=90, Sp. Def=115, Speed=85, Generation=2, Legendary=True),\n",
       " Row(#=246, Name='Larvitar', Type 1='Rock', Type 2='Ground', HP=50, Attack=64, Defense=50, Sp. Atk=45, Sp. Def=50, Speed=41, Generation=2, Legendary=False),\n",
       " Row(#=247, Name='Pupitar', Type 1='Rock', Type 2='Ground', HP=70, Attack=84, Defense=70, Sp. Atk=65, Sp. Def=70, Speed=51, Generation=2, Legendary=False),\n",
       " Row(#=248, Name='Tyranitar', Type 1='Rock', Type 2='Dark', HP=100, Attack=134, Defense=110, Sp. Atk=95, Sp. Def=100, Speed=61, Generation=2, Legendary=False),\n",
       " Row(#=248, Name='TyranitarMega Tyranitar', Type 1='Rock', Type 2='Dark', HP=100, Attack=164, Defense=150, Sp. Atk=95, Sp. Def=120, Speed=71, Generation=2, Legendary=False),\n",
       " Row(#=249, Name='Lugia', Type 1='Psychic', Type 2='Flying', HP=106, Attack=90, Defense=130, Sp. Atk=90, Sp. Def=154, Speed=110, Generation=2, Legendary=True),\n",
       " Row(#=250, Name='Ho-oh', Type 1='Fire', Type 2='Flying', HP=106, Attack=130, Defense=90, Sp. Atk=110, Sp. Def=154, Speed=90, Generation=2, Legendary=True),\n",
       " Row(#=251, Name='Celebi', Type 1='Psychic', Type 2='Grass', HP=100, Attack=100, Defense=100, Sp. Atk=100, Sp. Def=100, Speed=100, Generation=2, Legendary=False),\n",
       " Row(#=252, Name='Treecko', Type 1='Grass', Type 2=None, HP=40, Attack=45, Defense=35, Sp. Atk=65, Sp. Def=55, Speed=70, Generation=3, Legendary=False),\n",
       " Row(#=253, Name='Grovyle', Type 1='Grass', Type 2=None, HP=50, Attack=65, Defense=45, Sp. Atk=85, Sp. Def=65, Speed=95, Generation=3, Legendary=False),\n",
       " Row(#=254, Name='Sceptile', Type 1='Grass', Type 2=None, HP=70, Attack=85, Defense=65, Sp. Atk=105, Sp. Def=85, Speed=120, Generation=3, Legendary=False),\n",
       " Row(#=254, Name='SceptileMega Sceptile', Type 1='Grass', Type 2='Dragon', HP=70, Attack=110, Defense=75, Sp. Atk=145, Sp. Def=85, Speed=145, Generation=3, Legendary=False),\n",
       " Row(#=255, Name='Torchic', Type 1='Fire', Type 2=None, HP=45, Attack=60, Defense=40, Sp. Atk=70, Sp. Def=50, Speed=45, Generation=3, Legendary=False),\n",
       " Row(#=256, Name='Combusken', Type 1='Fire', Type 2='Fighting', HP=60, Attack=85, Defense=60, Sp. Atk=85, Sp. Def=60, Speed=55, Generation=3, Legendary=False),\n",
       " Row(#=257, Name='Blaziken', Type 1='Fire', Type 2='Fighting', HP=80, Attack=120, Defense=70, Sp. Atk=110, Sp. Def=70, Speed=80, Generation=3, Legendary=False),\n",
       " Row(#=257, Name='BlazikenMega Blaziken', Type 1='Fire', Type 2='Fighting', HP=80, Attack=160, Defense=80, Sp. Atk=130, Sp. Def=80, Speed=100, Generation=3, Legendary=False),\n",
       " Row(#=258, Name='Mudkip', Type 1='Water', Type 2=None, HP=50, Attack=70, Defense=50, Sp. Atk=50, Sp. Def=50, Speed=40, Generation=3, Legendary=False),\n",
       " Row(#=259, Name='Marshtomp', Type 1='Water', Type 2='Ground', HP=70, Attack=85, Defense=70, Sp. Atk=60, Sp. Def=70, Speed=50, Generation=3, Legendary=False),\n",
       " Row(#=260, Name='Swampert', Type 1='Water', Type 2='Ground', HP=100, Attack=110, Defense=90, Sp. Atk=85, Sp. Def=90, Speed=60, Generation=3, Legendary=False),\n",
       " Row(#=260, Name='SwampertMega Swampert', Type 1='Water', Type 2='Ground', HP=100, Attack=150, Defense=110, Sp. Atk=95, Sp. Def=110, Speed=70, Generation=3, Legendary=False),\n",
       " Row(#=261, Name='Poochyena', Type 1='Dark', Type 2=None, HP=35, Attack=55, Defense=35, Sp. Atk=30, Sp. Def=30, Speed=35, Generation=3, Legendary=False),\n",
       " Row(#=262, Name='Mightyena', Type 1='Dark', Type 2=None, HP=70, Attack=90, Defense=70, Sp. Atk=60, Sp. Def=60, Speed=70, Generation=3, Legendary=False),\n",
       " Row(#=263, Name='Zigzagoon', Type 1='Normal', Type 2=None, HP=38, Attack=30, Defense=41, Sp. Atk=30, Sp. Def=41, Speed=60, Generation=3, Legendary=False),\n",
       " Row(#=264, Name='Linoone', Type 1='Normal', Type 2=None, HP=78, Attack=70, Defense=61, Sp. Atk=50, Sp. Def=61, Speed=100, Generation=3, Legendary=False),\n",
       " Row(#=265, Name='Wurmple', Type 1='Bug', Type 2=None, HP=45, Attack=45, Defense=35, Sp. Atk=20, Sp. Def=30, Speed=20, Generation=3, Legendary=False),\n",
       " Row(#=266, Name='Silcoon', Type 1='Bug', Type 2=None, HP=50, Attack=35, Defense=55, Sp. Atk=25, Sp. Def=25, Speed=15, Generation=3, Legendary=False),\n",
       " Row(#=267, Name='Beautifly', Type 1='Bug', Type 2='Flying', HP=60, Attack=70, Defense=50, Sp. Atk=100, Sp. Def=50, Speed=65, Generation=3, Legendary=False),\n",
       " Row(#=268, Name='Cascoon', Type 1='Bug', Type 2=None, HP=50, Attack=35, Defense=55, Sp. Atk=25, Sp. Def=25, Speed=15, Generation=3, Legendary=False),\n",
       " Row(#=269, Name='Dustox', Type 1='Bug', Type 2='Poison', HP=60, Attack=50, Defense=70, Sp. Atk=50, Sp. Def=90, Speed=65, Generation=3, Legendary=False),\n",
       " Row(#=270, Name='Lotad', Type 1='Water', Type 2='Grass', HP=40, Attack=30, Defense=30, Sp. Atk=40, Sp. Def=50, Speed=30, Generation=3, Legendary=False),\n",
       " Row(#=271, Name='Lombre', Type 1='Water', Type 2='Grass', HP=60, Attack=50, Defense=50, Sp. Atk=60, Sp. Def=70, Speed=50, Generation=3, Legendary=False),\n",
       " Row(#=272, Name='Ludicolo', Type 1='Water', Type 2='Grass', HP=80, Attack=70, Defense=70, Sp. Atk=90, Sp. Def=100, Speed=70, Generation=3, Legendary=False),\n",
       " Row(#=273, Name='Seedot', Type 1='Grass', Type 2=None, HP=40, Attack=40, Defense=50, Sp. Atk=30, Sp. Def=30, Speed=30, Generation=3, Legendary=False),\n",
       " Row(#=274, Name='Nuzleaf', Type 1='Grass', Type 2='Dark', HP=70, Attack=70, Defense=40, Sp. Atk=60, Sp. Def=40, Speed=60, Generation=3, Legendary=False),\n",
       " Row(#=275, Name='Shiftry', Type 1='Grass', Type 2='Dark', HP=90, Attack=100, Defense=60, Sp. Atk=90, Sp. Def=60, Speed=80, Generation=3, Legendary=False),\n",
       " Row(#=276, Name='Taillow', Type 1='Normal', Type 2='Flying', HP=40, Attack=55, Defense=30, Sp. Atk=30, Sp. Def=30, Speed=85, Generation=3, Legendary=False),\n",
       " Row(#=277, Name='Swellow', Type 1='Normal', Type 2='Flying', HP=60, Attack=85, Defense=60, Sp. Atk=50, Sp. Def=50, Speed=125, Generation=3, Legendary=False),\n",
       " Row(#=278, Name='Wingull', Type 1='Water', Type 2='Flying', HP=40, Attack=30, Defense=30, Sp. Atk=55, Sp. Def=30, Speed=85, Generation=3, Legendary=False),\n",
       " Row(#=279, Name='Pelipper', Type 1='Water', Type 2='Flying', HP=60, Attack=50, Defense=100, Sp. Atk=85, Sp. Def=70, Speed=65, Generation=3, Legendary=False),\n",
       " Row(#=280, Name='Ralts', Type 1='Psychic', Type 2='Fairy', HP=28, Attack=25, Defense=25, Sp. Atk=45, Sp. Def=35, Speed=40, Generation=3, Legendary=False),\n",
       " Row(#=281, Name='Kirlia', Type 1='Psychic', Type 2='Fairy', HP=38, Attack=35, Defense=35, Sp. Atk=65, Sp. Def=55, Speed=50, Generation=3, Legendary=False),\n",
       " Row(#=282, Name='Gardevoir', Type 1='Psychic', Type 2='Fairy', HP=68, Attack=65, Defense=65, Sp. Atk=125, Sp. Def=115, Speed=80, Generation=3, Legendary=False),\n",
       " Row(#=282, Name='GardevoirMega Gardevoir', Type 1='Psychic', Type 2='Fairy', HP=68, Attack=85, Defense=65, Sp. Atk=165, Sp. Def=135, Speed=100, Generation=3, Legendary=False),\n",
       " Row(#=283, Name='Surskit', Type 1='Bug', Type 2='Water', HP=40, Attack=30, Defense=32, Sp. Atk=50, Sp. Def=52, Speed=65, Generation=3, Legendary=False),\n",
       " Row(#=284, Name='Masquerain', Type 1='Bug', Type 2='Flying', HP=70, Attack=60, Defense=62, Sp. Atk=80, Sp. Def=82, Speed=60, Generation=3, Legendary=False),\n",
       " Row(#=285, Name='Shroomish', Type 1='Grass', Type 2=None, HP=60, Attack=40, Defense=60, Sp. Atk=40, Sp. Def=60, Speed=35, Generation=3, Legendary=False),\n",
       " Row(#=286, Name='Breloom', Type 1='Grass', Type 2='Fighting', HP=60, Attack=130, Defense=80, Sp. Atk=60, Sp. Def=60, Speed=70, Generation=3, Legendary=False),\n",
       " Row(#=287, Name='Slakoth', Type 1='Normal', Type 2=None, HP=60, Attack=60, Defense=60, Sp. Atk=35, Sp. Def=35, Speed=30, Generation=3, Legendary=False),\n",
       " Row(#=288, Name='Vigoroth', Type 1='Normal', Type 2=None, HP=80, Attack=80, Defense=80, Sp. Atk=55, Sp. Def=55, Speed=90, Generation=3, Legendary=False),\n",
       " Row(#=289, Name='Slaking', Type 1='Normal', Type 2=None, HP=150, Attack=160, Defense=100, Sp. Atk=95, Sp. Def=65, Speed=100, Generation=3, Legendary=False),\n",
       " Row(#=290, Name='Nincada', Type 1='Bug', Type 2='Ground', HP=31, Attack=45, Defense=90, Sp. Atk=30, Sp. Def=30, Speed=40, Generation=3, Legendary=False),\n",
       " Row(#=291, Name='Ninjask', Type 1='Bug', Type 2='Flying', HP=61, Attack=90, Defense=45, Sp. Atk=50, Sp. Def=50, Speed=160, Generation=3, Legendary=False),\n",
       " Row(#=292, Name='Shedinja', Type 1='Bug', Type 2='Ghost', HP=1, Attack=90, Defense=45, Sp. Atk=30, Sp. Def=30, Speed=40, Generation=3, Legendary=False),\n",
       " Row(#=293, Name='Whismur', Type 1='Normal', Type 2=None, HP=64, Attack=51, Defense=23, Sp. Atk=51, Sp. Def=23, Speed=28, Generation=3, Legendary=False),\n",
       " Row(#=294, Name='Loudred', Type 1='Normal', Type 2=None, HP=84, Attack=71, Defense=43, Sp. Atk=71, Sp. Def=43, Speed=48, Generation=3, Legendary=False),\n",
       " Row(#=295, Name='Exploud', Type 1='Normal', Type 2=None, HP=104, Attack=91, Defense=63, Sp. Atk=91, Sp. Def=73, Speed=68, Generation=3, Legendary=False),\n",
       " Row(#=296, Name='Makuhita', Type 1='Fighting', Type 2=None, HP=72, Attack=60, Defense=30, Sp. Atk=20, Sp. Def=30, Speed=25, Generation=3, Legendary=False),\n",
       " Row(#=297, Name='Hariyama', Type 1='Fighting', Type 2=None, HP=144, Attack=120, Defense=60, Sp. Atk=40, Sp. Def=60, Speed=50, Generation=3, Legendary=False),\n",
       " Row(#=298, Name='Azurill', Type 1='Normal', Type 2='Fairy', HP=50, Attack=20, Defense=40, Sp. Atk=20, Sp. Def=40, Speed=20, Generation=3, Legendary=False),\n",
       " Row(#=299, Name='Nosepass', Type 1='Rock', Type 2=None, HP=30, Attack=45, Defense=135, Sp. Atk=45, Sp. Def=90, Speed=30, Generation=3, Legendary=False),\n",
       " Row(#=300, Name='Skitty', Type 1='Normal', Type 2=None, HP=50, Attack=45, Defense=45, Sp. Atk=35, Sp. Def=35, Speed=50, Generation=3, Legendary=False),\n",
       " Row(#=301, Name='Delcatty', Type 1='Normal', Type 2=None, HP=70, Attack=65, Defense=65, Sp. Atk=55, Sp. Def=55, Speed=70, Generation=3, Legendary=False),\n",
       " Row(#=302, Name='Sableye', Type 1='Dark', Type 2='Ghost', HP=50, Attack=75, Defense=75, Sp. Atk=65, Sp. Def=65, Speed=50, Generation=3, Legendary=False),\n",
       " Row(#=302, Name='SableyeMega Sableye', Type 1='Dark', Type 2='Ghost', HP=50, Attack=85, Defense=125, Sp. Atk=85, Sp. Def=115, Speed=20, Generation=3, Legendary=False),\n",
       " Row(#=303, Name='Mawile', Type 1='Steel', Type 2='Fairy', HP=50, Attack=85, Defense=85, Sp. Atk=55, Sp. Def=55, Speed=50, Generation=3, Legendary=False),\n",
       " Row(#=303, Name='MawileMega Mawile', Type 1='Steel', Type 2='Fairy', HP=50, Attack=105, Defense=125, Sp. Atk=55, Sp. Def=95, Speed=50, Generation=3, Legendary=False),\n",
       " Row(#=304, Name='Aron', Type 1='Steel', Type 2='Rock', HP=50, Attack=70, Defense=100, Sp. Atk=40, Sp. Def=40, Speed=30, Generation=3, Legendary=False),\n",
       " Row(#=305, Name='Lairon', Type 1='Steel', Type 2='Rock', HP=60, Attack=90, Defense=140, Sp. Atk=50, Sp. Def=50, Speed=40, Generation=3, Legendary=False),\n",
       " Row(#=306, Name='Aggron', Type 1='Steel', Type 2='Rock', HP=70, Attack=110, Defense=180, Sp. Atk=60, Sp. Def=60, Speed=50, Generation=3, Legendary=False),\n",
       " Row(#=306, Name='AggronMega Aggron', Type 1='Steel', Type 2=None, HP=70, Attack=140, Defense=230, Sp. Atk=60, Sp. Def=80, Speed=50, Generation=3, Legendary=False),\n",
       " Row(#=307, Name='Meditite', Type 1='Fighting', Type 2='Psychic', HP=30, Attack=40, Defense=55, Sp. Atk=40, Sp. Def=55, Speed=60, Generation=3, Legendary=False),\n",
       " Row(#=308, Name='Medicham', Type 1='Fighting', Type 2='Psychic', HP=60, Attack=60, Defense=75, Sp. Atk=60, Sp. Def=75, Speed=80, Generation=3, Legendary=False),\n",
       " Row(#=308, Name='MedichamMega Medicham', Type 1='Fighting', Type 2='Psychic', HP=60, Attack=100, Defense=85, Sp. Atk=80, Sp. Def=85, Speed=100, Generation=3, Legendary=False),\n",
       " Row(#=309, Name='Electrike', Type 1='Electric', Type 2=None, HP=40, Attack=45, Defense=40, Sp. Atk=65, Sp. Def=40, Speed=65, Generation=3, Legendary=False),\n",
       " Row(#=310, Name='Manectric', Type 1='Electric', Type 2=None, HP=70, Attack=75, Defense=60, Sp. Atk=105, Sp. Def=60, Speed=105, Generation=3, Legendary=False),\n",
       " Row(#=310, Name='ManectricMega Manectric', Type 1='Electric', Type 2=None, HP=70, Attack=75, Defense=80, Sp. Atk=135, Sp. Def=80, Speed=135, Generation=3, Legendary=False),\n",
       " Row(#=311, Name='Plusle', Type 1='Electric', Type 2=None, HP=60, Attack=50, Defense=40, Sp. Atk=85, Sp. Def=75, Speed=95, Generation=3, Legendary=False),\n",
       " Row(#=312, Name='Minun', Type 1='Electric', Type 2=None, HP=60, Attack=40, Defense=50, Sp. Atk=75, Sp. Def=85, Speed=95, Generation=3, Legendary=False),\n",
       " Row(#=313, Name='Volbeat', Type 1='Bug', Type 2=None, HP=65, Attack=73, Defense=55, Sp. Atk=47, Sp. Def=75, Speed=85, Generation=3, Legendary=False),\n",
       " Row(#=314, Name='Illumise', Type 1='Bug', Type 2=None, HP=65, Attack=47, Defense=55, Sp. Atk=73, Sp. Def=75, Speed=85, Generation=3, Legendary=False),\n",
       " Row(#=315, Name='Roselia', Type 1='Grass', Type 2='Poison', HP=50, Attack=60, Defense=45, Sp. Atk=100, Sp. Def=80, Speed=65, Generation=3, Legendary=False),\n",
       " Row(#=316, Name='Gulpin', Type 1='Poison', Type 2=None, HP=70, Attack=43, Defense=53, Sp. Atk=43, Sp. Def=53, Speed=40, Generation=3, Legendary=False),\n",
       " Row(#=317, Name='Swalot', Type 1='Poison', Type 2=None, HP=100, Attack=73, Defense=83, Sp. Atk=73, Sp. Def=83, Speed=55, Generation=3, Legendary=False),\n",
       " Row(#=318, Name='Carvanha', Type 1='Water', Type 2='Dark', HP=45, Attack=90, Defense=20, Sp. Atk=65, Sp. Def=20, Speed=65, Generation=3, Legendary=False),\n",
       " Row(#=319, Name='Sharpedo', Type 1='Water', Type 2='Dark', HP=70, Attack=120, Defense=40, Sp. Atk=95, Sp. Def=40, Speed=95, Generation=3, Legendary=False),\n",
       " Row(#=319, Name='SharpedoMega Sharpedo', Type 1='Water', Type 2='Dark', HP=70, Attack=140, Defense=70, Sp. Atk=110, Sp. Def=65, Speed=105, Generation=3, Legendary=False),\n",
       " Row(#=320, Name='Wailmer', Type 1='Water', Type 2=None, HP=130, Attack=70, Defense=35, Sp. Atk=70, Sp. Def=35, Speed=60, Generation=3, Legendary=False),\n",
       " Row(#=321, Name='Wailord', Type 1='Water', Type 2=None, HP=170, Attack=90, Defense=45, Sp. Atk=90, Sp. Def=45, Speed=60, Generation=3, Legendary=False),\n",
       " Row(#=322, Name='Numel', Type 1='Fire', Type 2='Ground', HP=60, Attack=60, Defense=40, Sp. Atk=65, Sp. Def=45, Speed=35, Generation=3, Legendary=False),\n",
       " Row(#=323, Name='Camerupt', Type 1='Fire', Type 2='Ground', HP=70, Attack=100, Defense=70, Sp. Atk=105, Sp. Def=75, Speed=40, Generation=3, Legendary=False),\n",
       " Row(#=323, Name='CameruptMega Camerupt', Type 1='Fire', Type 2='Ground', HP=70, Attack=120, Defense=100, Sp. Atk=145, Sp. Def=105, Speed=20, Generation=3, Legendary=False),\n",
       " Row(#=324, Name='Torkoal', Type 1='Fire', Type 2=None, HP=70, Attack=85, Defense=140, Sp. Atk=85, Sp. Def=70, Speed=20, Generation=3, Legendary=False),\n",
       " Row(#=325, Name='Spoink', Type 1='Psychic', Type 2=None, HP=60, Attack=25, Defense=35, Sp. Atk=70, Sp. Def=80, Speed=60, Generation=3, Legendary=False),\n",
       " Row(#=326, Name='Grumpig', Type 1='Psychic', Type 2=None, HP=80, Attack=45, Defense=65, Sp. Atk=90, Sp. Def=110, Speed=80, Generation=3, Legendary=False),\n",
       " Row(#=327, Name='Spinda', Type 1='Normal', Type 2=None, HP=60, Attack=60, Defense=60, Sp. Atk=60, Sp. Def=60, Speed=60, Generation=3, Legendary=False),\n",
       " Row(#=328, Name='Trapinch', Type 1='Ground', Type 2=None, HP=45, Attack=100, Defense=45, Sp. Atk=45, Sp. Def=45, Speed=10, Generation=3, Legendary=False),\n",
       " Row(#=329, Name='Vibrava', Type 1='Ground', Type 2='Dragon', HP=50, Attack=70, Defense=50, Sp. Atk=50, Sp. Def=50, Speed=70, Generation=3, Legendary=False),\n",
       " Row(#=330, Name='Flygon', Type 1='Ground', Type 2='Dragon', HP=80, Attack=100, Defense=80, Sp. Atk=80, Sp. Def=80, Speed=100, Generation=3, Legendary=False),\n",
       " Row(#=331, Name='Cacnea', Type 1='Grass', Type 2=None, HP=50, Attack=85, Defense=40, Sp. Atk=85, Sp. Def=40, Speed=35, Generation=3, Legendary=False),\n",
       " Row(#=332, Name='Cacturne', Type 1='Grass', Type 2='Dark', HP=70, Attack=115, Defense=60, Sp. Atk=115, Sp. Def=60, Speed=55, Generation=3, Legendary=False),\n",
       " Row(#=333, Name='Swablu', Type 1='Normal', Type 2='Flying', HP=45, Attack=40, Defense=60, Sp. Atk=40, Sp. Def=75, Speed=50, Generation=3, Legendary=False),\n",
       " Row(#=334, Name='Altaria', Type 1='Dragon', Type 2='Flying', HP=75, Attack=70, Defense=90, Sp. Atk=70, Sp. Def=105, Speed=80, Generation=3, Legendary=False),\n",
       " Row(#=334, Name='AltariaMega Altaria', Type 1='Dragon', Type 2='Fairy', HP=75, Attack=110, Defense=110, Sp. Atk=110, Sp. Def=105, Speed=80, Generation=3, Legendary=False),\n",
       " Row(#=335, Name='Zangoose', Type 1='Normal', Type 2=None, HP=73, Attack=115, Defense=60, Sp. Atk=60, Sp. Def=60, Speed=90, Generation=3, Legendary=False),\n",
       " Row(#=336, Name='Seviper', Type 1='Poison', Type 2=None, HP=73, Attack=100, Defense=60, Sp. Atk=100, Sp. Def=60, Speed=65, Generation=3, Legendary=False),\n",
       " Row(#=337, Name='Lunatone', Type 1='Rock', Type 2='Psychic', HP=70, Attack=55, Defense=65, Sp. Atk=95, Sp. Def=85, Speed=70, Generation=3, Legendary=False),\n",
       " Row(#=338, Name='Solrock', Type 1='Rock', Type 2='Psychic', HP=70, Attack=95, Defense=85, Sp. Atk=55, Sp. Def=65, Speed=70, Generation=3, Legendary=False),\n",
       " Row(#=339, Name='Barboach', Type 1='Water', Type 2='Ground', HP=50, Attack=48, Defense=43, Sp. Atk=46, Sp. Def=41, Speed=60, Generation=3, Legendary=False),\n",
       " Row(#=340, Name='Whiscash', Type 1='Water', Type 2='Ground', HP=110, Attack=78, Defense=73, Sp. Atk=76, Sp. Def=71, Speed=60, Generation=3, Legendary=False),\n",
       " Row(#=341, Name='Corphish', Type 1='Water', Type 2=None, HP=43, Attack=80, Defense=65, Sp. Atk=50, Sp. Def=35, Speed=35, Generation=3, Legendary=False),\n",
       " Row(#=342, Name='Crawdaunt', Type 1='Water', Type 2='Dark', HP=63, Attack=120, Defense=85, Sp. Atk=90, Sp. Def=55, Speed=55, Generation=3, Legendary=False),\n",
       " Row(#=343, Name='Baltoy', Type 1='Ground', Type 2='Psychic', HP=40, Attack=40, Defense=55, Sp. Atk=40, Sp. Def=70, Speed=55, Generation=3, Legendary=False),\n",
       " Row(#=344, Name='Claydol', Type 1='Ground', Type 2='Psychic', HP=60, Attack=70, Defense=105, Sp. Atk=70, Sp. Def=120, Speed=75, Generation=3, Legendary=False),\n",
       " Row(#=345, Name='Lileep', Type 1='Rock', Type 2='Grass', HP=66, Attack=41, Defense=77, Sp. Atk=61, Sp. Def=87, Speed=23, Generation=3, Legendary=False),\n",
       " Row(#=346, Name='Cradily', Type 1='Rock', Type 2='Grass', HP=86, Attack=81, Defense=97, Sp. Atk=81, Sp. Def=107, Speed=43, Generation=3, Legendary=False),\n",
       " Row(#=347, Name='Anorith', Type 1='Rock', Type 2='Bug', HP=45, Attack=95, Defense=50, Sp. Atk=40, Sp. Def=50, Speed=75, Generation=3, Legendary=False),\n",
       " Row(#=348, Name='Armaldo', Type 1='Rock', Type 2='Bug', HP=75, Attack=125, Defense=100, Sp. Atk=70, Sp. Def=80, Speed=45, Generation=3, Legendary=False),\n",
       " Row(#=349, Name='Feebas', Type 1='Water', Type 2=None, HP=20, Attack=15, Defense=20, Sp. Atk=10, Sp. Def=55, Speed=80, Generation=3, Legendary=False),\n",
       " Row(#=350, Name='Milotic', Type 1='Water', Type 2=None, HP=95, Attack=60, Defense=79, Sp. Atk=100, Sp. Def=125, Speed=81, Generation=3, Legendary=False),\n",
       " Row(#=351, Name='Castform', Type 1='Normal', Type 2=None, HP=70, Attack=70, Defense=70, Sp. Atk=70, Sp. Def=70, Speed=70, Generation=3, Legendary=False),\n",
       " Row(#=352, Name='Kecleon', Type 1='Normal', Type 2=None, HP=60, Attack=90, Defense=70, Sp. Atk=60, Sp. Def=120, Speed=40, Generation=3, Legendary=False),\n",
       " Row(#=353, Name='Shuppet', Type 1='Ghost', Type 2=None, HP=44, Attack=75, Defense=35, Sp. Atk=63, Sp. Def=33, Speed=45, Generation=3, Legendary=False),\n",
       " Row(#=354, Name='Banette', Type 1='Ghost', Type 2=None, HP=64, Attack=115, Defense=65, Sp. Atk=83, Sp. Def=63, Speed=65, Generation=3, Legendary=False),\n",
       " Row(#=354, Name='BanetteMega Banette', Type 1='Ghost', Type 2=None, HP=64, Attack=165, Defense=75, Sp. Atk=93, Sp. Def=83, Speed=75, Generation=3, Legendary=False),\n",
       " Row(#=355, Name='Duskull', Type 1='Ghost', Type 2=None, HP=20, Attack=40, Defense=90, Sp. Atk=30, Sp. Def=90, Speed=25, Generation=3, Legendary=False),\n",
       " Row(#=356, Name='Dusclops', Type 1='Ghost', Type 2=None, HP=40, Attack=70, Defense=130, Sp. Atk=60, Sp. Def=130, Speed=25, Generation=3, Legendary=False),\n",
       " Row(#=357, Name='Tropius', Type 1='Grass', Type 2='Flying', HP=99, Attack=68, Defense=83, Sp. Atk=72, Sp. Def=87, Speed=51, Generation=3, Legendary=False),\n",
       " Row(#=358, Name='Chimecho', Type 1='Psychic', Type 2=None, HP=65, Attack=50, Defense=70, Sp. Atk=95, Sp. Def=80, Speed=65, Generation=3, Legendary=False),\n",
       " Row(#=359, Name='Absol', Type 1='Dark', Type 2=None, HP=65, Attack=130, Defense=60, Sp. Atk=75, Sp. Def=60, Speed=75, Generation=3, Legendary=False),\n",
       " Row(#=359, Name='AbsolMega Absol', Type 1='Dark', Type 2=None, HP=65, Attack=150, Defense=60, Sp. Atk=115, Sp. Def=60, Speed=115, Generation=3, Legendary=False),\n",
       " Row(#=360, Name='Wynaut', Type 1='Psychic', Type 2=None, HP=95, Attack=23, Defense=48, Sp. Atk=23, Sp. Def=48, Speed=23, Generation=3, Legendary=False),\n",
       " Row(#=361, Name='Snorunt', Type 1='Ice', Type 2=None, HP=50, Attack=50, Defense=50, Sp. Atk=50, Sp. Def=50, Speed=50, Generation=3, Legendary=False),\n",
       " Row(#=362, Name='Glalie', Type 1='Ice', Type 2=None, HP=80, Attack=80, Defense=80, Sp. Atk=80, Sp. Def=80, Speed=80, Generation=3, Legendary=False),\n",
       " Row(#=362, Name='GlalieMega Glalie', Type 1='Ice', Type 2=None, HP=80, Attack=120, Defense=80, Sp. Atk=120, Sp. Def=80, Speed=100, Generation=3, Legendary=False),\n",
       " Row(#=363, Name='Spheal', Type 1='Ice', Type 2='Water', HP=70, Attack=40, Defense=50, Sp. Atk=55, Sp. Def=50, Speed=25, Generation=3, Legendary=False),\n",
       " Row(#=364, Name='Sealeo', Type 1='Ice', Type 2='Water', HP=90, Attack=60, Defense=70, Sp. Atk=75, Sp. Def=70, Speed=45, Generation=3, Legendary=False),\n",
       " Row(#=365, Name='Walrein', Type 1='Ice', Type 2='Water', HP=110, Attack=80, Defense=90, Sp. Atk=95, Sp. Def=90, Speed=65, Generation=3, Legendary=False),\n",
       " Row(#=366, Name='Clamperl', Type 1='Water', Type 2=None, HP=35, Attack=64, Defense=85, Sp. Atk=74, Sp. Def=55, Speed=32, Generation=3, Legendary=False),\n",
       " Row(#=367, Name='Huntail', Type 1='Water', Type 2=None, HP=55, Attack=104, Defense=105, Sp. Atk=94, Sp. Def=75, Speed=52, Generation=3, Legendary=False),\n",
       " Row(#=368, Name='Gorebyss', Type 1='Water', Type 2=None, HP=55, Attack=84, Defense=105, Sp. Atk=114, Sp. Def=75, Speed=52, Generation=3, Legendary=False),\n",
       " Row(#=369, Name='Relicanth', Type 1='Water', Type 2='Rock', HP=100, Attack=90, Defense=130, Sp. Atk=45, Sp. Def=65, Speed=55, Generation=3, Legendary=False),\n",
       " Row(#=370, Name='Luvdisc', Type 1='Water', Type 2=None, HP=43, Attack=30, Defense=55, Sp. Atk=40, Sp. Def=65, Speed=97, Generation=3, Legendary=False),\n",
       " Row(#=371, Name='Bagon', Type 1='Dragon', Type 2=None, HP=45, Attack=75, Defense=60, Sp. Atk=40, Sp. Def=30, Speed=50, Generation=3, Legendary=False),\n",
       " Row(#=372, Name='Shelgon', Type 1='Dragon', Type 2=None, HP=65, Attack=95, Defense=100, Sp. Atk=60, Sp. Def=50, Speed=50, Generation=3, Legendary=False),\n",
       " Row(#=373, Name='Salamence', Type 1='Dragon', Type 2='Flying', HP=95, Attack=135, Defense=80, Sp. Atk=110, Sp. Def=80, Speed=100, Generation=3, Legendary=False),\n",
       " Row(#=373, Name='SalamenceMega Salamence', Type 1='Dragon', Type 2='Flying', HP=95, Attack=145, Defense=130, Sp. Atk=120, Sp. Def=90, Speed=120, Generation=3, Legendary=False),\n",
       " Row(#=374, Name='Beldum', Type 1='Steel', Type 2='Psychic', HP=40, Attack=55, Defense=80, Sp. Atk=35, Sp. Def=60, Speed=30, Generation=3, Legendary=False),\n",
       " Row(#=375, Name='Metang', Type 1='Steel', Type 2='Psychic', HP=60, Attack=75, Defense=100, Sp. Atk=55, Sp. Def=80, Speed=50, Generation=3, Legendary=False),\n",
       " Row(#=376, Name='Metagross', Type 1='Steel', Type 2='Psychic', HP=80, Attack=135, Defense=130, Sp. Atk=95, Sp. Def=90, Speed=70, Generation=3, Legendary=False),\n",
       " Row(#=376, Name='MetagrossMega Metagross', Type 1='Steel', Type 2='Psychic', HP=80, Attack=145, Defense=150, Sp. Atk=105, Sp. Def=110, Speed=110, Generation=3, Legendary=False),\n",
       " Row(#=377, Name='Regirock', Type 1='Rock', Type 2=None, HP=80, Attack=100, Defense=200, Sp. Atk=50, Sp. Def=100, Speed=50, Generation=3, Legendary=True),\n",
       " Row(#=378, Name='Regice', Type 1='Ice', Type 2=None, HP=80, Attack=50, Defense=100, Sp. Atk=100, Sp. Def=200, Speed=50, Generation=3, Legendary=True),\n",
       " Row(#=379, Name='Registeel', Type 1='Steel', Type 2=None, HP=80, Attack=75, Defense=150, Sp. Atk=75, Sp. Def=150, Speed=50, Generation=3, Legendary=True),\n",
       " Row(#=380, Name='Latias', Type 1='Dragon', Type 2='Psychic', HP=80, Attack=80, Defense=90, Sp. Atk=110, Sp. Def=130, Speed=110, Generation=3, Legendary=True),\n",
       " Row(#=380, Name='LatiasMega Latias', Type 1='Dragon', Type 2='Psychic', HP=80, Attack=100, Defense=120, Sp. Atk=140, Sp. Def=150, Speed=110, Generation=3, Legendary=True),\n",
       " Row(#=381, Name='Latios', Type 1='Dragon', Type 2='Psychic', HP=80, Attack=90, Defense=80, Sp. Atk=130, Sp. Def=110, Speed=110, Generation=3, Legendary=True),\n",
       " Row(#=381, Name='LatiosMega Latios', Type 1='Dragon', Type 2='Psychic', HP=80, Attack=130, Defense=100, Sp. Atk=160, Sp. Def=120, Speed=110, Generation=3, Legendary=True),\n",
       " Row(#=382, Name='Kyogre', Type 1='Water', Type 2=None, HP=100, Attack=100, Defense=90, Sp. Atk=150, Sp. Def=140, Speed=90, Generation=3, Legendary=True),\n",
       " Row(#=382, Name='KyogrePrimal Kyogre', Type 1='Water', Type 2=None, HP=100, Attack=150, Defense=90, Sp. Atk=180, Sp. Def=160, Speed=90, Generation=3, Legendary=True),\n",
       " Row(#=383, Name='Groudon', Type 1='Ground', Type 2=None, HP=100, Attack=150, Defense=140, Sp. Atk=100, Sp. Def=90, Speed=90, Generation=3, Legendary=True),\n",
       " Row(#=383, Name='GroudonPrimal Groudon', Type 1='Ground', Type 2='Fire', HP=100, Attack=180, Defense=160, Sp. Atk=150, Sp. Def=90, Speed=90, Generation=3, Legendary=True),\n",
       " Row(#=384, Name='Rayquaza', Type 1='Dragon', Type 2='Flying', HP=105, Attack=150, Defense=90, Sp. Atk=150, Sp. Def=90, Speed=95, Generation=3, Legendary=True),\n",
       " Row(#=384, Name='RayquazaMega Rayquaza', Type 1='Dragon', Type 2='Flying', HP=105, Attack=180, Defense=100, Sp. Atk=180, Sp. Def=100, Speed=115, Generation=3, Legendary=True),\n",
       " Row(#=385, Name='Jirachi', Type 1='Steel', Type 2='Psychic', HP=100, Attack=100, Defense=100, Sp. Atk=100, Sp. Def=100, Speed=100, Generation=3, Legendary=True),\n",
       " Row(#=386, Name='DeoxysNormal Forme', Type 1='Psychic', Type 2=None, HP=50, Attack=150, Defense=50, Sp. Atk=150, Sp. Def=50, Speed=150, Generation=3, Legendary=True),\n",
       " Row(#=386, Name='DeoxysAttack Forme', Type 1='Psychic', Type 2=None, HP=50, Attack=180, Defense=20, Sp. Atk=180, Sp. Def=20, Speed=150, Generation=3, Legendary=True),\n",
       " Row(#=386, Name='DeoxysDefense Forme', Type 1='Psychic', Type 2=None, HP=50, Attack=70, Defense=160, Sp. Atk=70, Sp. Def=160, Speed=90, Generation=3, Legendary=True),\n",
       " Row(#=386, Name='DeoxysSpeed Forme', Type 1='Psychic', Type 2=None, HP=50, Attack=95, Defense=90, Sp. Atk=95, Sp. Def=90, Speed=180, Generation=3, Legendary=True),\n",
       " Row(#=387, Name='Turtwig', Type 1='Grass', Type 2=None, HP=55, Attack=68, Defense=64, Sp. Atk=45, Sp. Def=55, Speed=31, Generation=4, Legendary=False),\n",
       " Row(#=388, Name='Grotle', Type 1='Grass', Type 2=None, HP=75, Attack=89, Defense=85, Sp. Atk=55, Sp. Def=65, Speed=36, Generation=4, Legendary=False),\n",
       " Row(#=389, Name='Torterra', Type 1='Grass', Type 2='Ground', HP=95, Attack=109, Defense=105, Sp. Atk=75, Sp. Def=85, Speed=56, Generation=4, Legendary=False),\n",
       " Row(#=390, Name='Chimchar', Type 1='Fire', Type 2=None, HP=44, Attack=58, Defense=44, Sp. Atk=58, Sp. Def=44, Speed=61, Generation=4, Legendary=False),\n",
       " Row(#=391, Name='Monferno', Type 1='Fire', Type 2='Fighting', HP=64, Attack=78, Defense=52, Sp. Atk=78, Sp. Def=52, Speed=81, Generation=4, Legendary=False),\n",
       " Row(#=392, Name='Infernape', Type 1='Fire', Type 2='Fighting', HP=76, Attack=104, Defense=71, Sp. Atk=104, Sp. Def=71, Speed=108, Generation=4, Legendary=False),\n",
       " Row(#=393, Name='Piplup', Type 1='Water', Type 2=None, HP=53, Attack=51, Defense=53, Sp. Atk=61, Sp. Def=56, Speed=40, Generation=4, Legendary=False),\n",
       " Row(#=394, Name='Prinplup', Type 1='Water', Type 2=None, HP=64, Attack=66, Defense=68, Sp. Atk=81, Sp. Def=76, Speed=50, Generation=4, Legendary=False),\n",
       " Row(#=395, Name='Empoleon', Type 1='Water', Type 2='Steel', HP=84, Attack=86, Defense=88, Sp. Atk=111, Sp. Def=101, Speed=60, Generation=4, Legendary=False),\n",
       " Row(#=396, Name='Starly', Type 1='Normal', Type 2='Flying', HP=40, Attack=55, Defense=30, Sp. Atk=30, Sp. Def=30, Speed=60, Generation=4, Legendary=False),\n",
       " Row(#=397, Name='Staravia', Type 1='Normal', Type 2='Flying', HP=55, Attack=75, Defense=50, Sp. Atk=40, Sp. Def=40, Speed=80, Generation=4, Legendary=False),\n",
       " Row(#=398, Name='Staraptor', Type 1='Normal', Type 2='Flying', HP=85, Attack=120, Defense=70, Sp. Atk=50, Sp. Def=60, Speed=100, Generation=4, Legendary=False),\n",
       " Row(#=399, Name='Bidoof', Type 1='Normal', Type 2=None, HP=59, Attack=45, Defense=40, Sp. Atk=35, Sp. Def=40, Speed=31, Generation=4, Legendary=False),\n",
       " Row(#=400, Name='Bibarel', Type 1='Normal', Type 2='Water', HP=79, Attack=85, Defense=60, Sp. Atk=55, Sp. Def=60, Speed=71, Generation=4, Legendary=False),\n",
       " Row(#=401, Name='Kricketot', Type 1='Bug', Type 2=None, HP=37, Attack=25, Defense=41, Sp. Atk=25, Sp. Def=41, Speed=25, Generation=4, Legendary=False),\n",
       " Row(#=402, Name='Kricketune', Type 1='Bug', Type 2=None, HP=77, Attack=85, Defense=51, Sp. Atk=55, Sp. Def=51, Speed=65, Generation=4, Legendary=False),\n",
       " Row(#=403, Name='Shinx', Type 1='Electric', Type 2=None, HP=45, Attack=65, Defense=34, Sp. Atk=40, Sp. Def=34, Speed=45, Generation=4, Legendary=False),\n",
       " Row(#=404, Name='Luxio', Type 1='Electric', Type 2=None, HP=60, Attack=85, Defense=49, Sp. Atk=60, Sp. Def=49, Speed=60, Generation=4, Legendary=False),\n",
       " Row(#=405, Name='Luxray', Type 1='Electric', Type 2=None, HP=80, Attack=120, Defense=79, Sp. Atk=95, Sp. Def=79, Speed=70, Generation=4, Legendary=False),\n",
       " Row(#=406, Name='Budew', Type 1='Grass', Type 2='Poison', HP=40, Attack=30, Defense=35, Sp. Atk=50, Sp. Def=70, Speed=55, Generation=4, Legendary=False),\n",
       " Row(#=407, Name='Roserade', Type 1='Grass', Type 2='Poison', HP=60, Attack=70, Defense=65, Sp. Atk=125, Sp. Def=105, Speed=90, Generation=4, Legendary=False),\n",
       " Row(#=408, Name='Cranidos', Type 1='Rock', Type 2=None, HP=67, Attack=125, Defense=40, Sp. Atk=30, Sp. Def=30, Speed=58, Generation=4, Legendary=False),\n",
       " Row(#=409, Name='Rampardos', Type 1='Rock', Type 2=None, HP=97, Attack=165, Defense=60, Sp. Atk=65, Sp. Def=50, Speed=58, Generation=4, Legendary=False),\n",
       " Row(#=410, Name='Shieldon', Type 1='Rock', Type 2='Steel', HP=30, Attack=42, Defense=118, Sp. Atk=42, Sp. Def=88, Speed=30, Generation=4, Legendary=False),\n",
       " Row(#=411, Name='Bastiodon', Type 1='Rock', Type 2='Steel', HP=60, Attack=52, Defense=168, Sp. Atk=47, Sp. Def=138, Speed=30, Generation=4, Legendary=False),\n",
       " Row(#=412, Name='Burmy', Type 1='Bug', Type 2=None, HP=40, Attack=29, Defense=45, Sp. Atk=29, Sp. Def=45, Speed=36, Generation=4, Legendary=False),\n",
       " Row(#=413, Name='WormadamPlant Cloak', Type 1='Bug', Type 2='Grass', HP=60, Attack=59, Defense=85, Sp. Atk=79, Sp. Def=105, Speed=36, Generation=4, Legendary=False),\n",
       " Row(#=413, Name='WormadamSandy Cloak', Type 1='Bug', Type 2='Ground', HP=60, Attack=79, Defense=105, Sp. Atk=59, Sp. Def=85, Speed=36, Generation=4, Legendary=False),\n",
       " Row(#=413, Name='WormadamTrash Cloak', Type 1='Bug', Type 2='Steel', HP=60, Attack=69, Defense=95, Sp. Atk=69, Sp. Def=95, Speed=36, Generation=4, Legendary=False),\n",
       " Row(#=414, Name='Mothim', Type 1='Bug', Type 2='Flying', HP=70, Attack=94, Defense=50, Sp. Atk=94, Sp. Def=50, Speed=66, Generation=4, Legendary=False),\n",
       " Row(#=415, Name='Combee', Type 1='Bug', Type 2='Flying', HP=30, Attack=30, Defense=42, Sp. Atk=30, Sp. Def=42, Speed=70, Generation=4, Legendary=False),\n",
       " Row(#=416, Name='Vespiquen', Type 1='Bug', Type 2='Flying', HP=70, Attack=80, Defense=102, Sp. Atk=80, Sp. Def=102, Speed=40, Generation=4, Legendary=False),\n",
       " Row(#=417, Name='Pachirisu', Type 1='Electric', Type 2=None, HP=60, Attack=45, Defense=70, Sp. Atk=45, Sp. Def=90, Speed=95, Generation=4, Legendary=False),\n",
       " Row(#=418, Name='Buizel', Type 1='Water', Type 2=None, HP=55, Attack=65, Defense=35, Sp. Atk=60, Sp. Def=30, Speed=85, Generation=4, Legendary=False),\n",
       " Row(#=419, Name='Floatzel', Type 1='Water', Type 2=None, HP=85, Attack=105, Defense=55, Sp. Atk=85, Sp. Def=50, Speed=115, Generation=4, Legendary=False),\n",
       " Row(#=420, Name='Cherubi', Type 1='Grass', Type 2=None, HP=45, Attack=35, Defense=45, Sp. Atk=62, Sp. Def=53, Speed=35, Generation=4, Legendary=False),\n",
       " Row(#=421, Name='Cherrim', Type 1='Grass', Type 2=None, HP=70, Attack=60, Defense=70, Sp. Atk=87, Sp. Def=78, Speed=85, Generation=4, Legendary=False),\n",
       " Row(#=422, Name='Shellos', Type 1='Water', Type 2=None, HP=76, Attack=48, Defense=48, Sp. Atk=57, Sp. Def=62, Speed=34, Generation=4, Legendary=False),\n",
       " Row(#=423, Name='Gastrodon', Type 1='Water', Type 2='Ground', HP=111, Attack=83, Defense=68, Sp. Atk=92, Sp. Def=82, Speed=39, Generation=4, Legendary=False),\n",
       " Row(#=424, Name='Ambipom', Type 1='Normal', Type 2=None, HP=75, Attack=100, Defense=66, Sp. Atk=60, Sp. Def=66, Speed=115, Generation=4, Legendary=False),\n",
       " Row(#=425, Name='Drifloon', Type 1='Ghost', Type 2='Flying', HP=90, Attack=50, Defense=34, Sp. Atk=60, Sp. Def=44, Speed=70, Generation=4, Legendary=False),\n",
       " Row(#=426, Name='Drifblim', Type 1='Ghost', Type 2='Flying', HP=150, Attack=80, Defense=44, Sp. Atk=90, Sp. Def=54, Speed=80, Generation=4, Legendary=False),\n",
       " Row(#=427, Name='Buneary', Type 1='Normal', Type 2=None, HP=55, Attack=66, Defense=44, Sp. Atk=44, Sp. Def=56, Speed=85, Generation=4, Legendary=False),\n",
       " Row(#=428, Name='Lopunny', Type 1='Normal', Type 2=None, HP=65, Attack=76, Defense=84, Sp. Atk=54, Sp. Def=96, Speed=105, Generation=4, Legendary=False),\n",
       " Row(#=428, Name='LopunnyMega Lopunny', Type 1='Normal', Type 2='Fighting', HP=65, Attack=136, Defense=94, Sp. Atk=54, Sp. Def=96, Speed=135, Generation=4, Legendary=False),\n",
       " Row(#=429, Name='Mismagius', Type 1='Ghost', Type 2=None, HP=60, Attack=60, Defense=60, Sp. Atk=105, Sp. Def=105, Speed=105, Generation=4, Legendary=False),\n",
       " Row(#=430, Name='Honchkrow', Type 1='Dark', Type 2='Flying', HP=100, Attack=125, Defense=52, Sp. Atk=105, Sp. Def=52, Speed=71, Generation=4, Legendary=False),\n",
       " Row(#=431, Name='Glameow', Type 1='Normal', Type 2=None, HP=49, Attack=55, Defense=42, Sp. Atk=42, Sp. Def=37, Speed=85, Generation=4, Legendary=False),\n",
       " Row(#=432, Name='Purugly', Type 1='Normal', Type 2=None, HP=71, Attack=82, Defense=64, Sp. Atk=64, Sp. Def=59, Speed=112, Generation=4, Legendary=False),\n",
       " Row(#=433, Name='Chingling', Type 1='Psychic', Type 2=None, HP=45, Attack=30, Defense=50, Sp. Atk=65, Sp. Def=50, Speed=45, Generation=4, Legendary=False),\n",
       " Row(#=434, Name='Stunky', Type 1='Poison', Type 2='Dark', HP=63, Attack=63, Defense=47, Sp. Atk=41, Sp. Def=41, Speed=74, Generation=4, Legendary=False),\n",
       " Row(#=435, Name='Skuntank', Type 1='Poison', Type 2='Dark', HP=103, Attack=93, Defense=67, Sp. Atk=71, Sp. Def=61, Speed=84, Generation=4, Legendary=False),\n",
       " Row(#=436, Name='Bronzor', Type 1='Steel', Type 2='Psychic', HP=57, Attack=24, Defense=86, Sp. Atk=24, Sp. Def=86, Speed=23, Generation=4, Legendary=False),\n",
       " Row(#=437, Name='Bronzong', Type 1='Steel', Type 2='Psychic', HP=67, Attack=89, Defense=116, Sp. Atk=79, Sp. Def=116, Speed=33, Generation=4, Legendary=False),\n",
       " Row(#=438, Name='Bonsly', Type 1='Rock', Type 2=None, HP=50, Attack=80, Defense=95, Sp. Atk=10, Sp. Def=45, Speed=10, Generation=4, Legendary=False),\n",
       " Row(#=439, Name='Mime Jr.', Type 1='Psychic', Type 2='Fairy', HP=20, Attack=25, Defense=45, Sp. Atk=70, Sp. Def=90, Speed=60, Generation=4, Legendary=False),\n",
       " Row(#=440, Name='Happiny', Type 1='Normal', Type 2=None, HP=100, Attack=5, Defense=5, Sp. Atk=15, Sp. Def=65, Speed=30, Generation=4, Legendary=False),\n",
       " Row(#=441, Name='Chatot', Type 1='Normal', Type 2='Flying', HP=76, Attack=65, Defense=45, Sp. Atk=92, Sp. Def=42, Speed=91, Generation=4, Legendary=False),\n",
       " Row(#=442, Name='Spiritomb', Type 1='Ghost', Type 2='Dark', HP=50, Attack=92, Defense=108, Sp. Atk=92, Sp. Def=108, Speed=35, Generation=4, Legendary=False),\n",
       " Row(#=443, Name='Gible', Type 1='Dragon', Type 2='Ground', HP=58, Attack=70, Defense=45, Sp. Atk=40, Sp. Def=45, Speed=42, Generation=4, Legendary=False),\n",
       " Row(#=444, Name='Gabite', Type 1='Dragon', Type 2='Ground', HP=68, Attack=90, Defense=65, Sp. Atk=50, Sp. Def=55, Speed=82, Generation=4, Legendary=False),\n",
       " Row(#=445, Name='Garchomp', Type 1='Dragon', Type 2='Ground', HP=108, Attack=130, Defense=95, Sp. Atk=80, Sp. Def=85, Speed=102, Generation=4, Legendary=False),\n",
       " Row(#=445, Name='GarchompMega Garchomp', Type 1='Dragon', Type 2='Ground', HP=108, Attack=170, Defense=115, Sp. Atk=120, Sp. Def=95, Speed=92, Generation=4, Legendary=False),\n",
       " Row(#=446, Name='Munchlax', Type 1='Normal', Type 2=None, HP=135, Attack=85, Defense=40, Sp. Atk=40, Sp. Def=85, Speed=5, Generation=4, Legendary=False),\n",
       " Row(#=447, Name='Riolu', Type 1='Fighting', Type 2=None, HP=40, Attack=70, Defense=40, Sp. Atk=35, Sp. Def=40, Speed=60, Generation=4, Legendary=False),\n",
       " Row(#=448, Name='Lucario', Type 1='Fighting', Type 2='Steel', HP=70, Attack=110, Defense=70, Sp. Atk=115, Sp. Def=70, Speed=90, Generation=4, Legendary=False),\n",
       " Row(#=448, Name='LucarioMega Lucario', Type 1='Fighting', Type 2='Steel', HP=70, Attack=145, Defense=88, Sp. Atk=140, Sp. Def=70, Speed=112, Generation=4, Legendary=False),\n",
       " Row(#=449, Name='Hippopotas', Type 1='Ground', Type 2=None, HP=68, Attack=72, Defense=78, Sp. Atk=38, Sp. Def=42, Speed=32, Generation=4, Legendary=False),\n",
       " Row(#=450, Name='Hippowdon', Type 1='Ground', Type 2=None, HP=108, Attack=112, Defense=118, Sp. Atk=68, Sp. Def=72, Speed=47, Generation=4, Legendary=False),\n",
       " Row(#=451, Name='Skorupi', Type 1='Poison', Type 2='Bug', HP=40, Attack=50, Defense=90, Sp. Atk=30, Sp. Def=55, Speed=65, Generation=4, Legendary=False),\n",
       " Row(#=452, Name='Drapion', Type 1='Poison', Type 2='Dark', HP=70, Attack=90, Defense=110, Sp. Atk=60, Sp. Def=75, Speed=95, Generation=4, Legendary=False),\n",
       " Row(#=453, Name='Croagunk', Type 1='Poison', Type 2='Fighting', HP=48, Attack=61, Defense=40, Sp. Atk=61, Sp. Def=40, Speed=50, Generation=4, Legendary=False),\n",
       " Row(#=454, Name='Toxicroak', Type 1='Poison', Type 2='Fighting', HP=83, Attack=106, Defense=65, Sp. Atk=86, Sp. Def=65, Speed=85, Generation=4, Legendary=False),\n",
       " Row(#=455, Name='Carnivine', Type 1='Grass', Type 2=None, HP=74, Attack=100, Defense=72, Sp. Atk=90, Sp. Def=72, Speed=46, Generation=4, Legendary=False),\n",
       " Row(#=456, Name='Finneon', Type 1='Water', Type 2=None, HP=49, Attack=49, Defense=56, Sp. Atk=49, Sp. Def=61, Speed=66, Generation=4, Legendary=False),\n",
       " Row(#=457, Name='Lumineon', Type 1='Water', Type 2=None, HP=69, Attack=69, Defense=76, Sp. Atk=69, Sp. Def=86, Speed=91, Generation=4, Legendary=False),\n",
       " Row(#=458, Name='Mantyke', Type 1='Water', Type 2='Flying', HP=45, Attack=20, Defense=50, Sp. Atk=60, Sp. Def=120, Speed=50, Generation=4, Legendary=False),\n",
       " Row(#=459, Name='Snover', Type 1='Grass', Type 2='Ice', HP=60, Attack=62, Defense=50, Sp. Atk=62, Sp. Def=60, Speed=40, Generation=4, Legendary=False),\n",
       " Row(#=460, Name='Abomasnow', Type 1='Grass', Type 2='Ice', HP=90, Attack=92, Defense=75, Sp. Atk=92, Sp. Def=85, Speed=60, Generation=4, Legendary=False),\n",
       " Row(#=460, Name='AbomasnowMega Abomasnow', Type 1='Grass', Type 2='Ice', HP=90, Attack=132, Defense=105, Sp. Atk=132, Sp. Def=105, Speed=30, Generation=4, Legendary=False),\n",
       " Row(#=461, Name='Weavile', Type 1='Dark', Type 2='Ice', HP=70, Attack=120, Defense=65, Sp. Atk=45, Sp. Def=85, Speed=125, Generation=4, Legendary=False),\n",
       " Row(#=462, Name='Magnezone', Type 1='Electric', Type 2='Steel', HP=70, Attack=70, Defense=115, Sp. Atk=130, Sp. Def=90, Speed=60, Generation=4, Legendary=False),\n",
       " Row(#=463, Name='Lickilicky', Type 1='Normal', Type 2=None, HP=110, Attack=85, Defense=95, Sp. Atk=80, Sp. Def=95, Speed=50, Generation=4, Legendary=False),\n",
       " Row(#=464, Name='Rhyperior', Type 1='Ground', Type 2='Rock', HP=115, Attack=140, Defense=130, Sp. Atk=55, Sp. Def=55, Speed=40, Generation=4, Legendary=False),\n",
       " Row(#=465, Name='Tangrowth', Type 1='Grass', Type 2=None, HP=100, Attack=100, Defense=125, Sp. Atk=110, Sp. Def=50, Speed=50, Generation=4, Legendary=False),\n",
       " Row(#=466, Name='Electivire', Type 1='Electric', Type 2=None, HP=75, Attack=123, Defense=67, Sp. Atk=95, Sp. Def=85, Speed=95, Generation=4, Legendary=False),\n",
       " Row(#=467, Name='Magmortar', Type 1='Fire', Type 2=None, HP=75, Attack=95, Defense=67, Sp. Atk=125, Sp. Def=95, Speed=83, Generation=4, Legendary=False),\n",
       " Row(#=468, Name='Togekiss', Type 1='Fairy', Type 2='Flying', HP=85, Attack=50, Defense=95, Sp. Atk=120, Sp. Def=115, Speed=80, Generation=4, Legendary=False),\n",
       " Row(#=469, Name='Yanmega', Type 1='Bug', Type 2='Flying', HP=86, Attack=76, Defense=86, Sp. Atk=116, Sp. Def=56, Speed=95, Generation=4, Legendary=False),\n",
       " Row(#=470, Name='Leafeon', Type 1='Grass', Type 2=None, HP=65, Attack=110, Defense=130, Sp. Atk=60, Sp. Def=65, Speed=95, Generation=4, Legendary=False),\n",
       " Row(#=471, Name='Glaceon', Type 1='Ice', Type 2=None, HP=65, Attack=60, Defense=110, Sp. Atk=130, Sp. Def=95, Speed=65, Generation=4, Legendary=False),\n",
       " Row(#=472, Name='Gliscor', Type 1='Ground', Type 2='Flying', HP=75, Attack=95, Defense=125, Sp. Atk=45, Sp. Def=75, Speed=95, Generation=4, Legendary=False),\n",
       " Row(#=473, Name='Mamoswine', Type 1='Ice', Type 2='Ground', HP=110, Attack=130, Defense=80, Sp. Atk=70, Sp. Def=60, Speed=80, Generation=4, Legendary=False),\n",
       " Row(#=474, Name='Porygon-Z', Type 1='Normal', Type 2=None, HP=85, Attack=80, Defense=70, Sp. Atk=135, Sp. Def=75, Speed=90, Generation=4, Legendary=False),\n",
       " Row(#=475, Name='Gallade', Type 1='Psychic', Type 2='Fighting', HP=68, Attack=125, Defense=65, Sp. Atk=65, Sp. Def=115, Speed=80, Generation=4, Legendary=False),\n",
       " Row(#=475, Name='GalladeMega Gallade', Type 1='Psychic', Type 2='Fighting', HP=68, Attack=165, Defense=95, Sp. Atk=65, Sp. Def=115, Speed=110, Generation=4, Legendary=False),\n",
       " Row(#=476, Name='Probopass', Type 1='Rock', Type 2='Steel', HP=60, Attack=55, Defense=145, Sp. Atk=75, Sp. Def=150, Speed=40, Generation=4, Legendary=False),\n",
       " Row(#=477, Name='Dusknoir', Type 1='Ghost', Type 2=None, HP=45, Attack=100, Defense=135, Sp. Atk=65, Sp. Def=135, Speed=45, Generation=4, Legendary=False),\n",
       " Row(#=478, Name='Froslass', Type 1='Ice', Type 2='Ghost', HP=70, Attack=80, Defense=70, Sp. Atk=80, Sp. Def=70, Speed=110, Generation=4, Legendary=False),\n",
       " Row(#=479, Name='Rotom', Type 1='Electric', Type 2='Ghost', HP=50, Attack=50, Defense=77, Sp. Atk=95, Sp. Def=77, Speed=91, Generation=4, Legendary=False),\n",
       " Row(#=479, Name='RotomHeat Rotom', Type 1='Electric', Type 2='Fire', HP=50, Attack=65, Defense=107, Sp. Atk=105, Sp. Def=107, Speed=86, Generation=4, Legendary=False),\n",
       " Row(#=479, Name='RotomWash Rotom', Type 1='Electric', Type 2='Water', HP=50, Attack=65, Defense=107, Sp. Atk=105, Sp. Def=107, Speed=86, Generation=4, Legendary=False),\n",
       " Row(#=479, Name='RotomFrost Rotom', Type 1='Electric', Type 2='Ice', HP=50, Attack=65, Defense=107, Sp. Atk=105, Sp. Def=107, Speed=86, Generation=4, Legendary=False),\n",
       " Row(#=479, Name='RotomFan Rotom', Type 1='Electric', Type 2='Flying', HP=50, Attack=65, Defense=107, Sp. Atk=105, Sp. Def=107, Speed=86, Generation=4, Legendary=False),\n",
       " Row(#=479, Name='RotomMow Rotom', Type 1='Electric', Type 2='Grass', HP=50, Attack=65, Defense=107, Sp. Atk=105, Sp. Def=107, Speed=86, Generation=4, Legendary=False),\n",
       " Row(#=480, Name='Uxie', Type 1='Psychic', Type 2=None, HP=75, Attack=75, Defense=130, Sp. Atk=75, Sp. Def=130, Speed=95, Generation=4, Legendary=True),\n",
       " Row(#=481, Name='Mesprit', Type 1='Psychic', Type 2=None, HP=80, Attack=105, Defense=105, Sp. Atk=105, Sp. Def=105, Speed=80, Generation=4, Legendary=True),\n",
       " Row(#=482, Name='Azelf', Type 1='Psychic', Type 2=None, HP=75, Attack=125, Defense=70, Sp. Atk=125, Sp. Def=70, Speed=115, Generation=4, Legendary=True),\n",
       " Row(#=483, Name='Dialga', Type 1='Steel', Type 2='Dragon', HP=100, Attack=120, Defense=120, Sp. Atk=150, Sp. Def=100, Speed=90, Generation=4, Legendary=True),\n",
       " Row(#=484, Name='Palkia', Type 1='Water', Type 2='Dragon', HP=90, Attack=120, Defense=100, Sp. Atk=150, Sp. Def=120, Speed=100, Generation=4, Legendary=True),\n",
       " Row(#=485, Name='Heatran', Type 1='Fire', Type 2='Steel', HP=91, Attack=90, Defense=106, Sp. Atk=130, Sp. Def=106, Speed=77, Generation=4, Legendary=True),\n",
       " Row(#=486, Name='Regigigas', Type 1='Normal', Type 2=None, HP=110, Attack=160, Defense=110, Sp. Atk=80, Sp. Def=110, Speed=100, Generation=4, Legendary=True),\n",
       " Row(#=487, Name='GiratinaAltered Forme', Type 1='Ghost', Type 2='Dragon', HP=150, Attack=100, Defense=120, Sp. Atk=100, Sp. Def=120, Speed=90, Generation=4, Legendary=True),\n",
       " Row(#=487, Name='GiratinaOrigin Forme', Type 1='Ghost', Type 2='Dragon', HP=150, Attack=120, Defense=100, Sp. Atk=120, Sp. Def=100, Speed=90, Generation=4, Legendary=True),\n",
       " Row(#=488, Name='Cresselia', Type 1='Psychic', Type 2=None, HP=120, Attack=70, Defense=120, Sp. Atk=75, Sp. Def=130, Speed=85, Generation=4, Legendary=False),\n",
       " Row(#=489, Name='Phione', Type 1='Water', Type 2=None, HP=80, Attack=80, Defense=80, Sp. Atk=80, Sp. Def=80, Speed=80, Generation=4, Legendary=False),\n",
       " Row(#=490, Name='Manaphy', Type 1='Water', Type 2=None, HP=100, Attack=100, Defense=100, Sp. Atk=100, Sp. Def=100, Speed=100, Generation=4, Legendary=False),\n",
       " Row(#=491, Name='Darkrai', Type 1='Dark', Type 2=None, HP=70, Attack=90, Defense=90, Sp. Atk=135, Sp. Def=90, Speed=125, Generation=4, Legendary=True),\n",
       " Row(#=492, Name='ShayminLand Forme', Type 1='Grass', Type 2=None, HP=100, Attack=100, Defense=100, Sp. Atk=100, Sp. Def=100, Speed=100, Generation=4, Legendary=True),\n",
       " Row(#=492, Name='ShayminSky Forme', Type 1='Grass', Type 2='Flying', HP=100, Attack=103, Defense=75, Sp. Atk=120, Sp. Def=75, Speed=127, Generation=4, Legendary=True),\n",
       " Row(#=493, Name='Arceus', Type 1='Normal', Type 2=None, HP=120, Attack=120, Defense=120, Sp. Atk=120, Sp. Def=120, Speed=120, Generation=4, Legendary=True),\n",
       " Row(#=494, Name='Victini', Type 1='Psychic', Type 2='Fire', HP=100, Attack=100, Defense=100, Sp. Atk=100, Sp. Def=100, Speed=100, Generation=5, Legendary=True),\n",
       " Row(#=495, Name='Snivy', Type 1='Grass', Type 2=None, HP=45, Attack=45, Defense=55, Sp. Atk=45, Sp. Def=55, Speed=63, Generation=5, Legendary=False),\n",
       " Row(#=496, Name='Servine', Type 1='Grass', Type 2=None, HP=60, Attack=60, Defense=75, Sp. Atk=60, Sp. Def=75, Speed=83, Generation=5, Legendary=False),\n",
       " Row(#=497, Name='Serperior', Type 1='Grass', Type 2=None, HP=75, Attack=75, Defense=95, Sp. Atk=75, Sp. Def=95, Speed=113, Generation=5, Legendary=False),\n",
       " Row(#=498, Name='Tepig', Type 1='Fire', Type 2=None, HP=65, Attack=63, Defense=45, Sp. Atk=45, Sp. Def=45, Speed=45, Generation=5, Legendary=False),\n",
       " Row(#=499, Name='Pignite', Type 1='Fire', Type 2='Fighting', HP=90, Attack=93, Defense=55, Sp. Atk=70, Sp. Def=55, Speed=55, Generation=5, Legendary=False),\n",
       " Row(#=500, Name='Emboar', Type 1='Fire', Type 2='Fighting', HP=110, Attack=123, Defense=65, Sp. Atk=100, Sp. Def=65, Speed=65, Generation=5, Legendary=False),\n",
       " Row(#=501, Name='Oshawott', Type 1='Water', Type 2=None, HP=55, Attack=55, Defense=45, Sp. Atk=63, Sp. Def=45, Speed=45, Generation=5, Legendary=False),\n",
       " Row(#=502, Name='Dewott', Type 1='Water', Type 2=None, HP=75, Attack=75, Defense=60, Sp. Atk=83, Sp. Def=60, Speed=60, Generation=5, Legendary=False),\n",
       " Row(#=503, Name='Samurott', Type 1='Water', Type 2=None, HP=95, Attack=100, Defense=85, Sp. Atk=108, Sp. Def=70, Speed=70, Generation=5, Legendary=False),\n",
       " Row(#=504, Name='Patrat', Type 1='Normal', Type 2=None, HP=45, Attack=55, Defense=39, Sp. Atk=35, Sp. Def=39, Speed=42, Generation=5, Legendary=False),\n",
       " Row(#=505, Name='Watchog', Type 1='Normal', Type 2=None, HP=60, Attack=85, Defense=69, Sp. Atk=60, Sp. Def=69, Speed=77, Generation=5, Legendary=False),\n",
       " Row(#=506, Name='Lillipup', Type 1='Normal', Type 2=None, HP=45, Attack=60, Defense=45, Sp. Atk=25, Sp. Def=45, Speed=55, Generation=5, Legendary=False),\n",
       " Row(#=507, Name='Herdier', Type 1='Normal', Type 2=None, HP=65, Attack=80, Defense=65, Sp. Atk=35, Sp. Def=65, Speed=60, Generation=5, Legendary=False),\n",
       " Row(#=508, Name='Stoutland', Type 1='Normal', Type 2=None, HP=85, Attack=110, Defense=90, Sp. Atk=45, Sp. Def=90, Speed=80, Generation=5, Legendary=False),\n",
       " Row(#=509, Name='Purrloin', Type 1='Dark', Type 2=None, HP=41, Attack=50, Defense=37, Sp. Atk=50, Sp. Def=37, Speed=66, Generation=5, Legendary=False),\n",
       " Row(#=510, Name='Liepard', Type 1='Dark', Type 2=None, HP=64, Attack=88, Defense=50, Sp. Atk=88, Sp. Def=50, Speed=106, Generation=5, Legendary=False),\n",
       " Row(#=511, Name='Pansage', Type 1='Grass', Type 2=None, HP=50, Attack=53, Defense=48, Sp. Atk=53, Sp. Def=48, Speed=64, Generation=5, Legendary=False),\n",
       " Row(#=512, Name='Simisage', Type 1='Grass', Type 2=None, HP=75, Attack=98, Defense=63, Sp. Atk=98, Sp. Def=63, Speed=101, Generation=5, Legendary=False),\n",
       " Row(#=513, Name='Pansear', Type 1='Fire', Type 2=None, HP=50, Attack=53, Defense=48, Sp. Atk=53, Sp. Def=48, Speed=64, Generation=5, Legendary=False),\n",
       " Row(#=514, Name='Simisear', Type 1='Fire', Type 2=None, HP=75, Attack=98, Defense=63, Sp. Atk=98, Sp. Def=63, Speed=101, Generation=5, Legendary=False),\n",
       " Row(#=515, Name='Panpour', Type 1='Water', Type 2=None, HP=50, Attack=53, Defense=48, Sp. Atk=53, Sp. Def=48, Speed=64, Generation=5, Legendary=False),\n",
       " Row(#=516, Name='Simipour', Type 1='Water', Type 2=None, HP=75, Attack=98, Defense=63, Sp. Atk=98, Sp. Def=63, Speed=101, Generation=5, Legendary=False),\n",
       " Row(#=517, Name='Munna', Type 1='Psychic', Type 2=None, HP=76, Attack=25, Defense=45, Sp. Atk=67, Sp. Def=55, Speed=24, Generation=5, Legendary=False),\n",
       " Row(#=518, Name='Musharna', Type 1='Psychic', Type 2=None, HP=116, Attack=55, Defense=85, Sp. Atk=107, Sp. Def=95, Speed=29, Generation=5, Legendary=False),\n",
       " Row(#=519, Name='Pidove', Type 1='Normal', Type 2='Flying', HP=50, Attack=55, Defense=50, Sp. Atk=36, Sp. Def=30, Speed=43, Generation=5, Legendary=False),\n",
       " Row(#=520, Name='Tranquill', Type 1='Normal', Type 2='Flying', HP=62, Attack=77, Defense=62, Sp. Atk=50, Sp. Def=42, Speed=65, Generation=5, Legendary=False),\n",
       " Row(#=521, Name='Unfezant', Type 1='Normal', Type 2='Flying', HP=80, Attack=115, Defense=80, Sp. Atk=65, Sp. Def=55, Speed=93, Generation=5, Legendary=False),\n",
       " Row(#=522, Name='Blitzle', Type 1='Electric', Type 2=None, HP=45, Attack=60, Defense=32, Sp. Atk=50, Sp. Def=32, Speed=76, Generation=5, Legendary=False),\n",
       " Row(#=523, Name='Zebstrika', Type 1='Electric', Type 2=None, HP=75, Attack=100, Defense=63, Sp. Atk=80, Sp. Def=63, Speed=116, Generation=5, Legendary=False),\n",
       " Row(#=524, Name='Roggenrola', Type 1='Rock', Type 2=None, HP=55, Attack=75, Defense=85, Sp. Atk=25, Sp. Def=25, Speed=15, Generation=5, Legendary=False),\n",
       " Row(#=525, Name='Boldore', Type 1='Rock', Type 2=None, HP=70, Attack=105, Defense=105, Sp. Atk=50, Sp. Def=40, Speed=20, Generation=5, Legendary=False),\n",
       " Row(#=526, Name='Gigalith', Type 1='Rock', Type 2=None, HP=85, Attack=135, Defense=130, Sp. Atk=60, Sp. Def=80, Speed=25, Generation=5, Legendary=False),\n",
       " Row(#=527, Name='Woobat', Type 1='Psychic', Type 2='Flying', HP=55, Attack=45, Defense=43, Sp. Atk=55, Sp. Def=43, Speed=72, Generation=5, Legendary=False),\n",
       " Row(#=528, Name='Swoobat', Type 1='Psychic', Type 2='Flying', HP=67, Attack=57, Defense=55, Sp. Atk=77, Sp. Def=55, Speed=114, Generation=5, Legendary=False),\n",
       " Row(#=529, Name='Drilbur', Type 1='Ground', Type 2=None, HP=60, Attack=85, Defense=40, Sp. Atk=30, Sp. Def=45, Speed=68, Generation=5, Legendary=False),\n",
       " Row(#=530, Name='Excadrill', Type 1='Ground', Type 2='Steel', HP=110, Attack=135, Defense=60, Sp. Atk=50, Sp. Def=65, Speed=88, Generation=5, Legendary=False),\n",
       " Row(#=531, Name='Audino', Type 1='Normal', Type 2=None, HP=103, Attack=60, Defense=86, Sp. Atk=60, Sp. Def=86, Speed=50, Generation=5, Legendary=False),\n",
       " Row(#=531, Name='AudinoMega Audino', Type 1='Normal', Type 2='Fairy', HP=103, Attack=60, Defense=126, Sp. Atk=80, Sp. Def=126, Speed=50, Generation=5, Legendary=False),\n",
       " Row(#=532, Name='Timburr', Type 1='Fighting', Type 2=None, HP=75, Attack=80, Defense=55, Sp. Atk=25, Sp. Def=35, Speed=35, Generation=5, Legendary=False),\n",
       " Row(#=533, Name='Gurdurr', Type 1='Fighting', Type 2=None, HP=85, Attack=105, Defense=85, Sp. Atk=40, Sp. Def=50, Speed=40, Generation=5, Legendary=False),\n",
       " Row(#=534, Name='Conkeldurr', Type 1='Fighting', Type 2=None, HP=105, Attack=140, Defense=95, Sp. Atk=55, Sp. Def=65, Speed=45, Generation=5, Legendary=False),\n",
       " Row(#=535, Name='Tympole', Type 1='Water', Type 2=None, HP=50, Attack=50, Defense=40, Sp. Atk=50, Sp. Def=40, Speed=64, Generation=5, Legendary=False),\n",
       " Row(#=536, Name='Palpitoad', Type 1='Water', Type 2='Ground', HP=75, Attack=65, Defense=55, Sp. Atk=65, Sp. Def=55, Speed=69, Generation=5, Legendary=False),\n",
       " Row(#=537, Name='Seismitoad', Type 1='Water', Type 2='Ground', HP=105, Attack=95, Defense=75, Sp. Atk=85, Sp. Def=75, Speed=74, Generation=5, Legendary=False),\n",
       " Row(#=538, Name='Throh', Type 1='Fighting', Type 2=None, HP=120, Attack=100, Defense=85, Sp. Atk=30, Sp. Def=85, Speed=45, Generation=5, Legendary=False),\n",
       " Row(#=539, Name='Sawk', Type 1='Fighting', Type 2=None, HP=75, Attack=125, Defense=75, Sp. Atk=30, Sp. Def=75, Speed=85, Generation=5, Legendary=False),\n",
       " Row(#=540, Name='Sewaddle', Type 1='Bug', Type 2='Grass', HP=45, Attack=53, Defense=70, Sp. Atk=40, Sp. Def=60, Speed=42, Generation=5, Legendary=False),\n",
       " Row(#=541, Name='Swadloon', Type 1='Bug', Type 2='Grass', HP=55, Attack=63, Defense=90, Sp. Atk=50, Sp. Def=80, Speed=42, Generation=5, Legendary=False),\n",
       " Row(#=542, Name='Leavanny', Type 1='Bug', Type 2='Grass', HP=75, Attack=103, Defense=80, Sp. Atk=70, Sp. Def=80, Speed=92, Generation=5, Legendary=False),\n",
       " Row(#=543, Name='Venipede', Type 1='Bug', Type 2='Poison', HP=30, Attack=45, Defense=59, Sp. Atk=30, Sp. Def=39, Speed=57, Generation=5, Legendary=False),\n",
       " Row(#=544, Name='Whirlipede', Type 1='Bug', Type 2='Poison', HP=40, Attack=55, Defense=99, Sp. Atk=40, Sp. Def=79, Speed=47, Generation=5, Legendary=False),\n",
       " Row(#=545, Name='Scolipede', Type 1='Bug', Type 2='Poison', HP=60, Attack=100, Defense=89, Sp. Atk=55, Sp. Def=69, Speed=112, Generation=5, Legendary=False),\n",
       " Row(#=546, Name='Cottonee', Type 1='Grass', Type 2='Fairy', HP=40, Attack=27, Defense=60, Sp. Atk=37, Sp. Def=50, Speed=66, Generation=5, Legendary=False),\n",
       " Row(#=547, Name='Whimsicott', Type 1='Grass', Type 2='Fairy', HP=60, Attack=67, Defense=85, Sp. Atk=77, Sp. Def=75, Speed=116, Generation=5, Legendary=False),\n",
       " Row(#=548, Name='Petilil', Type 1='Grass', Type 2=None, HP=45, Attack=35, Defense=50, Sp. Atk=70, Sp. Def=50, Speed=30, Generation=5, Legendary=False),\n",
       " Row(#=549, Name='Lilligant', Type 1='Grass', Type 2=None, HP=70, Attack=60, Defense=75, Sp. Atk=110, Sp. Def=75, Speed=90, Generation=5, Legendary=False),\n",
       " Row(#=550, Name='Basculin', Type 1='Water', Type 2=None, HP=70, Attack=92, Defense=65, Sp. Atk=80, Sp. Def=55, Speed=98, Generation=5, Legendary=False),\n",
       " Row(#=551, Name='Sandile', Type 1='Ground', Type 2='Dark', HP=50, Attack=72, Defense=35, Sp. Atk=35, Sp. Def=35, Speed=65, Generation=5, Legendary=False),\n",
       " Row(#=552, Name='Krokorok', Type 1='Ground', Type 2='Dark', HP=60, Attack=82, Defense=45, Sp. Atk=45, Sp. Def=45, Speed=74, Generation=5, Legendary=False),\n",
       " Row(#=553, Name='Krookodile', Type 1='Ground', Type 2='Dark', HP=95, Attack=117, Defense=80, Sp. Atk=65, Sp. Def=70, Speed=92, Generation=5, Legendary=False),\n",
       " Row(#=554, Name='Darumaka', Type 1='Fire', Type 2=None, HP=70, Attack=90, Defense=45, Sp. Atk=15, Sp. Def=45, Speed=50, Generation=5, Legendary=False),\n",
       " Row(#=555, Name='DarmanitanStandard Mode', Type 1='Fire', Type 2=None, HP=105, Attack=140, Defense=55, Sp. Atk=30, Sp. Def=55, Speed=95, Generation=5, Legendary=False),\n",
       " Row(#=555, Name='DarmanitanZen Mode', Type 1='Fire', Type 2='Psychic', HP=105, Attack=30, Defense=105, Sp. Atk=140, Sp. Def=105, Speed=55, Generation=5, Legendary=False),\n",
       " Row(#=556, Name='Maractus', Type 1='Grass', Type 2=None, HP=75, Attack=86, Defense=67, Sp. Atk=106, Sp. Def=67, Speed=60, Generation=5, Legendary=False),\n",
       " Row(#=557, Name='Dwebble', Type 1='Bug', Type 2='Rock', HP=50, Attack=65, Defense=85, Sp. Atk=35, Sp. Def=35, Speed=55, Generation=5, Legendary=False),\n",
       " Row(#=558, Name='Crustle', Type 1='Bug', Type 2='Rock', HP=70, Attack=95, Defense=125, Sp. Atk=65, Sp. Def=75, Speed=45, Generation=5, Legendary=False),\n",
       " Row(#=559, Name='Scraggy', Type 1='Dark', Type 2='Fighting', HP=50, Attack=75, Defense=70, Sp. Atk=35, Sp. Def=70, Speed=48, Generation=5, Legendary=False),\n",
       " Row(#=560, Name='Scrafty', Type 1='Dark', Type 2='Fighting', HP=65, Attack=90, Defense=115, Sp. Atk=45, Sp. Def=115, Speed=58, Generation=5, Legendary=False),\n",
       " Row(#=561, Name='Sigilyph', Type 1='Psychic', Type 2='Flying', HP=72, Attack=58, Defense=80, Sp. Atk=103, Sp. Def=80, Speed=97, Generation=5, Legendary=False),\n",
       " Row(#=562, Name='Yamask', Type 1='Ghost', Type 2=None, HP=38, Attack=30, Defense=85, Sp. Atk=55, Sp. Def=65, Speed=30, Generation=5, Legendary=False),\n",
       " Row(#=563, Name='Cofagrigus', Type 1='Ghost', Type 2=None, HP=58, Attack=50, Defense=145, Sp. Atk=95, Sp. Def=105, Speed=30, Generation=5, Legendary=False),\n",
       " Row(#=564, Name='Tirtouga', Type 1='Water', Type 2='Rock', HP=54, Attack=78, Defense=103, Sp. Atk=53, Sp. Def=45, Speed=22, Generation=5, Legendary=False),\n",
       " Row(#=565, Name='Carracosta', Type 1='Water', Type 2='Rock', HP=74, Attack=108, Defense=133, Sp. Atk=83, Sp. Def=65, Speed=32, Generation=5, Legendary=False),\n",
       " Row(#=566, Name='Archen', Type 1='Rock', Type 2='Flying', HP=55, Attack=112, Defense=45, Sp. Atk=74, Sp. Def=45, Speed=70, Generation=5, Legendary=False),\n",
       " Row(#=567, Name='Archeops', Type 1='Rock', Type 2='Flying', HP=75, Attack=140, Defense=65, Sp. Atk=112, Sp. Def=65, Speed=110, Generation=5, Legendary=False),\n",
       " Row(#=568, Name='Trubbish', Type 1='Poison', Type 2=None, HP=50, Attack=50, Defense=62, Sp. Atk=40, Sp. Def=62, Speed=65, Generation=5, Legendary=False),\n",
       " Row(#=569, Name='Garbodor', Type 1='Poison', Type 2=None, HP=80, Attack=95, Defense=82, Sp. Atk=60, Sp. Def=82, Speed=75, Generation=5, Legendary=False),\n",
       " Row(#=570, Name='Zorua', Type 1='Dark', Type 2=None, HP=40, Attack=65, Defense=40, Sp. Atk=80, Sp. Def=40, Speed=65, Generation=5, Legendary=False),\n",
       " Row(#=571, Name='Zoroark', Type 1='Dark', Type 2=None, HP=60, Attack=105, Defense=60, Sp. Atk=120, Sp. Def=60, Speed=105, Generation=5, Legendary=False),\n",
       " Row(#=572, Name='Minccino', Type 1='Normal', Type 2=None, HP=55, Attack=50, Defense=40, Sp. Atk=40, Sp. Def=40, Speed=75, Generation=5, Legendary=False),\n",
       " Row(#=573, Name='Cinccino', Type 1='Normal', Type 2=None, HP=75, Attack=95, Defense=60, Sp. Atk=65, Sp. Def=60, Speed=115, Generation=5, Legendary=False),\n",
       " Row(#=574, Name='Gothita', Type 1='Psychic', Type 2=None, HP=45, Attack=30, Defense=50, Sp. Atk=55, Sp. Def=65, Speed=45, Generation=5, Legendary=False),\n",
       " Row(#=575, Name='Gothorita', Type 1='Psychic', Type 2=None, HP=60, Attack=45, Defense=70, Sp. Atk=75, Sp. Def=85, Speed=55, Generation=5, Legendary=False),\n",
       " Row(#=576, Name='Gothitelle', Type 1='Psychic', Type 2=None, HP=70, Attack=55, Defense=95, Sp. Atk=95, Sp. Def=110, Speed=65, Generation=5, Legendary=False),\n",
       " Row(#=577, Name='Solosis', Type 1='Psychic', Type 2=None, HP=45, Attack=30, Defense=40, Sp. Atk=105, Sp. Def=50, Speed=20, Generation=5, Legendary=False),\n",
       " Row(#=578, Name='Duosion', Type 1='Psychic', Type 2=None, HP=65, Attack=40, Defense=50, Sp. Atk=125, Sp. Def=60, Speed=30, Generation=5, Legendary=False),\n",
       " Row(#=579, Name='Reuniclus', Type 1='Psychic', Type 2=None, HP=110, Attack=65, Defense=75, Sp. Atk=125, Sp. Def=85, Speed=30, Generation=5, Legendary=False),\n",
       " Row(#=580, Name='Ducklett', Type 1='Water', Type 2='Flying', HP=62, Attack=44, Defense=50, Sp. Atk=44, Sp. Def=50, Speed=55, Generation=5, Legendary=False),\n",
       " Row(#=581, Name='Swanna', Type 1='Water', Type 2='Flying', HP=75, Attack=87, Defense=63, Sp. Atk=87, Sp. Def=63, Speed=98, Generation=5, Legendary=False),\n",
       " Row(#=582, Name='Vanillite', Type 1='Ice', Type 2=None, HP=36, Attack=50, Defense=50, Sp. Atk=65, Sp. Def=60, Speed=44, Generation=5, Legendary=False),\n",
       " Row(#=583, Name='Vanillish', Type 1='Ice', Type 2=None, HP=51, Attack=65, Defense=65, Sp. Atk=80, Sp. Def=75, Speed=59, Generation=5, Legendary=False),\n",
       " Row(#=584, Name='Vanilluxe', Type 1='Ice', Type 2=None, HP=71, Attack=95, Defense=85, Sp. Atk=110, Sp. Def=95, Speed=79, Generation=5, Legendary=False),\n",
       " Row(#=585, Name='Deerling', Type 1='Normal', Type 2='Grass', HP=60, Attack=60, Defense=50, Sp. Atk=40, Sp. Def=50, Speed=75, Generation=5, Legendary=False),\n",
       " Row(#=586, Name='Sawsbuck', Type 1='Normal', Type 2='Grass', HP=80, Attack=100, Defense=70, Sp. Atk=60, Sp. Def=70, Speed=95, Generation=5, Legendary=False),\n",
       " Row(#=587, Name='Emolga', Type 1='Electric', Type 2='Flying', HP=55, Attack=75, Defense=60, Sp. Atk=75, Sp. Def=60, Speed=103, Generation=5, Legendary=False),\n",
       " Row(#=588, Name='Karrablast', Type 1='Bug', Type 2=None, HP=50, Attack=75, Defense=45, Sp. Atk=40, Sp. Def=45, Speed=60, Generation=5, Legendary=False),\n",
       " Row(#=589, Name='Escavalier', Type 1='Bug', Type 2='Steel', HP=70, Attack=135, Defense=105, Sp. Atk=60, Sp. Def=105, Speed=20, Generation=5, Legendary=False),\n",
       " Row(#=590, Name='Foongus', Type 1='Grass', Type 2='Poison', HP=69, Attack=55, Defense=45, Sp. Atk=55, Sp. Def=55, Speed=15, Generation=5, Legendary=False),\n",
       " Row(#=591, Name='Amoonguss', Type 1='Grass', Type 2='Poison', HP=114, Attack=85, Defense=70, Sp. Atk=85, Sp. Def=80, Speed=30, Generation=5, Legendary=False),\n",
       " Row(#=592, Name='Frillish', Type 1='Water', Type 2='Ghost', HP=55, Attack=40, Defense=50, Sp. Atk=65, Sp. Def=85, Speed=40, Generation=5, Legendary=False),\n",
       " Row(#=593, Name='Jellicent', Type 1='Water', Type 2='Ghost', HP=100, Attack=60, Defense=70, Sp. Atk=85, Sp. Def=105, Speed=60, Generation=5, Legendary=False),\n",
       " Row(#=594, Name='Alomomola', Type 1='Water', Type 2=None, HP=165, Attack=75, Defense=80, Sp. Atk=40, Sp. Def=45, Speed=65, Generation=5, Legendary=False),\n",
       " Row(#=595, Name='Joltik', Type 1='Bug', Type 2='Electric', HP=50, Attack=47, Defense=50, Sp. Atk=57, Sp. Def=50, Speed=65, Generation=5, Legendary=False),\n",
       " Row(#=596, Name='Galvantula', Type 1='Bug', Type 2='Electric', HP=70, Attack=77, Defense=60, Sp. Atk=97, Sp. Def=60, Speed=108, Generation=5, Legendary=False),\n",
       " Row(#=597, Name='Ferroseed', Type 1='Grass', Type 2='Steel', HP=44, Attack=50, Defense=91, Sp. Atk=24, Sp. Def=86, Speed=10, Generation=5, Legendary=False),\n",
       " Row(#=598, Name='Ferrothorn', Type 1='Grass', Type 2='Steel', HP=74, Attack=94, Defense=131, Sp. Atk=54, Sp. Def=116, Speed=20, Generation=5, Legendary=False),\n",
       " Row(#=599, Name='Klink', Type 1='Steel', Type 2=None, HP=40, Attack=55, Defense=70, Sp. Atk=45, Sp. Def=60, Speed=30, Generation=5, Legendary=False),\n",
       " Row(#=600, Name='Klang', Type 1='Steel', Type 2=None, HP=60, Attack=80, Defense=95, Sp. Atk=70, Sp. Def=85, Speed=50, Generation=5, Legendary=False),\n",
       " Row(#=601, Name='Klinklang', Type 1='Steel', Type 2=None, HP=60, Attack=100, Defense=115, Sp. Atk=70, Sp. Def=85, Speed=90, Generation=5, Legendary=False),\n",
       " Row(#=602, Name='Tynamo', Type 1='Electric', Type 2=None, HP=35, Attack=55, Defense=40, Sp. Atk=45, Sp. Def=40, Speed=60, Generation=5, Legendary=False),\n",
       " Row(#=603, Name='Eelektrik', Type 1='Electric', Type 2=None, HP=65, Attack=85, Defense=70, Sp. Atk=75, Sp. Def=70, Speed=40, Generation=5, Legendary=False),\n",
       " Row(#=604, Name='Eelektross', Type 1='Electric', Type 2=None, HP=85, Attack=115, Defense=80, Sp. Atk=105, Sp. Def=80, Speed=50, Generation=5, Legendary=False),\n",
       " Row(#=605, Name='Elgyem', Type 1='Psychic', Type 2=None, HP=55, Attack=55, Defense=55, Sp. Atk=85, Sp. Def=55, Speed=30, Generation=5, Legendary=False),\n",
       " Row(#=606, Name='Beheeyem', Type 1='Psychic', Type 2=None, HP=75, Attack=75, Defense=75, Sp. Atk=125, Sp. Def=95, Speed=40, Generation=5, Legendary=False),\n",
       " Row(#=607, Name='Litwick', Type 1='Ghost', Type 2='Fire', HP=50, Attack=30, Defense=55, Sp. Atk=65, Sp. Def=55, Speed=20, Generation=5, Legendary=False),\n",
       " Row(#=608, Name='Lampent', Type 1='Ghost', Type 2='Fire', HP=60, Attack=40, Defense=60, Sp. Atk=95, Sp. Def=60, Speed=55, Generation=5, Legendary=False),\n",
       " Row(#=609, Name='Chandelure', Type 1='Ghost', Type 2='Fire', HP=60, Attack=55, Defense=90, Sp. Atk=145, Sp. Def=90, Speed=80, Generation=5, Legendary=False),\n",
       " Row(#=610, Name='Axew', Type 1='Dragon', Type 2=None, HP=46, Attack=87, Defense=60, Sp. Atk=30, Sp. Def=40, Speed=57, Generation=5, Legendary=False),\n",
       " Row(#=611, Name='Fraxure', Type 1='Dragon', Type 2=None, HP=66, Attack=117, Defense=70, Sp. Atk=40, Sp. Def=50, Speed=67, Generation=5, Legendary=False),\n",
       " Row(#=612, Name='Haxorus', Type 1='Dragon', Type 2=None, HP=76, Attack=147, Defense=90, Sp. Atk=60, Sp. Def=70, Speed=97, Generation=5, Legendary=False),\n",
       " Row(#=613, Name='Cubchoo', Type 1='Ice', Type 2=None, HP=55, Attack=70, Defense=40, Sp. Atk=60, Sp. Def=40, Speed=40, Generation=5, Legendary=False),\n",
       " Row(#=614, Name='Beartic', Type 1='Ice', Type 2=None, HP=95, Attack=110, Defense=80, Sp. Atk=70, Sp. Def=80, Speed=50, Generation=5, Legendary=False),\n",
       " Row(#=615, Name='Cryogonal', Type 1='Ice', Type 2=None, HP=70, Attack=50, Defense=30, Sp. Atk=95, Sp. Def=135, Speed=105, Generation=5, Legendary=False),\n",
       " Row(#=616, Name='Shelmet', Type 1='Bug', Type 2=None, HP=50, Attack=40, Defense=85, Sp. Atk=40, Sp. Def=65, Speed=25, Generation=5, Legendary=False),\n",
       " Row(#=617, Name='Accelgor', Type 1='Bug', Type 2=None, HP=80, Attack=70, Defense=40, Sp. Atk=100, Sp. Def=60, Speed=145, Generation=5, Legendary=False),\n",
       " Row(#=618, Name='Stunfisk', Type 1='Ground', Type 2='Electric', HP=109, Attack=66, Defense=84, Sp. Atk=81, Sp. Def=99, Speed=32, Generation=5, Legendary=False),\n",
       " Row(#=619, Name='Mienfoo', Type 1='Fighting', Type 2=None, HP=45, Attack=85, Defense=50, Sp. Atk=55, Sp. Def=50, Speed=65, Generation=5, Legendary=False),\n",
       " Row(#=620, Name='Mienshao', Type 1='Fighting', Type 2=None, HP=65, Attack=125, Defense=60, Sp. Atk=95, Sp. Def=60, Speed=105, Generation=5, Legendary=False),\n",
       " Row(#=621, Name='Druddigon', Type 1='Dragon', Type 2=None, HP=77, Attack=120, Defense=90, Sp. Atk=60, Sp. Def=90, Speed=48, Generation=5, Legendary=False),\n",
       " Row(#=622, Name='Golett', Type 1='Ground', Type 2='Ghost', HP=59, Attack=74, Defense=50, Sp. Atk=35, Sp. Def=50, Speed=35, Generation=5, Legendary=False),\n",
       " Row(#=623, Name='Golurk', Type 1='Ground', Type 2='Ghost', HP=89, Attack=124, Defense=80, Sp. Atk=55, Sp. Def=80, Speed=55, Generation=5, Legendary=False),\n",
       " Row(#=624, Name='Pawniard', Type 1='Dark', Type 2='Steel', HP=45, Attack=85, Defense=70, Sp. Atk=40, Sp. Def=40, Speed=60, Generation=5, Legendary=False),\n",
       " Row(#=625, Name='Bisharp', Type 1='Dark', Type 2='Steel', HP=65, Attack=125, Defense=100, Sp. Atk=60, Sp. Def=70, Speed=70, Generation=5, Legendary=False),\n",
       " Row(#=626, Name='Bouffalant', Type 1='Normal', Type 2=None, HP=95, Attack=110, Defense=95, Sp. Atk=40, Sp. Def=95, Speed=55, Generation=5, Legendary=False),\n",
       " Row(#=627, Name='Rufflet', Type 1='Normal', Type 2='Flying', HP=70, Attack=83, Defense=50, Sp. Atk=37, Sp. Def=50, Speed=60, Generation=5, Legendary=False),\n",
       " Row(#=628, Name='Braviary', Type 1='Normal', Type 2='Flying', HP=100, Attack=123, Defense=75, Sp. Atk=57, Sp. Def=75, Speed=80, Generation=5, Legendary=False),\n",
       " Row(#=629, Name='Vullaby', Type 1='Dark', Type 2='Flying', HP=70, Attack=55, Defense=75, Sp. Atk=45, Sp. Def=65, Speed=60, Generation=5, Legendary=False),\n",
       " Row(#=630, Name='Mandibuzz', Type 1='Dark', Type 2='Flying', HP=110, Attack=65, Defense=105, Sp. Atk=55, Sp. Def=95, Speed=80, Generation=5, Legendary=False),\n",
       " Row(#=631, Name='Heatmor', Type 1='Fire', Type 2=None, HP=85, Attack=97, Defense=66, Sp. Atk=105, Sp. Def=66, Speed=65, Generation=5, Legendary=False),\n",
       " Row(#=632, Name='Durant', Type 1='Bug', Type 2='Steel', HP=58, Attack=109, Defense=112, Sp. Atk=48, Sp. Def=48, Speed=109, Generation=5, Legendary=False),\n",
       " Row(#=633, Name='Deino', Type 1='Dark', Type 2='Dragon', HP=52, Attack=65, Defense=50, Sp. Atk=45, Sp. Def=50, Speed=38, Generation=5, Legendary=False),\n",
       " Row(#=634, Name='Zweilous', Type 1='Dark', Type 2='Dragon', HP=72, Attack=85, Defense=70, Sp. Atk=65, Sp. Def=70, Speed=58, Generation=5, Legendary=False),\n",
       " Row(#=635, Name='Hydreigon', Type 1='Dark', Type 2='Dragon', HP=92, Attack=105, Defense=90, Sp. Atk=125, Sp. Def=90, Speed=98, Generation=5, Legendary=False),\n",
       " Row(#=636, Name='Larvesta', Type 1='Bug', Type 2='Fire', HP=55, Attack=85, Defense=55, Sp. Atk=50, Sp. Def=55, Speed=60, Generation=5, Legendary=False),\n",
       " Row(#=637, Name='Volcarona', Type 1='Bug', Type 2='Fire', HP=85, Attack=60, Defense=65, Sp. Atk=135, Sp. Def=105, Speed=100, Generation=5, Legendary=False),\n",
       " Row(#=638, Name='Cobalion', Type 1='Steel', Type 2='Fighting', HP=91, Attack=90, Defense=129, Sp. Atk=90, Sp. Def=72, Speed=108, Generation=5, Legendary=True),\n",
       " Row(#=639, Name='Terrakion', Type 1='Rock', Type 2='Fighting', HP=91, Attack=129, Defense=90, Sp. Atk=72, Sp. Def=90, Speed=108, Generation=5, Legendary=True),\n",
       " Row(#=640, Name='Virizion', Type 1='Grass', Type 2='Fighting', HP=91, Attack=90, Defense=72, Sp. Atk=90, Sp. Def=129, Speed=108, Generation=5, Legendary=True),\n",
       " Row(#=641, Name='TornadusIncarnate Forme', Type 1='Flying', Type 2=None, HP=79, Attack=115, Defense=70, Sp. Atk=125, Sp. Def=80, Speed=111, Generation=5, Legendary=True),\n",
       " Row(#=641, Name='TornadusTherian Forme', Type 1='Flying', Type 2=None, HP=79, Attack=100, Defense=80, Sp. Atk=110, Sp. Def=90, Speed=121, Generation=5, Legendary=True),\n",
       " Row(#=642, Name='ThundurusIncarnate Forme', Type 1='Electric', Type 2='Flying', HP=79, Attack=115, Defense=70, Sp. Atk=125, Sp. Def=80, Speed=111, Generation=5, Legendary=True),\n",
       " Row(#=642, Name='ThundurusTherian Forme', Type 1='Electric', Type 2='Flying', HP=79, Attack=105, Defense=70, Sp. Atk=145, Sp. Def=80, Speed=101, Generation=5, Legendary=True),\n",
       " Row(#=643, Name='Reshiram', Type 1='Dragon', Type 2='Fire', HP=100, Attack=120, Defense=100, Sp. Atk=150, Sp. Def=120, Speed=90, Generation=5, Legendary=True),\n",
       " Row(#=644, Name='Zekrom', Type 1='Dragon', Type 2='Electric', HP=100, Attack=150, Defense=120, Sp. Atk=120, Sp. Def=100, Speed=90, Generation=5, Legendary=True),\n",
       " Row(#=645, Name='LandorusIncarnate Forme', Type 1='Ground', Type 2='Flying', HP=89, Attack=125, Defense=90, Sp. Atk=115, Sp. Def=80, Speed=101, Generation=5, Legendary=True),\n",
       " Row(#=645, Name='LandorusTherian Forme', Type 1='Ground', Type 2='Flying', HP=89, Attack=145, Defense=90, Sp. Atk=105, Sp. Def=80, Speed=91, Generation=5, Legendary=True),\n",
       " Row(#=646, Name='Kyurem', Type 1='Dragon', Type 2='Ice', HP=125, Attack=130, Defense=90, Sp. Atk=130, Sp. Def=90, Speed=95, Generation=5, Legendary=True),\n",
       " Row(#=646, Name='KyuremBlack Kyurem', Type 1='Dragon', Type 2='Ice', HP=125, Attack=170, Defense=100, Sp. Atk=120, Sp. Def=90, Speed=95, Generation=5, Legendary=True),\n",
       " Row(#=646, Name='KyuremWhite Kyurem', Type 1='Dragon', Type 2='Ice', HP=125, Attack=120, Defense=90, Sp. Atk=170, Sp. Def=100, Speed=95, Generation=5, Legendary=True),\n",
       " Row(#=647, Name='KeldeoOrdinary Forme', Type 1='Water', Type 2='Fighting', HP=91, Attack=72, Defense=90, Sp. Atk=129, Sp. Def=90, Speed=108, Generation=5, Legendary=False),\n",
       " Row(#=647, Name='KeldeoResolute Forme', Type 1='Water', Type 2='Fighting', HP=91, Attack=72, Defense=90, Sp. Atk=129, Sp. Def=90, Speed=108, Generation=5, Legendary=False),\n",
       " Row(#=648, Name='MeloettaAria Forme', Type 1='Normal', Type 2='Psychic', HP=100, Attack=77, Defense=77, Sp. Atk=128, Sp. Def=128, Speed=90, Generation=5, Legendary=False),\n",
       " Row(#=648, Name='MeloettaPirouette Forme', Type 1='Normal', Type 2='Fighting', HP=100, Attack=128, Defense=90, Sp. Atk=77, Sp. Def=77, Speed=128, Generation=5, Legendary=False),\n",
       " Row(#=649, Name='Genesect', Type 1='Bug', Type 2='Steel', HP=71, Attack=120, Defense=95, Sp. Atk=120, Sp. Def=95, Speed=99, Generation=5, Legendary=False),\n",
       " Row(#=650, Name='Chespin', Type 1='Grass', Type 2=None, HP=56, Attack=61, Defense=65, Sp. Atk=48, Sp. Def=45, Speed=38, Generation=6, Legendary=False),\n",
       " Row(#=651, Name='Quilladin', Type 1='Grass', Type 2=None, HP=61, Attack=78, Defense=95, Sp. Atk=56, Sp. Def=58, Speed=57, Generation=6, Legendary=False),\n",
       " Row(#=652, Name='Chesnaught', Type 1='Grass', Type 2='Fighting', HP=88, Attack=107, Defense=122, Sp. Atk=74, Sp. Def=75, Speed=64, Generation=6, Legendary=False),\n",
       " Row(#=653, Name='Fennekin', Type 1='Fire', Type 2=None, HP=40, Attack=45, Defense=40, Sp. Atk=62, Sp. Def=60, Speed=60, Generation=6, Legendary=False),\n",
       " Row(#=654, Name='Braixen', Type 1='Fire', Type 2=None, HP=59, Attack=59, Defense=58, Sp. Atk=90, Sp. Def=70, Speed=73, Generation=6, Legendary=False),\n",
       " Row(#=655, Name='Delphox', Type 1='Fire', Type 2='Psychic', HP=75, Attack=69, Defense=72, Sp. Atk=114, Sp. Def=100, Speed=104, Generation=6, Legendary=False),\n",
       " Row(#=656, Name='Froakie', Type 1='Water', Type 2=None, HP=41, Attack=56, Defense=40, Sp. Atk=62, Sp. Def=44, Speed=71, Generation=6, Legendary=False),\n",
       " Row(#=657, Name='Frogadier', Type 1='Water', Type 2=None, HP=54, Attack=63, Defense=52, Sp. Atk=83, Sp. Def=56, Speed=97, Generation=6, Legendary=False),\n",
       " Row(#=658, Name='Greninja', Type 1='Water', Type 2='Dark', HP=72, Attack=95, Defense=67, Sp. Atk=103, Sp. Def=71, Speed=122, Generation=6, Legendary=False),\n",
       " Row(#=659, Name='Bunnelby', Type 1='Normal', Type 2=None, HP=38, Attack=36, Defense=38, Sp. Atk=32, Sp. Def=36, Speed=57, Generation=6, Legendary=False),\n",
       " Row(#=660, Name='Diggersby', Type 1='Normal', Type 2='Ground', HP=85, Attack=56, Defense=77, Sp. Atk=50, Sp. Def=77, Speed=78, Generation=6, Legendary=False),\n",
       " Row(#=661, Name='Fletchling', Type 1='Normal', Type 2='Flying', HP=45, Attack=50, Defense=43, Sp. Atk=40, Sp. Def=38, Speed=62, Generation=6, Legendary=False),\n",
       " Row(#=662, Name='Fletchinder', Type 1='Fire', Type 2='Flying', HP=62, Attack=73, Defense=55, Sp. Atk=56, Sp. Def=52, Speed=84, Generation=6, Legendary=False),\n",
       " Row(#=663, Name='Talonflame', Type 1='Fire', Type 2='Flying', HP=78, Attack=81, Defense=71, Sp. Atk=74, Sp. Def=69, Speed=126, Generation=6, Legendary=False),\n",
       " Row(#=664, Name='Scatterbug', Type 1='Bug', Type 2=None, HP=38, Attack=35, Defense=40, Sp. Atk=27, Sp. Def=25, Speed=35, Generation=6, Legendary=False),\n",
       " Row(#=665, Name='Spewpa', Type 1='Bug', Type 2=None, HP=45, Attack=22, Defense=60, Sp. Atk=27, Sp. Def=30, Speed=29, Generation=6, Legendary=False),\n",
       " Row(#=666, Name='Vivillon', Type 1='Bug', Type 2='Flying', HP=80, Attack=52, Defense=50, Sp. Atk=90, Sp. Def=50, Speed=89, Generation=6, Legendary=False),\n",
       " Row(#=667, Name='Litleo', Type 1='Fire', Type 2='Normal', HP=62, Attack=50, Defense=58, Sp. Atk=73, Sp. Def=54, Speed=72, Generation=6, Legendary=False),\n",
       " Row(#=668, Name='Pyroar', Type 1='Fire', Type 2='Normal', HP=86, Attack=68, Defense=72, Sp. Atk=109, Sp. Def=66, Speed=106, Generation=6, Legendary=False),\n",
       " Row(#=669, Name='Flabébé', Type 1='Fairy', Type 2=None, HP=44, Attack=38, Defense=39, Sp. Atk=61, Sp. Def=79, Speed=42, Generation=6, Legendary=False),\n",
       " Row(#=670, Name='Floette', Type 1='Fairy', Type 2=None, HP=54, Attack=45, Defense=47, Sp. Atk=75, Sp. Def=98, Speed=52, Generation=6, Legendary=False),\n",
       " Row(#=671, Name='Florges', Type 1='Fairy', Type 2=None, HP=78, Attack=65, Defense=68, Sp. Atk=112, Sp. Def=154, Speed=75, Generation=6, Legendary=False),\n",
       " Row(#=672, Name='Skiddo', Type 1='Grass', Type 2=None, HP=66, Attack=65, Defense=48, Sp. Atk=62, Sp. Def=57, Speed=52, Generation=6, Legendary=False),\n",
       " Row(#=673, Name='Gogoat', Type 1='Grass', Type 2=None, HP=123, Attack=100, Defense=62, Sp. Atk=97, Sp. Def=81, Speed=68, Generation=6, Legendary=False),\n",
       " Row(#=674, Name='Pancham', Type 1='Fighting', Type 2=None, HP=67, Attack=82, Defense=62, Sp. Atk=46, Sp. Def=48, Speed=43, Generation=6, Legendary=False),\n",
       " Row(#=675, Name='Pangoro', Type 1='Fighting', Type 2='Dark', HP=95, Attack=124, Defense=78, Sp. Atk=69, Sp. Def=71, Speed=58, Generation=6, Legendary=False),\n",
       " Row(#=676, Name='Furfrou', Type 1='Normal', Type 2=None, HP=75, Attack=80, Defense=60, Sp. Atk=65, Sp. Def=90, Speed=102, Generation=6, Legendary=False),\n",
       " Row(#=677, Name='Espurr', Type 1='Psychic', Type 2=None, HP=62, Attack=48, Defense=54, Sp. Atk=63, Sp. Def=60, Speed=68, Generation=6, Legendary=False),\n",
       " Row(#=678, Name='MeowsticMale', Type 1='Psychic', Type 2=None, HP=74, Attack=48, Defense=76, Sp. Atk=83, Sp. Def=81, Speed=104, Generation=6, Legendary=False),\n",
       " Row(#=678, Name='MeowsticFemale', Type 1='Psychic', Type 2=None, HP=74, Attack=48, Defense=76, Sp. Atk=83, Sp. Def=81, Speed=104, Generation=6, Legendary=False),\n",
       " Row(#=679, Name='Honedge', Type 1='Steel', Type 2='Ghost', HP=45, Attack=80, Defense=100, Sp. Atk=35, Sp. Def=37, Speed=28, Generation=6, Legendary=False),\n",
       " Row(#=680, Name='Doublade', Type 1='Steel', Type 2='Ghost', HP=59, Attack=110, Defense=150, Sp. Atk=45, Sp. Def=49, Speed=35, Generation=6, Legendary=False),\n",
       " Row(#=681, Name='AegislashBlade Forme', Type 1='Steel', Type 2='Ghost', HP=60, Attack=150, Defense=50, Sp. Atk=150, Sp. Def=50, Speed=60, Generation=6, Legendary=False),\n",
       " Row(#=681, Name='AegislashShield Forme', Type 1='Steel', Type 2='Ghost', HP=60, Attack=50, Defense=150, Sp. Atk=50, Sp. Def=150, Speed=60, Generation=6, Legendary=False),\n",
       " Row(#=682, Name='Spritzee', Type 1='Fairy', Type 2=None, HP=78, Attack=52, Defense=60, Sp. Atk=63, Sp. Def=65, Speed=23, Generation=6, Legendary=False),\n",
       " Row(#=683, Name='Aromatisse', Type 1='Fairy', Type 2=None, HP=101, Attack=72, Defense=72, Sp. Atk=99, Sp. Def=89, Speed=29, Generation=6, Legendary=False),\n",
       " Row(#=684, Name='Swirlix', Type 1='Fairy', Type 2=None, HP=62, Attack=48, Defense=66, Sp. Atk=59, Sp. Def=57, Speed=49, Generation=6, Legendary=False),\n",
       " Row(#=685, Name='Slurpuff', Type 1='Fairy', Type 2=None, HP=82, Attack=80, Defense=86, Sp. Atk=85, Sp. Def=75, Speed=72, Generation=6, Legendary=False),\n",
       " Row(#=686, Name='Inkay', Type 1='Dark', Type 2='Psychic', HP=53, Attack=54, Defense=53, Sp. Atk=37, Sp. Def=46, Speed=45, Generation=6, Legendary=False),\n",
       " Row(#=687, Name='Malamar', Type 1='Dark', Type 2='Psychic', HP=86, Attack=92, Defense=88, Sp. Atk=68, Sp. Def=75, Speed=73, Generation=6, Legendary=False),\n",
       " Row(#=688, Name='Binacle', Type 1='Rock', Type 2='Water', HP=42, Attack=52, Defense=67, Sp. Atk=39, Sp. Def=56, Speed=50, Generation=6, Legendary=False),\n",
       " Row(#=689, Name='Barbaracle', Type 1='Rock', Type 2='Water', HP=72, Attack=105, Defense=115, Sp. Atk=54, Sp. Def=86, Speed=68, Generation=6, Legendary=False),\n",
       " Row(#=690, Name='Skrelp', Type 1='Poison', Type 2='Water', HP=50, Attack=60, Defense=60, Sp. Atk=60, Sp. Def=60, Speed=30, Generation=6, Legendary=False),\n",
       " Row(#=691, Name='Dragalge', Type 1='Poison', Type 2='Dragon', HP=65, Attack=75, Defense=90, Sp. Atk=97, Sp. Def=123, Speed=44, Generation=6, Legendary=False),\n",
       " Row(#=692, Name='Clauncher', Type 1='Water', Type 2=None, HP=50, Attack=53, Defense=62, Sp. Atk=58, Sp. Def=63, Speed=44, Generation=6, Legendary=False),\n",
       " Row(#=693, Name='Clawitzer', Type 1='Water', Type 2=None, HP=71, Attack=73, Defense=88, Sp. Atk=120, Sp. Def=89, Speed=59, Generation=6, Legendary=False),\n",
       " Row(#=694, Name='Helioptile', Type 1='Electric', Type 2='Normal', HP=44, Attack=38, Defense=33, Sp. Atk=61, Sp. Def=43, Speed=70, Generation=6, Legendary=False),\n",
       " Row(#=695, Name='Heliolisk', Type 1='Electric', Type 2='Normal', HP=62, Attack=55, Defense=52, Sp. Atk=109, Sp. Def=94, Speed=109, Generation=6, Legendary=False),\n",
       " Row(#=696, Name='Tyrunt', Type 1='Rock', Type 2='Dragon', HP=58, Attack=89, Defense=77, Sp. Atk=45, Sp. Def=45, Speed=48, Generation=6, Legendary=False),\n",
       " Row(#=697, Name='Tyrantrum', Type 1='Rock', Type 2='Dragon', HP=82, Attack=121, Defense=119, Sp. Atk=69, Sp. Def=59, Speed=71, Generation=6, Legendary=False),\n",
       " Row(#=698, Name='Amaura', Type 1='Rock', Type 2='Ice', HP=77, Attack=59, Defense=50, Sp. Atk=67, Sp. Def=63, Speed=46, Generation=6, Legendary=False),\n",
       " Row(#=699, Name='Aurorus', Type 1='Rock', Type 2='Ice', HP=123, Attack=77, Defense=72, Sp. Atk=99, Sp. Def=92, Speed=58, Generation=6, Legendary=False),\n",
       " Row(#=700, Name='Sylveon', Type 1='Fairy', Type 2=None, HP=95, Attack=65, Defense=65, Sp. Atk=110, Sp. Def=130, Speed=60, Generation=6, Legendary=False),\n",
       " Row(#=701, Name='Hawlucha', Type 1='Fighting', Type 2='Flying', HP=78, Attack=92, Defense=75, Sp. Atk=74, Sp. Def=63, Speed=118, Generation=6, Legendary=False),\n",
       " Row(#=702, Name='Dedenne', Type 1='Electric', Type 2='Fairy', HP=67, Attack=58, Defense=57, Sp. Atk=81, Sp. Def=67, Speed=101, Generation=6, Legendary=False),\n",
       " Row(#=703, Name='Carbink', Type 1='Rock', Type 2='Fairy', HP=50, Attack=50, Defense=150, Sp. Atk=50, Sp. Def=150, Speed=50, Generation=6, Legendary=False),\n",
       " Row(#=704, Name='Goomy', Type 1='Dragon', Type 2=None, HP=45, Attack=50, Defense=35, Sp. Atk=55, Sp. Def=75, Speed=40, Generation=6, Legendary=False),\n",
       " Row(#=705, Name='Sliggoo', Type 1='Dragon', Type 2=None, HP=68, Attack=75, Defense=53, Sp. Atk=83, Sp. Def=113, Speed=60, Generation=6, Legendary=False),\n",
       " Row(#=706, Name='Goodra', Type 1='Dragon', Type 2=None, HP=90, Attack=100, Defense=70, Sp. Atk=110, Sp. Def=150, Speed=80, Generation=6, Legendary=False),\n",
       " Row(#=707, Name='Klefki', Type 1='Steel', Type 2='Fairy', HP=57, Attack=80, Defense=91, Sp. Atk=80, Sp. Def=87, Speed=75, Generation=6, Legendary=False),\n",
       " Row(#=708, Name='Phantump', Type 1='Ghost', Type 2='Grass', HP=43, Attack=70, Defense=48, Sp. Atk=50, Sp. Def=60, Speed=38, Generation=6, Legendary=False),\n",
       " Row(#=709, Name='Trevenant', Type 1='Ghost', Type 2='Grass', HP=85, Attack=110, Defense=76, Sp. Atk=65, Sp. Def=82, Speed=56, Generation=6, Legendary=False),\n",
       " Row(#=710, Name='PumpkabooAverage Size', Type 1='Ghost', Type 2='Grass', HP=49, Attack=66, Defense=70, Sp. Atk=44, Sp. Def=55, Speed=51, Generation=6, Legendary=False),\n",
       " Row(#=710, Name='PumpkabooSmall Size', Type 1='Ghost', Type 2='Grass', HP=44, Attack=66, Defense=70, Sp. Atk=44, Sp. Def=55, Speed=56, Generation=6, Legendary=False),\n",
       " Row(#=710, Name='PumpkabooLarge Size', Type 1='Ghost', Type 2='Grass', HP=54, Attack=66, Defense=70, Sp. Atk=44, Sp. Def=55, Speed=46, Generation=6, Legendary=False),\n",
       " Row(#=710, Name='PumpkabooSuper Size', Type 1='Ghost', Type 2='Grass', HP=59, Attack=66, Defense=70, Sp. Atk=44, Sp. Def=55, Speed=41, Generation=6, Legendary=False),\n",
       " Row(#=711, Name='GourgeistAverage Size', Type 1='Ghost', Type 2='Grass', HP=65, Attack=90, Defense=122, Sp. Atk=58, Sp. Def=75, Speed=84, Generation=6, Legendary=False),\n",
       " Row(#=711, Name='GourgeistSmall Size', Type 1='Ghost', Type 2='Grass', HP=55, Attack=85, Defense=122, Sp. Atk=58, Sp. Def=75, Speed=99, Generation=6, Legendary=False),\n",
       " Row(#=711, Name='GourgeistLarge Size', Type 1='Ghost', Type 2='Grass', HP=75, Attack=95, Defense=122, Sp. Atk=58, Sp. Def=75, Speed=69, Generation=6, Legendary=False),\n",
       " Row(#=711, Name='GourgeistSuper Size', Type 1='Ghost', Type 2='Grass', HP=85, Attack=100, Defense=122, Sp. Atk=58, Sp. Def=75, Speed=54, Generation=6, Legendary=False),\n",
       " Row(#=712, Name='Bergmite', Type 1='Ice', Type 2=None, HP=55, Attack=69, Defense=85, Sp. Atk=32, Sp. Def=35, Speed=28, Generation=6, Legendary=False),\n",
       " Row(#=713, Name='Avalugg', Type 1='Ice', Type 2=None, HP=95, Attack=117, Defense=184, Sp. Atk=44, Sp. Def=46, Speed=28, Generation=6, Legendary=False),\n",
       " Row(#=714, Name='Noibat', Type 1='Flying', Type 2='Dragon', HP=40, Attack=30, Defense=35, Sp. Atk=45, Sp. Def=40, Speed=55, Generation=6, Legendary=False),\n",
       " Row(#=715, Name='Noivern', Type 1='Flying', Type 2='Dragon', HP=85, Attack=70, Defense=80, Sp. Atk=97, Sp. Def=80, Speed=123, Generation=6, Legendary=False),\n",
       " Row(#=716, Name='Xerneas', Type 1='Fairy', Type 2=None, HP=126, Attack=131, Defense=95, Sp. Atk=131, Sp. Def=98, Speed=99, Generation=6, Legendary=True),\n",
       " Row(#=717, Name='Yveltal', Type 1='Dark', Type 2='Flying', HP=126, Attack=131, Defense=95, Sp. Atk=131, Sp. Def=98, Speed=99, Generation=6, Legendary=True),\n",
       " Row(#=718, Name='Zygarde50% Forme', Type 1='Dragon', Type 2='Ground', HP=108, Attack=100, Defense=121, Sp. Atk=81, Sp. Def=95, Speed=95, Generation=6, Legendary=True),\n",
       " Row(#=719, Name='Diancie', Type 1='Rock', Type 2='Fairy', HP=50, Attack=100, Defense=150, Sp. Atk=100, Sp. Def=150, Speed=50, Generation=6, Legendary=True),\n",
       " Row(#=719, Name='DiancieMega Diancie', Type 1='Rock', Type 2='Fairy', HP=50, Attack=160, Defense=110, Sp. Atk=160, Sp. Def=110, Speed=110, Generation=6, Legendary=True),\n",
       " Row(#=720, Name='HoopaHoopa Confined', Type 1='Psychic', Type 2='Ghost', HP=80, Attack=110, Defense=60, Sp. Atk=150, Sp. Def=130, Speed=70, Generation=6, Legendary=True),\n",
       " Row(#=720, Name='HoopaHoopa Unbound', Type 1='Psychic', Type 2='Dark', HP=80, Attack=160, Defense=60, Sp. Atk=170, Sp. Def=130, Speed=80, Generation=6, Legendary=True),\n",
       " Row(#=721, Name='Volcanion', Type 1='Fire', Type 2='Water', HP=80, Attack=110, Defense=120, Sp. Atk=130, Sp. Def=90, Speed=70, Generation=6, Legendary=True)]"
      ]
     },
     "execution_count": 15,
     "metadata": {},
     "output_type": "execute_result"
    }
   ],
   "source": [
    "# to drop the column and get the rest of data via collect method\n",
    "df_spark.drop('Name UpperCase').collect()"
   ]
  },
  {
   "cell_type": "markdown",
   "metadata": {},
   "source": [
    "### To Filter the pokemon data and get the pokemon which are legendary"
   ]
  },
  {
   "cell_type": "code",
   "execution_count": 13,
   "metadata": {},
   "outputs": [
    {
     "name": "stdout",
     "output_type": "stream",
     "text": [
      "+---+-------------------+--------+--------+---+------+-------+-------+-------+-----+----------+---------+\n",
      "|  #|               Name|  Type 1|  Type 2| HP|Attack|Defense|Sp. Atk|Sp. Def|Speed|Generation|Legendary|\n",
      "+---+-------------------+--------+--------+---+------+-------+-------+-------+-----+----------+---------+\n",
      "|144|           Articuno|     Ice|  Flying| 90|    85|    100|     95|    125|   85|         1|     true|\n",
      "|145|             Zapdos|Electric|  Flying| 90|    90|     85|    125|     90|  100|         1|     true|\n",
      "|146|            Moltres|    Fire|  Flying| 90|   100|     90|    125|     85|   90|         1|     true|\n",
      "|150|             Mewtwo| Psychic|    null|106|   110|     90|    154|     90|  130|         1|     true|\n",
      "|150|MewtwoMega Mewtwo X| Psychic|Fighting|106|   190|    100|    154|    100|  130|         1|     true|\n",
      "|150|MewtwoMega Mewtwo Y| Psychic|    null|106|   150|     70|    194|    120|  140|         1|     true|\n",
      "|243|             Raikou|Electric|    null| 90|    85|     75|    115|    100|  115|         2|     true|\n",
      "|244|              Entei|    Fire|    null|115|   115|     85|     90|     75|  100|         2|     true|\n",
      "|245|            Suicune|   Water|    null|100|    75|    115|     90|    115|   85|         2|     true|\n",
      "|249|              Lugia| Psychic|  Flying|106|    90|    130|     90|    154|  110|         2|     true|\n",
      "|250|              Ho-oh|    Fire|  Flying|106|   130|     90|    110|    154|   90|         2|     true|\n",
      "|377|           Regirock|    Rock|    null| 80|   100|    200|     50|    100|   50|         3|     true|\n",
      "|378|             Regice|     Ice|    null| 80|    50|    100|    100|    200|   50|         3|     true|\n",
      "|379|          Registeel|   Steel|    null| 80|    75|    150|     75|    150|   50|         3|     true|\n",
      "|380|             Latias|  Dragon| Psychic| 80|    80|     90|    110|    130|  110|         3|     true|\n",
      "|380|  LatiasMega Latias|  Dragon| Psychic| 80|   100|    120|    140|    150|  110|         3|     true|\n",
      "|381|             Latios|  Dragon| Psychic| 80|    90|     80|    130|    110|  110|         3|     true|\n",
      "|381|  LatiosMega Latios|  Dragon| Psychic| 80|   130|    100|    160|    120|  110|         3|     true|\n",
      "|382|             Kyogre|   Water|    null|100|   100|     90|    150|    140|   90|         3|     true|\n",
      "|382|KyogrePrimal Kyogre|   Water|    null|100|   150|     90|    180|    160|   90|         3|     true|\n",
      "+---+-------------------+--------+--------+---+------+-------+-------+-------+-----+----------+---------+\n",
      "only showing top 20 rows\n",
      "\n"
     ]
    }
   ],
   "source": [
    "df_spark.filter(df_spark.Legendary ==True).show()"
   ]
  },
  {
   "cell_type": "markdown",
   "metadata": {},
   "source": [
    "### Filter the pokemon which are legendary and have Attack power over 100"
   ]
  },
  {
   "cell_type": "code",
   "execution_count": 19,
   "metadata": {},
   "outputs": [
    {
     "name": "stdout",
     "output_type": "stream",
     "text": [
      "+---+--------------------+-------+--------+---+------+-------+-------+-------+-----+----------+---------+\n",
      "|  #|                Name| Type 1|  Type 2| HP|Attack|Defense|Sp. Atk|Sp. Def|Speed|Generation|Legendary|\n",
      "+---+--------------------+-------+--------+---+------+-------+-------+-------+-----+----------+---------+\n",
      "|150|              Mewtwo|Psychic|    null|106|   110|     90|    154|     90|  130|         1|     true|\n",
      "|150| MewtwoMega Mewtwo X|Psychic|Fighting|106|   190|    100|    154|    100|  130|         1|     true|\n",
      "|150| MewtwoMega Mewtwo Y|Psychic|    null|106|   150|     70|    194|    120|  140|         1|     true|\n",
      "|244|               Entei|   Fire|    null|115|   115|     85|     90|     75|  100|         2|     true|\n",
      "|250|               Ho-oh|   Fire|  Flying|106|   130|     90|    110|    154|   90|         2|     true|\n",
      "|381|   LatiosMega Latios| Dragon| Psychic| 80|   130|    100|    160|    120|  110|         3|     true|\n",
      "|382| KyogrePrimal Kyogre|  Water|    null|100|   150|     90|    180|    160|   90|         3|     true|\n",
      "|383|             Groudon| Ground|    null|100|   150|    140|    100|     90|   90|         3|     true|\n",
      "|383|GroudonPrimal Gro...| Ground|    Fire|100|   180|    160|    150|     90|   90|         3|     true|\n",
      "|384|            Rayquaza| Dragon|  Flying|105|   150|     90|    150|     90|   95|         3|     true|\n",
      "|384|RayquazaMega Rayq...| Dragon|  Flying|105|   180|    100|    180|    100|  115|         3|     true|\n",
      "|386|  DeoxysNormal Forme|Psychic|    null| 50|   150|     50|    150|     50|  150|         3|     true|\n",
      "|386|  DeoxysAttack Forme|Psychic|    null| 50|   180|     20|    180|     20|  150|         3|     true|\n",
      "|481|             Mesprit|Psychic|    null| 80|   105|    105|    105|    105|   80|         4|     true|\n",
      "|482|               Azelf|Psychic|    null| 75|   125|     70|    125|     70|  115|         4|     true|\n",
      "|483|              Dialga|  Steel|  Dragon|100|   120|    120|    150|    100|   90|         4|     true|\n",
      "|484|              Palkia|  Water|  Dragon| 90|   120|    100|    150|    120|  100|         4|     true|\n",
      "|486|           Regigigas| Normal|    null|110|   160|    110|     80|    110|  100|         4|     true|\n",
      "|487|GiratinaOrigin Forme|  Ghost|  Dragon|150|   120|    100|    120|    100|   90|         4|     true|\n",
      "|492|    ShayminSky Forme|  Grass|  Flying|100|   103|     75|    120|     75|  127|         4|     true|\n",
      "+---+--------------------+-------+--------+---+------+-------+-------+-------+-----+----------+---------+\n",
      "only showing top 20 rows\n",
      "\n"
     ]
    }
   ],
   "source": [
    "df_spark.filter((df_spark.Legendary==True) & (df_spark.Attack>100)).show()"
   ]
  },
  {
   "cell_type": "markdown",
   "metadata": {},
   "source": [
    "#### To use or condition in filter in data frame"
   ]
  },
  {
   "cell_type": "code",
   "execution_count": 20,
   "metadata": {},
   "outputs": [
    {
     "name": "stdout",
     "output_type": "stream",
     "text": [
      "+---+--------------------+------+------+---+------+-------+-------+-------+-----+----------+---------+\n",
      "|  #|                Name|Type 1|Type 2| HP|Attack|Defense|Sp. Atk|Sp. Def|Speed|Generation|Legendary|\n",
      "+---+--------------------+------+------+---+------+-------+-------+-------+-----+----------+---------+\n",
      "|  1|           Bulbasaur| Grass|Poison| 45|    49|     49|     65|     65|   45|         1|    false|\n",
      "|  2|             Ivysaur| Grass|Poison| 60|    62|     63|     80|     80|   60|         1|    false|\n",
      "|  3|            Venusaur| Grass|Poison| 80|    82|     83|    100|    100|   80|         1|    false|\n",
      "|  3|VenusaurMega Venu...| Grass|Poison| 80|   100|    123|    122|    120|   80|         1|    false|\n",
      "|  4|          Charmander|  Fire|  null| 39|    52|     43|     60|     50|   65|         1|    false|\n",
      "|  5|          Charmeleon|  Fire|  null| 58|    64|     58|     80|     65|   80|         1|    false|\n",
      "|  6|           Charizard|  Fire|Flying| 78|    84|     78|    109|     85|  100|         1|    false|\n",
      "|  6|CharizardMega Cha...|  Fire|Dragon| 78|   130|    111|    130|     85|  100|         1|    false|\n",
      "|  6|CharizardMega Cha...|  Fire|Flying| 78|   104|     78|    159|    115|  100|         1|    false|\n",
      "|  7|            Squirtle| Water|  null| 44|    48|     65|     50|     64|   43|         1|    false|\n",
      "|  8|           Wartortle| Water|  null| 59|    63|     80|     65|     80|   58|         1|    false|\n",
      "|  9|           Blastoise| Water|  null| 79|    83|    100|     85|    105|   78|         1|    false|\n",
      "|  9|BlastoiseMega Bla...| Water|  null| 79|   103|    120|    135|    115|   78|         1|    false|\n",
      "| 10|            Caterpie|   Bug|  null| 45|    30|     35|     20|     20|   45|         1|    false|\n",
      "| 11|             Metapod|   Bug|  null| 50|    20|     55|     25|     25|   30|         1|    false|\n",
      "| 12|          Butterfree|   Bug|Flying| 60|    45|     50|     90|     80|   70|         1|    false|\n",
      "| 13|              Weedle|   Bug|Poison| 40|    35|     30|     20|     20|   50|         1|    false|\n",
      "| 14|              Kakuna|   Bug|Poison| 45|    25|     50|     25|     25|   35|         1|    false|\n",
      "| 15|            Beedrill|   Bug|Poison| 65|    90|     40|     45|     80|   75|         1|    false|\n",
      "| 15|BeedrillMega Beed...|   Bug|Poison| 65|   150|     40|     15|     80|  145|         1|    false|\n",
      "+---+--------------------+------+------+---+------+-------+-------+-------+-----+----------+---------+\n",
      "only showing top 20 rows\n",
      "\n"
     ]
    }
   ],
   "source": [
    "df_spark.filter((df_spark.Defense>=80) | (df_spark.Defense<=100)).show()"
   ]
  },
  {
   "cell_type": "markdown",
   "metadata": {},
   "source": [
    "#### to use not condition to filter and show the pokemon which are not legendary"
   ]
  },
  {
   "cell_type": "code",
   "execution_count": 22,
   "metadata": {},
   "outputs": [
    {
     "name": "stdout",
     "output_type": "stream",
     "text": [
      "+---+--------------------+------+------+---+------+-------+-------+-------+-----+----------+---------+\n",
      "|  #|                Name|Type 1|Type 2| HP|Attack|Defense|Sp. Atk|Sp. Def|Speed|Generation|Legendary|\n",
      "+---+--------------------+------+------+---+------+-------+-------+-------+-----+----------+---------+\n",
      "|  1|           Bulbasaur| Grass|Poison| 45|    49|     49|     65|     65|   45|         1|    false|\n",
      "|  2|             Ivysaur| Grass|Poison| 60|    62|     63|     80|     80|   60|         1|    false|\n",
      "|  3|            Venusaur| Grass|Poison| 80|    82|     83|    100|    100|   80|         1|    false|\n",
      "|  3|VenusaurMega Venu...| Grass|Poison| 80|   100|    123|    122|    120|   80|         1|    false|\n",
      "|  4|          Charmander|  Fire|  null| 39|    52|     43|     60|     50|   65|         1|    false|\n",
      "|  5|          Charmeleon|  Fire|  null| 58|    64|     58|     80|     65|   80|         1|    false|\n",
      "|  6|           Charizard|  Fire|Flying| 78|    84|     78|    109|     85|  100|         1|    false|\n",
      "|  6|CharizardMega Cha...|  Fire|Dragon| 78|   130|    111|    130|     85|  100|         1|    false|\n",
      "|  6|CharizardMega Cha...|  Fire|Flying| 78|   104|     78|    159|    115|  100|         1|    false|\n",
      "|  7|            Squirtle| Water|  null| 44|    48|     65|     50|     64|   43|         1|    false|\n",
      "|  8|           Wartortle| Water|  null| 59|    63|     80|     65|     80|   58|         1|    false|\n",
      "|  9|           Blastoise| Water|  null| 79|    83|    100|     85|    105|   78|         1|    false|\n",
      "|  9|BlastoiseMega Bla...| Water|  null| 79|   103|    120|    135|    115|   78|         1|    false|\n",
      "| 10|            Caterpie|   Bug|  null| 45|    30|     35|     20|     20|   45|         1|    false|\n",
      "| 11|             Metapod|   Bug|  null| 50|    20|     55|     25|     25|   30|         1|    false|\n",
      "| 12|          Butterfree|   Bug|Flying| 60|    45|     50|     90|     80|   70|         1|    false|\n",
      "| 13|              Weedle|   Bug|Poison| 40|    35|     30|     20|     20|   50|         1|    false|\n",
      "| 14|              Kakuna|   Bug|Poison| 45|    25|     50|     25|     25|   35|         1|    false|\n",
      "| 15|            Beedrill|   Bug|Poison| 65|    90|     40|     45|     80|   75|         1|    false|\n",
      "| 15|BeedrillMega Beed...|   Bug|Poison| 65|   150|     40|     15|     80|  145|         1|    false|\n",
      "+---+--------------------+------+------+---+------+-------+-------+-------+-----+----------+---------+\n",
      "only showing top 20 rows\n",
      "\n"
     ]
    }
   ],
   "source": [
    "df_spark.filter(~(df_spark.Legendary== True)).show()"
   ]
  },
  {
   "cell_type": "markdown",
   "metadata": {},
   "source": [
    "### Sorting the pokemon data with high attack in descending order"
   ]
  },
  {
   "cell_type": "code",
   "execution_count": 16,
   "metadata": {},
   "outputs": [
    {
     "name": "stdout",
     "output_type": "stream",
     "text": [
      "+---+-----------------------+-------+--------+---+------+-------+-------+-------+-----+----------+---------+\n",
      "|#  |Name                   |Type 1 |Type 2  |HP |Attack|Defense|Sp. Atk|Sp. Def|Speed|Generation|Legendary|\n",
      "+---+-----------------------+-------+--------+---+------+-------+-------+-------+-----+----------+---------+\n",
      "|150|MewtwoMega Mewtwo X    |Psychic|Fighting|106|190   |100    |154    |100    |130  |1         |true     |\n",
      "|214|HeracrossMega Heracross|Bug    |Fighting|80 |185   |115    |40     |105    |75   |2         |false    |\n",
      "|383|GroudonPrimal Groudon  |Ground |Fire    |100|180   |160    |150    |90     |90   |3         |true     |\n",
      "|384|RayquazaMega Rayquaza  |Dragon |Flying  |105|180   |100    |180    |100    |115  |3         |true     |\n",
      "|386|DeoxysAttack Forme     |Psychic|null    |50 |180   |20     |180    |20     |150  |3         |true     |\n",
      "|646|KyuremBlack Kyurem     |Dragon |Ice     |125|170   |100    |120    |90     |95   |5         |true     |\n",
      "|445|GarchompMega Garchomp  |Dragon |Ground  |108|170   |115    |120    |95     |92   |4         |false    |\n",
      "|409|Rampardos              |Rock   |null    |97 |165   |60     |65     |50     |58   |4         |false    |\n",
      "|475|GalladeMega Gallade    |Psychic|Fighting|68 |165   |95     |65     |115    |110  |4         |false    |\n",
      "|354|BanetteMega Banette    |Ghost  |null    |64 |165   |75     |93     |83     |75   |3         |false    |\n",
      "|248|TyranitarMega Tyranitar|Rock   |Dark    |100|164   |150    |95     |120    |71   |2         |false    |\n",
      "|289|Slaking                |Normal |null    |150|160   |100    |95     |65     |100  |3         |false    |\n",
      "|486|Regigigas              |Normal |null    |110|160   |110    |80     |110    |100  |4         |true     |\n",
      "|257|BlazikenMega Blaziken  |Fire   |Fighting|80 |160   |80     |130    |80     |100  |3         |false    |\n",
      "|719|DiancieMega Diancie    |Rock   |Fairy   |50 |160   |110    |160    |110    |110  |6         |true     |\n",
      "|720|HoopaHoopa Unbound     |Psychic|Dark    |80 |160   |60     |170    |130    |80   |6         |true     |\n",
      "|130|GyaradosMega Gyarados  |Water  |Dark    |95 |155   |109    |70     |130    |81   |1         |false    |\n",
      "|127|PinsirMega Pinsir      |Bug    |Flying  |65 |155   |120    |65     |90     |105  |1         |false    |\n",
      "|359|AbsolMega Absol        |Dark   |null    |65 |150   |60     |115    |60     |115  |3         |false    |\n",
      "|386|DeoxysNormal Forme     |Psychic|null    |50 |150   |50     |150    |50     |150  |3         |true     |\n",
      "+---+-----------------------+-------+--------+---+------+-------+-------+-------+-----+----------+---------+\n",
      "only showing top 20 rows\n",
      "\n"
     ]
    }
   ],
   "source": [
    "df_spark.sort(\"Attack\",ascending=False).show(truncate=False)\n",
    "# df_spark.sort(df_spark.Attack.desc)"
   ]
  },
  {
   "cell_type": "markdown",
   "metadata": {},
   "source": [
    "### To drop the rows which have atleast one null value in them"
   ]
  },
  {
   "cell_type": "code",
   "execution_count": null,
   "metadata": {},
   "outputs": [],
   "source": [
    "df_spark.na.drop().show()"
   ]
  },
  {
   "cell_type": "markdown",
   "metadata": {},
   "source": [
    "#### To drop the rows which have all values in a row is null\n",
    "```\n",
    "df_spark.na.drop(how=\"all\").show()\n",
    "```\n",
    "\n",
    "#### To drop the rows that have more than two null values in column\n",
    "```\n",
    "df_spark.na.drop(how=\"any\",thresh=2).show()\n",
    "```\n",
    "\n",
    "#### To drop the rows that have null in particular column for example in Type 2 column of pokemon dataset\n",
    "```\n",
    "df_spark.na.drop(how=\"any\",subset=['Type 2']).show()\n",
    "```"
   ]
  },
  {
   "cell_type": "markdown",
   "metadata": {},
   "source": [
    "### To fill the null values in Column `Type 2` with value 'Pokemon'"
   ]
  },
  {
   "cell_type": "code",
   "execution_count": 17,
   "metadata": {},
   "outputs": [
    {
     "name": "stdout",
     "output_type": "stream",
     "text": [
      "+---+--------------------+------+-------+---+------+-------+-------+-------+-----+----------+---------+\n",
      "|  #|                Name|Type 1| Type 2| HP|Attack|Defense|Sp. Atk|Sp. Def|Speed|Generation|Legendary|\n",
      "+---+--------------------+------+-------+---+------+-------+-------+-------+-----+----------+---------+\n",
      "|  1|           Bulbasaur| Grass| Poison| 45|    49|     49|     65|     65|   45|         1|    false|\n",
      "|  2|             Ivysaur| Grass| Poison| 60|    62|     63|     80|     80|   60|         1|    false|\n",
      "|  3|            Venusaur| Grass| Poison| 80|    82|     83|    100|    100|   80|         1|    false|\n",
      "|  3|VenusaurMega Venu...| Grass| Poison| 80|   100|    123|    122|    120|   80|         1|    false|\n",
      "|  4|          Charmander|  Fire|pokemon| 39|    52|     43|     60|     50|   65|         1|    false|\n",
      "|  5|          Charmeleon|  Fire|pokemon| 58|    64|     58|     80|     65|   80|         1|    false|\n",
      "|  6|           Charizard|  Fire| Flying| 78|    84|     78|    109|     85|  100|         1|    false|\n",
      "|  6|CharizardMega Cha...|  Fire| Dragon| 78|   130|    111|    130|     85|  100|         1|    false|\n",
      "|  6|CharizardMega Cha...|  Fire| Flying| 78|   104|     78|    159|    115|  100|         1|    false|\n",
      "|  7|            Squirtle| Water|pokemon| 44|    48|     65|     50|     64|   43|         1|    false|\n",
      "|  8|           Wartortle| Water|pokemon| 59|    63|     80|     65|     80|   58|         1|    false|\n",
      "|  9|           Blastoise| Water|pokemon| 79|    83|    100|     85|    105|   78|         1|    false|\n",
      "|  9|BlastoiseMega Bla...| Water|pokemon| 79|   103|    120|    135|    115|   78|         1|    false|\n",
      "| 10|            Caterpie|   Bug|pokemon| 45|    30|     35|     20|     20|   45|         1|    false|\n",
      "| 11|             Metapod|   Bug|pokemon| 50|    20|     55|     25|     25|   30|         1|    false|\n",
      "| 12|          Butterfree|   Bug| Flying| 60|    45|     50|     90|     80|   70|         1|    false|\n",
      "| 13|              Weedle|   Bug| Poison| 40|    35|     30|     20|     20|   50|         1|    false|\n",
      "| 14|              Kakuna|   Bug| Poison| 45|    25|     50|     25|     25|   35|         1|    false|\n",
      "| 15|            Beedrill|   Bug| Poison| 65|    90|     40|     45|     80|   75|         1|    false|\n",
      "| 15|BeedrillMega Beed...|   Bug| Poison| 65|   150|     40|     15|     80|  145|         1|    false|\n",
      "+---+--------------------+------+-------+---+------+-------+-------+-------+-----+----------+---------+\n",
      "only showing top 20 rows\n",
      "\n"
     ]
    }
   ],
   "source": [
    "df_spark.na.fill('pokemon',['Type 2']).show()"
   ]
  },
  {
   "cell_type": "markdown",
   "metadata": {},
   "source": [
    "### Order By in pyspark Data Frame"
   ]
  },
  {
   "cell_type": "code",
   "execution_count": 11,
   "metadata": {},
   "outputs": [
    {
     "name": "stdout",
     "output_type": "stream",
     "text": [
      "+---+---------------------+--------+------+---+------+-------+-------+-------+-----+----------+---------+\n",
      "|#  |Name                 |Type 1  |Type 2|HP |Attack|Defense|Sp. Atk|Sp. Def|Speed|Generation|Legendary|\n",
      "+---+---------------------+--------+------+---+------+-------+-------+-------+-----+----------+---------+\n",
      "|516|Simipour             |Water   |null  |75 |98    |63     |98     |63     |101  |5         |FALSE    |\n",
      "|514|Simisear             |Fire    |null  |75 |98    |63     |98     |63     |101  |5         |FALSE    |\n",
      "|512|Simisage             |Grass   |null  |75 |98    |63     |98     |63     |101  |5         |FALSE    |\n",
      "|631|Heatmor              |Fire    |null  |85 |97    |66     |105    |66     |65   |5         |FALSE    |\n",
      "|372|Shelgon              |Dragon  |null  |65 |95    |100    |60     |50     |50   |3         |FALSE    |\n",
      "|181|AmpharosMega Ampharos|Electric|Dragon|90 |95    |105    |165    |110    |45   |2         |FALSE    |\n",
      "|75 |Graveler             |Rock    |Ground|55 |95    |115    |45     |45     |35   |1         |FALSE    |\n",
      "|711|GourgeistLarge Size  |Ghost   |Grass |75 |95    |122    |58     |75     |69   |6         |FALSE    |\n",
      "|472|Gliscor              |Ground  |Flying|75 |95    |125    |45     |75     |95   |4         |FALSE    |\n",
      "|558|Crustle              |Bug     |Rock  |70 |95    |125    |65     |75     |45   |5         |FALSE    |\n",
      "|91 |Cloyster             |Water   |Ice   |50 |95    |180    |85     |45     |70   |1         |FALSE    |\n",
      "|347|Anorith              |Rock    |Bug   |45 |95    |50     |40     |50     |75   |3         |FALSE    |\n",
      "|215|Sneasel              |Dark    |Ice   |55 |95    |55     |35     |75     |115  |2         |FALSE    |\n",
      "|126|Magmar               |Fire    |null  |65 |95    |57     |100    |85     |93   |1         |FALSE    |\n",
      "|573|Cinccino             |Normal  |null  |75 |95    |60     |65     |60     |115  |5         |FALSE    |\n",
      "|234|Stantler             |Normal  |null  |73 |95    |62     |85     |65     |85   |2         |FALSE    |\n",
      "|658|Greninja             |Water   |Dark  |72 |95    |67     |103    |71     |122  |6         |FALSE    |\n",
      "|467|Magmortar            |Fire    |null  |75 |95    |67     |125    |95     |83   |4         |FALSE    |\n",
      "|211|Qwilfish             |Water   |Poison|65 |95    |75     |55     |55     |85   |2         |FALSE    |\n",
      "|537|Seismitoad           |Water   |Ground|105|95    |75     |85     |75     |74   |5         |FALSE    |\n",
      "+---+---------------------+--------+------+---+------+-------+-------+-------+-----+----------+---------+\n",
      "only showing top 20 rows\n",
      "\n"
     ]
    }
   ],
   "source": [
    "df_spark.orderBy(df_spark.Attack.desc(),df_spark.Defense.asc()).show(truncate=False)"
   ]
  },
  {
   "cell_type": "markdown",
   "metadata": {},
   "source": [
    "### Group by the Type of Pokemon and get the count of each pokemon type"
   ]
  },
  {
   "cell_type": "code",
   "execution_count": 6,
   "metadata": {},
   "outputs": [
    {
     "data": {
      "text/plain": [
       "[Row(Type 1='Water', count=112),\n",
       " Row(Type 1='Poison', count=28),\n",
       " Row(Type 1='Steel', count=27),\n",
       " Row(Type 1='Rock', count=44),\n",
       " Row(Type 1='Ice', count=24),\n",
       " Row(Type 1='Ghost', count=32),\n",
       " Row(Type 1='Fairy', count=17),\n",
       " Row(Type 1='Psychic', count=57),\n",
       " Row(Type 1='Dragon', count=32),\n",
       " Row(Type 1='Flying', count=4),\n",
       " Row(Type 1='Bug', count=69),\n",
       " Row(Type 1='Electric', count=44),\n",
       " Row(Type 1='Fire', count=52),\n",
       " Row(Type 1='Ground', count=32),\n",
       " Row(Type 1='Dark', count=31),\n",
       " Row(Type 1='Fighting', count=27),\n",
       " Row(Type 1='Grass', count=70),\n",
       " Row(Type 1='Normal', count=98)]"
      ]
     },
     "execution_count": 6,
     "metadata": {},
     "output_type": "execute_result"
    }
   ],
   "source": [
    "df_spark.groupBy(df_spark[\"Type 1\"]).count().collect()"
   ]
  },
  {
   "cell_type": "markdown",
   "metadata": {},
   "source": [
    "### Group by to get the max Attack value of every type of pokemon"
   ]
  },
  {
   "cell_type": "code",
   "execution_count": 10,
   "metadata": {},
   "outputs": [
    {
     "name": "stdout",
     "output_type": "stream",
     "text": [
      "+--------+-----------+\n",
      "|  Type 1|max(Attack)|\n",
      "+--------+-----------+\n",
      "|   Water|        155|\n",
      "|  Poison|        106|\n",
      "|   Steel|        150|\n",
      "|    Rock|        165|\n",
      "|     Ice|        130|\n",
      "|   Ghost|        165|\n",
      "|   Fairy|        131|\n",
      "| Psychic|        190|\n",
      "|  Dragon|        180|\n",
      "|  Flying|        115|\n",
      "|     Bug|        185|\n",
      "|Electric|        123|\n",
      "|    Fire|        160|\n",
      "|  Ground|        180|\n",
      "|    Dark|        150|\n",
      "|Fighting|        145|\n",
      "|   Grass|        132|\n",
      "|  Normal|        160|\n",
      "+--------+-----------+\n",
      "\n"
     ]
    }
   ],
   "source": [
    "df_spark.groupBy(\"Type 1\").max(\"Attack\").show()"
   ]
  },
  {
   "cell_type": "markdown",
   "metadata": {},
   "source": [
    "#### To get the average defense of each pokemon type"
   ]
  },
  {
   "cell_type": "code",
   "execution_count": 23,
   "metadata": {},
   "outputs": [
    {
     "name": "stdout",
     "output_type": "stream",
     "text": [
      "+--------+------------------+\n",
      "|  Type 1|      avg(Defense)|\n",
      "+--------+------------------+\n",
      "|   Water| 72.94642857142857|\n",
      "|  Poison| 68.82142857142857|\n",
      "|   Steel|126.37037037037037|\n",
      "|    Rock|100.79545454545455|\n",
      "|     Ice| 71.41666666666667|\n",
      "|   Ghost|           81.1875|\n",
      "|   Fairy| 65.70588235294117|\n",
      "| Psychic|  67.6842105263158|\n",
      "|  Dragon|            86.375|\n",
      "|  Flying|             66.25|\n",
      "|     Bug| 70.72463768115942|\n",
      "|Electric| 66.29545454545455|\n",
      "|    Fire| 67.76923076923077|\n",
      "|  Ground|          84.84375|\n",
      "|    Dark|  70.2258064516129|\n",
      "|Fighting| 65.92592592592592|\n",
      "|   Grass|              70.8|\n",
      "|  Normal|  59.8469387755102|\n",
      "+--------+------------------+\n",
      "\n"
     ]
    }
   ],
   "source": [
    "df_spark.groupBy(\"Type 1\").avg(\"Defense\").show()"
   ]
  },
  {
   "cell_type": "markdown",
   "metadata": {},
   "source": [
    "### Joins in pyspark"
   ]
  },
  {
   "cell_type": "code",
   "execution_count": 9,
   "metadata": {},
   "outputs": [
    {
     "data": {
      "text/html": [
       "<table border='1'>\n",
       "<tr><th>CustomerId</th><th>CustomerName</th><th>District</th></tr>\n",
       "<tr><td>1</td><td>Sakthi</td><td>Tenkasi</td></tr>\n",
       "<tr><td>2</td><td>Eyuwankg</td><td>Thoothukudi</td></tr>\n",
       "<tr><td>3</td><td>Balaji</td><td>Chennai</td></tr>\n",
       "<tr><td>4</td><td>Sriram</td><td>Tirunelveli</td></tr>\n",
       "<tr><td>5</td><td>Kaviarasan</td><td>Tirunelveli</td></tr>\n",
       "<tr><td>6</td><td>prathip</td><td>Chennai</td></tr>\n",
       "</table>\n"
      ],
      "text/plain": [
       "+----------+------------+-----------+\n",
       "|CustomerId|CustomerName|   District|\n",
       "+----------+------------+-----------+\n",
       "|         1|      Sakthi|    Tenkasi|\n",
       "|         2|    Eyuwankg|Thoothukudi|\n",
       "|         3|      Balaji|    Chennai|\n",
       "|         4|      Sriram|Tirunelveli|\n",
       "|         5|  Kaviarasan|Tirunelveli|\n",
       "|         6|     prathip|    Chennai|\n",
       "+----------+------------+-----------+"
      ]
     },
     "execution_count": 9,
     "metadata": {},
     "output_type": "execute_result"
    }
   ],
   "source": [
    "# we are importing new dataset which contains customer details for performing joins\n",
    "df_customer = spark.read.csv('Customer_Details.csv',header=True,inferSchema=True)\n",
    "df_customer"
   ]
  },
  {
   "cell_type": "code",
   "execution_count": 7,
   "metadata": {},
   "outputs": [
    {
     "data": {
      "text/html": [
       "<table border='1'>\n",
       "<tr><th>OrderId</th><th>Car Name</th><th>OrderDate</th><th>CustomerId</th></tr>\n",
       "<tr><td>1</td><td>BMW iX</td><td>8/24/2022</td><td>3</td></tr>\n",
       "<tr><td>2</td><td>Rolls Royce Ghost</td><td>8/25/2022</td><td>1</td></tr>\n",
       "<tr><td>3</td><td>Audi RS7</td><td>8/26/2022</td><td>5</td></tr>\n",
       "<tr><td>4</td><td>Lamborghini Huracan</td><td>8/27/2022</td><td>2</td></tr>\n",
       "<tr><td>5</td><td>Mustang</td><td>8/28/2022</td><td>6</td></tr>\n",
       "<tr><td>6</td><td>Ferrari</td><td>8/29/2022</td><td>4</td></tr>\n",
       "<tr><td>7</td><td>Benz</td><td>8/30/2022</td><td>3</td></tr>\n",
       "<tr><td>8</td><td>Jaguar</td><td>8/31/2022</td><td>5</td></tr>\n",
       "<tr><td>9</td><td>Tesla Model x</td><td>9/1/2022</td><td>2</td></tr>\n",
       "<tr><td>10</td><td>Buggati Chiron</td><td>9/2/2022</td><td>2</td></tr>\n",
       "</table>\n"
      ],
      "text/plain": [
       "+-------+-------------------+---------+----------+\n",
       "|OrderId|           Car Name|OrderDate|CustomerId|\n",
       "+-------+-------------------+---------+----------+\n",
       "|      1|             BMW iX|8/24/2022|         3|\n",
       "|      2|  Rolls Royce Ghost|8/25/2022|         1|\n",
       "|      3|           Audi RS7|8/26/2022|         5|\n",
       "|      4|Lamborghini Huracan|8/27/2022|         2|\n",
       "|      5|            Mustang|8/28/2022|         6|\n",
       "|      6|            Ferrari|8/29/2022|         4|\n",
       "|      7|               Benz|8/30/2022|         3|\n",
       "|      8|             Jaguar|8/31/2022|         5|\n",
       "|      9|      Tesla Model x| 9/1/2022|         2|\n",
       "|     10|     Buggati Chiron| 9/2/2022|         2|\n",
       "+-------+-------------------+---------+----------+"
      ]
     },
     "execution_count": 7,
     "metadata": {},
     "output_type": "execute_result"
    }
   ],
   "source": [
    "# we are importing  new dataset which contains car order details \n",
    "df_car_order = spark.read.csv('CarOrderDetails.csv',header=True,inferSchema=True)\n",
    "df_car_order"
   ]
  },
  {
   "cell_type": "markdown",
   "metadata": {},
   "source": [
    "#### Perform Inner join both the data frames and get the Customer Name and Car Name"
   ]
  },
  {
   "cell_type": "code",
   "execution_count": 11,
   "metadata": {},
   "outputs": [
    {
     "data": {
      "text/html": [
       "<table border='1'>\n",
       "<tr><th>CustomerName</th><th>Car Name</th></tr>\n",
       "<tr><td>Balaji</td><td>BMW iX</td></tr>\n",
       "<tr><td>Sakthi</td><td>Rolls Royce Ghost</td></tr>\n",
       "<tr><td>Kaviarasan</td><td>Audi RS7</td></tr>\n",
       "<tr><td>Eyuwankg</td><td>Lamborghini Huracan</td></tr>\n",
       "<tr><td>prathip</td><td>Mustang</td></tr>\n",
       "<tr><td>Sriram</td><td>Ferrari</td></tr>\n",
       "<tr><td>Balaji</td><td>Benz</td></tr>\n",
       "<tr><td>Kaviarasan</td><td>Jaguar</td></tr>\n",
       "<tr><td>Eyuwankg</td><td>Tesla Model x</td></tr>\n",
       "<tr><td>Eyuwankg</td><td>Buggati Chiron</td></tr>\n",
       "</table>\n"
      ],
      "text/plain": [
       "+------------+-------------------+\n",
       "|CustomerName|           Car Name|\n",
       "+------------+-------------------+\n",
       "|      Balaji|             BMW iX|\n",
       "|      Sakthi|  Rolls Royce Ghost|\n",
       "|  Kaviarasan|           Audi RS7|\n",
       "|    Eyuwankg|Lamborghini Huracan|\n",
       "|     prathip|            Mustang|\n",
       "|      Sriram|            Ferrari|\n",
       "|      Balaji|               Benz|\n",
       "|  Kaviarasan|             Jaguar|\n",
       "|    Eyuwankg|      Tesla Model x|\n",
       "|    Eyuwankg|     Buggati Chiron|\n",
       "+------------+-------------------+"
      ]
     },
     "execution_count": 11,
     "metadata": {},
     "output_type": "execute_result"
    }
   ],
   "source": [
    "df_car_order.join(df_customer,df_customer.CustomerId == df_car_order.CustomerId,'inner').select(df_customer.CustomerName,df_car_order['Car Name'])"
   ]
  },
  {
   "cell_type": "markdown",
   "metadata": {},
   "source": [
    "#### To get the distinct customer name who ordered a car"
   ]
  },
  {
   "cell_type": "code",
   "execution_count": 22,
   "metadata": {},
   "outputs": [
    {
     "data": {
      "text/html": [
       "<table border='1'>\n",
       "<tr><th>CustomerName</th></tr>\n",
       "<tr><td>Eyuwankg</td></tr>\n",
       "<tr><td>prathip</td></tr>\n",
       "<tr><td>Kaviarasan</td></tr>\n",
       "<tr><td>Sriram</td></tr>\n",
       "<tr><td>Balaji</td></tr>\n",
       "<tr><td>Sakthi</td></tr>\n",
       "</table>\n"
      ],
      "text/plain": [
       "+------------+\n",
       "|CustomerName|\n",
       "+------------+\n",
       "|    Eyuwankg|\n",
       "|     prathip|\n",
       "|  Kaviarasan|\n",
       "|      Sriram|\n",
       "|      Balaji|\n",
       "|      Sakthi|\n",
       "+------------+"
      ]
     },
     "execution_count": 22,
     "metadata": {},
     "output_type": "execute_result"
    }
   ],
   "source": [
    "df_car_order.join(df_customer,df_customer.CustomerId == df_car_order.CustomerId,'inner').select(df_customer.CustomerName).distinct()"
   ]
  },
  {
   "cell_type": "markdown",
   "metadata": {},
   "source": [
    "#### use Left Join on df_customer on df_car_order"
   ]
  },
  {
   "cell_type": "code",
   "execution_count": 14,
   "metadata": {},
   "outputs": [
    {
     "data": {
      "text/html": [
       "<table border='1'>\n",
       "<tr><th>CustomerId</th><th>CustomerName</th><th>District</th><th>Car Name</th></tr>\n",
       "<tr><td>1</td><td>Sakthi</td><td>Tenkasi</td><td>Rolls Royce Ghost</td></tr>\n",
       "<tr><td>2</td><td>Eyuwankg</td><td>Thoothukudi</td><td>Buggati Chiron</td></tr>\n",
       "<tr><td>2</td><td>Eyuwankg</td><td>Thoothukudi</td><td>Tesla Model x</td></tr>\n",
       "<tr><td>2</td><td>Eyuwankg</td><td>Thoothukudi</td><td>Lamborghini Huracan</td></tr>\n",
       "<tr><td>3</td><td>Balaji</td><td>Chennai</td><td>Benz</td></tr>\n",
       "<tr><td>3</td><td>Balaji</td><td>Chennai</td><td>BMW iX</td></tr>\n",
       "<tr><td>4</td><td>Sriram</td><td>Tirunelveli</td><td>Ferrari</td></tr>\n",
       "<tr><td>5</td><td>Kaviarasan</td><td>Tirunelveli</td><td>Jaguar</td></tr>\n",
       "<tr><td>5</td><td>Kaviarasan</td><td>Tirunelveli</td><td>Audi RS7</td></tr>\n",
       "<tr><td>6</td><td>prathip</td><td>Chennai</td><td>Mustang</td></tr>\n",
       "</table>\n"
      ],
      "text/plain": [
       "+----------+------------+-----------+-------------------+\n",
       "|CustomerId|CustomerName|   District|           Car Name|\n",
       "+----------+------------+-----------+-------------------+\n",
       "|         1|      Sakthi|    Tenkasi|  Rolls Royce Ghost|\n",
       "|         2|    Eyuwankg|Thoothukudi|     Buggati Chiron|\n",
       "|         2|    Eyuwankg|Thoothukudi|      Tesla Model x|\n",
       "|         2|    Eyuwankg|Thoothukudi|Lamborghini Huracan|\n",
       "|         3|      Balaji|    Chennai|               Benz|\n",
       "|         3|      Balaji|    Chennai|             BMW iX|\n",
       "|         4|      Sriram|Tirunelveli|            Ferrari|\n",
       "|         5|  Kaviarasan|Tirunelveli|             Jaguar|\n",
       "|         5|  Kaviarasan|Tirunelveli|           Audi RS7|\n",
       "|         6|     prathip|    Chennai|            Mustang|\n",
       "+----------+------------+-----------+-------------------+"
      ]
     },
     "execution_count": 14,
     "metadata": {},
     "output_type": "execute_result"
    }
   ],
   "source": [
    "df_customer.join(df_car_order,df_customer.CustomerId == df_car_order.CustomerId,'left').select(df_customer.CustomerId,df_customer.CustomerName,df_customer.District,df_car_order['Car Name'])"
   ]
  },
  {
   "cell_type": "markdown",
   "metadata": {},
   "source": [
    "#### Right outer join on car order details with customer name"
   ]
  },
  {
   "cell_type": "code",
   "execution_count": 19,
   "metadata": {},
   "outputs": [
    {
     "data": {
      "text/html": [
       "<table border='1'>\n",
       "<tr><th>OrderId</th><th>CustomerName</th><th>Car Name</th></tr>\n",
       "<tr><td>1</td><td>Balaji</td><td>BMW iX</td></tr>\n",
       "<tr><td>2</td><td>Sakthi</td><td>Rolls Royce Ghost</td></tr>\n",
       "<tr><td>3</td><td>Kaviarasan</td><td>Audi RS7</td></tr>\n",
       "<tr><td>4</td><td>Eyuwankg</td><td>Lamborghini Huracan</td></tr>\n",
       "<tr><td>5</td><td>prathip</td><td>Mustang</td></tr>\n",
       "<tr><td>6</td><td>Sriram</td><td>Ferrari</td></tr>\n",
       "<tr><td>7</td><td>Balaji</td><td>Benz</td></tr>\n",
       "<tr><td>8</td><td>Kaviarasan</td><td>Jaguar</td></tr>\n",
       "<tr><td>9</td><td>Eyuwankg</td><td>Tesla Model x</td></tr>\n",
       "<tr><td>10</td><td>Eyuwankg</td><td>Buggati Chiron</td></tr>\n",
       "</table>\n"
      ],
      "text/plain": [
       "+-------+------------+-------------------+\n",
       "|OrderId|CustomerName|           Car Name|\n",
       "+-------+------------+-------------------+\n",
       "|      1|      Balaji|             BMW iX|\n",
       "|      2|      Sakthi|  Rolls Royce Ghost|\n",
       "|      3|  Kaviarasan|           Audi RS7|\n",
       "|      4|    Eyuwankg|Lamborghini Huracan|\n",
       "|      5|     prathip|            Mustang|\n",
       "|      6|      Sriram|            Ferrari|\n",
       "|      7|      Balaji|               Benz|\n",
       "|      8|  Kaviarasan|             Jaguar|\n",
       "|      9|    Eyuwankg|      Tesla Model x|\n",
       "|     10|    Eyuwankg|     Buggati Chiron|\n",
       "+-------+------------+-------------------+"
      ]
     },
     "execution_count": 19,
     "metadata": {},
     "output_type": "execute_result"
    }
   ],
   "source": [
    "df_customer.join(df_car_order,df_customer.CustomerId == df_car_order.CustomerId,'right_outer').select(df_car_order.OrderId,df_customer.CustomerName,df_car_order['Car Name'])"
   ]
  },
  {
   "cell_type": "markdown",
   "metadata": {},
   "source": [
    "#### Other Joins in pyspark data frame\n",
    "\n",
    "#### default `inner`. Must be one of: `inner`, `cross`, `outer`, `full`, `fullouter`, `full_outer`, `left`, `leftouter`, `left_outer`, `right`, `rightouter`, `right_outer`, `semi`, `leftsemi`, `left_semi`, `anti`, `leftanti` and `left_anti`."
   ]
  },
  {
   "cell_type": "markdown",
   "metadata": {},
   "source": [
    "### List comprehension"
   ]
  },
  {
   "cell_type": "markdown",
   "metadata": {},
   "source": [
    "#### To Use list comprehension to fetch the customer name and district\n"
   ]
  },
  {
   "cell_type": "code",
   "execution_count": 27,
   "metadata": {},
   "outputs": [],
   "source": [
    "customerColumnList =['CustomerName','District'] "
   ]
  },
  {
   "cell_type": "code",
   "execution_count": 24,
   "metadata": {},
   "outputs": [
    {
     "data": {
      "text/html": [
       "<table border='1'>\n",
       "<tr><th>CustomerName</th><th>District</th></tr>\n",
       "<tr><td>Sakthi</td><td>Tenkasi</td></tr>\n",
       "<tr><td>Eyuwankg</td><td>Thoothukudi</td></tr>\n",
       "<tr><td>Balaji</td><td>Chennai</td></tr>\n",
       "<tr><td>Sriram</td><td>Tirunelveli</td></tr>\n",
       "<tr><td>Kaviarasan</td><td>Tirunelveli</td></tr>\n",
       "<tr><td>prathip</td><td>Chennai</td></tr>\n",
       "</table>\n"
      ],
      "text/plain": [
       "+------------+-----------+\n",
       "|CustomerName|   District|\n",
       "+------------+-----------+\n",
       "|      Sakthi|    Tenkasi|\n",
       "|    Eyuwankg|Thoothukudi|\n",
       "|      Balaji|    Chennai|\n",
       "|      Sriram|Tirunelveli|\n",
       "|  Kaviarasan|Tirunelveli|\n",
       "|     prathip|    Chennai|\n",
       "+------------+-----------+"
      ]
     },
     "execution_count": 24,
     "metadata": {},
     "output_type": "execute_result"
    }
   ],
   "source": [
    "df_customer.select([columnName for columnName in customerColumnList])"
   ]
  },
  {
   "cell_type": "markdown",
   "metadata": {},
   "source": [
    "#### using condition in list comprehension to select only CustomerName column from list"
   ]
  },
  {
   "cell_type": "code",
   "execution_count": 29,
   "metadata": {},
   "outputs": [
    {
     "data": {
      "text/html": [
       "<table border='1'>\n",
       "<tr><th>CustomerName</th></tr>\n",
       "<tr><td>Sakthi</td></tr>\n",
       "<tr><td>Eyuwankg</td></tr>\n",
       "<tr><td>Balaji</td></tr>\n",
       "<tr><td>Sriram</td></tr>\n",
       "<tr><td>Kaviarasan</td></tr>\n",
       "<tr><td>prathip</td></tr>\n",
       "</table>\n"
      ],
      "text/plain": [
       "+------------+\n",
       "|CustomerName|\n",
       "+------------+\n",
       "|      Sakthi|\n",
       "|    Eyuwankg|\n",
       "|      Balaji|\n",
       "|      Sriram|\n",
       "|  Kaviarasan|\n",
       "|     prathip|\n",
       "+------------+"
      ]
     },
     "execution_count": 29,
     "metadata": {},
     "output_type": "execute_result"
    }
   ],
   "source": [
    "df_customer.select([columnName for columnName in customerColumnList if columnName=='CustomerName'])"
   ]
  },
  {
   "cell_type": "markdown",
   "metadata": {},
   "source": [
    "#### using list comprehension to iterate through the data of customer and print them "
   ]
  },
  {
   "cell_type": "code",
   "execution_count": 31,
   "metadata": {},
   "outputs": [
    {
     "name": "stdout",
     "output_type": "stream",
     "text": [
      "1 Sakthi Tenkasi\n",
      "2 Eyuwankg Thoothukudi\n",
      "3 Balaji Chennai\n",
      "4 Sriram Tirunelveli\n",
      "5 Kaviarasan Tirunelveli\n",
      "6 prathip Chennai\n"
     ]
    },
    {
     "data": {
      "text/plain": [
       "[None, None, None, None, None, None]"
      ]
     },
     "execution_count": 31,
     "metadata": {},
     "output_type": "execute_result"
    }
   ],
   "source": [
    "[print(row[\"CustomerId\"],row[\"CustomerName\"],row[\"District\"]) for row in df_customer.collect()]"
   ]
  }
 ],
 "metadata": {
  "kernelspec": {
   "display_name": "Python 3.10.5 ('env': venv)",
   "language": "python",
   "name": "python3"
  },
  "language_info": {
   "codemirror_mode": {
    "name": "ipython",
    "version": 3
   },
   "file_extension": ".py",
   "mimetype": "text/x-python",
   "name": "python",
   "nbconvert_exporter": "python",
   "pygments_lexer": "ipython3",
   "version": "3.10.5"
  },
  "orig_nbformat": 4,
  "vscode": {
   "interpreter": {
    "hash": "561feadd4d667c47086a5f3c17f618eb29f27e5d01d779f096fa42053cb0a95b"
   }
  }
 },
 "nbformat": 4,
 "nbformat_minor": 2
}
